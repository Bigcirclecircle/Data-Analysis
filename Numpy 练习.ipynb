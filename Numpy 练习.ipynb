{
 "cells": [
  {
   "cell_type": "code",
   "execution_count": 16,
   "metadata": {},
   "outputs": [],
   "source": [
    "import pp"
   ]
  },
  {
   "cell_type": "code",
   "execution_count": 32,
   "metadata": {},
   "outputs": [],
   "source": [
    "def pprint(x,index):\n",
    "    for i in range(index):\n",
    "        name = x +str(i+1)\n",
    "        \n",
    "        print(name+\"输出结果为: \\n\",eval(name),'\\n')\n",
    "        \n",
    "# 发现一个问题，直接通过模块调用函数的方法行不通\n",
    "#因为跨文件的时候函数内部不能使用全局变量"
   ]
  },
  {
   "cell_type": "markdown",
   "metadata": {},
   "source": [
    "# 功能"
   ]
  },
  {
   "cell_type": "markdown",
   "metadata": {},
   "source": [
    "处理和存储大型矩阵。"
   ]
  },
  {
   "cell_type": "markdown",
   "metadata": {},
   "source": [
    "##  基本操作"
   ]
  },
  {
   "cell_type": "markdown",
   "metadata": {},
   "source": [
    "创建数组"
   ]
  },
  {
   "cell_type": "markdown",
   "metadata": {},
   "source": [
    "方法一"
   ]
  },
  {
   "cell_type": "code",
   "execution_count": 1,
   "metadata": {},
   "outputs": [
    {
     "data": {
      "text/plain": [
       "[1, 3, 5, 7, 9]"
      ]
     },
     "execution_count": 1,
     "metadata": {},
     "output_type": "execute_result"
    }
   ],
   "source": [
    "\n",
    "import numpy as np \n",
    "\n",
    "l = list(range(1,10,2)) # 先创建个列表\n",
    "l"
   ]
  },
  {
   "cell_type": "code",
   "execution_count": 2,
   "metadata": {},
   "outputs": [
    {
     "data": {
      "text/plain": [
       "array([1, 3, 5, 7, 9])"
      ]
     },
     "execution_count": 2,
     "metadata": {},
     "output_type": "execute_result"
    }
   ],
   "source": [
    "arr = np.array(l) # 转成array \n",
    "arr"
   ]
  },
  {
   "cell_type": "code",
   "execution_count": 3,
   "metadata": {},
   "outputs": [
    {
     "data": {
      "text/plain": [
       "numpy.ndarray"
      ]
     },
     "execution_count": 3,
     "metadata": {},
     "output_type": "execute_result"
    }
   ],
   "source": [
    "type(arr)  # 看一下数据类型"
   ]
  },
  {
   "cell_type": "markdown",
   "metadata": {},
   "source": [
    "方法二"
   ]
  },
  {
   "cell_type": "code",
   "execution_count": 41,
   "metadata": {},
   "outputs": [
    {
     "name": "stdout",
     "output_type": "stream",
     "text": [
      "a1输出结果为: \n",
      " [1. 1. 1. 1. 1. 1. 1. 1. 1. 1.] \n",
      "\n",
      "a2输出结果为: \n",
      " [0. 0. 0. 0. 0. 0. 0. 0. 0. 0.] \n",
      "\n",
      "a3输出结果为: \n",
      " [[2.718 2.718 2.718]\n",
      " [2.718 2.718 2.718]] \n",
      "\n",
      "a4输出结果为: \n",
      " [ 0  2  4  6  8 10 12 14 16 18] \n",
      "\n",
      "a5输出结果为: \n",
      " [0.  4.5 9. ] \n",
      "\n",
      "a6输出结果为: \n",
      " [73 38 14 79 68 79 55 87 44 39] \n",
      "\n",
      "a7输出结果为: \n",
      " [-0.23729201 -0.56697742  1.56617739 -0.41276923  0.06499482] \n",
      "\n",
      "a8输出结果为: \n",
      " [0.65660321 0.05895132 0.60870573 0.70013534 0.47556808] \n",
      "\n"
     ]
    }
   ],
   "source": [
    "import numpy as np \n",
    "a1 = np.ones(10)  # 全1 指定10个\n",
    "a2 = np.zeros(10) # 全0 指定10个\n",
    "a3 = np.full(shape = [2,3],fill_value = 2.718) # 2行3列 指定元素是2.718\n",
    "a4 = np.arange(start = 0 ,stop = 20,step = 2) # 等差数列 步长是2\n",
    "a5 = np.linspace(start = 0 , stop = 9 ,num = 3) # num决定了有几个元素\n",
    "a6 = np.random.randint(0,100,size = 10) # 随机整数 指定个数是10\n",
    "a7 = np.random.randn(5) # 正态分布\n",
    "a8 = np.random.random(size = 5) #随机浮点 指定个数是5 \n",
    "\n",
    "pprint('a',8)"
   ]
  },
  {
   "cell_type": "markdown",
   "metadata": {},
   "source": [
    "查看数组"
   ]
  },
  {
   "cell_type": "code",
   "execution_count": 44,
   "metadata": {},
   "outputs": [
    {
     "data": {
      "text/plain": [
       "array([[[50, 76, 59, 31, 10],\n",
       "        [26, 45, 40, 46, 59],\n",
       "        [74,  2, 40, 90, 13],\n",
       "        [54, 82, 74, 17, 98]],\n",
       "\n",
       "       [[86, 34, 83, 81, 38],\n",
       "        [25, 86, 70, 53, 51],\n",
       "        [43, 32, 60, 53, 99],\n",
       "        [12, 85, 44, 10, 23]],\n",
       "\n",
       "       [[57, 19, 48, 20, 42],\n",
       "        [18, 16, 99,  2, 94],\n",
       "        [ 6, 82, 30, 84, 32],\n",
       "        [71, 59, 22, 71, 24]]])"
      ]
     },
     "execution_count": 44,
     "metadata": {},
     "output_type": "execute_result"
    }
   ],
   "source": [
    "import numpy as np \n",
    "arr = np.random.randint(0,100,size=(3,4,5)) # 3个4行5列\n",
    "arr"
   ]
  },
  {
   "cell_type": "code",
   "execution_count": 45,
   "metadata": {},
   "outputs": [
    {
     "name": "stdout",
     "output_type": "stream",
     "text": [
      "v1输出结果为: \n",
      " 3 \n",
      "\n",
      "v2输出结果为: \n",
      " (3, 4, 5) \n",
      "\n",
      "v3输出结果为: \n",
      " 60 \n",
      "\n",
      "v4输出结果为: \n",
      " int64 \n",
      "\n",
      "v5输出结果为: \n",
      " 8 \n",
      "\n"
     ]
    }
   ],
   "source": [
    "v1 = arr.ndim # 数组维度\n",
    "v2 = arr.shape #尺寸形状 3个4行5列\n",
    "v3 = arr.size  # 元素总个数\n",
    "v4 = arr.dtype #数组元素的类型  注意了 这个地方可以看到 array里的所有元素类型要一致\n",
    "v5 = arr.itemsize # 数据类型是int64 ， 一个字节8位  64/8 = 8\n",
    "\n",
    "pprint('v',5)"
   ]
  },
  {
   "cell_type": "markdown",
   "metadata": {},
   "source": [
    "文件IO （存取"
   ]
  },
  {
   "cell_type": "markdown",
   "metadata": {},
   "source": [
    "存一个array 用 save , 存多个array 用savez"
   ]
  },
  {
   "cell_type": "code",
   "execution_count": 51,
   "metadata": {},
   "outputs": [],
   "source": [
    "x = np.random.randn(5)\n",
    "y = np.arange(0,10,2) # 0-9 跨度是2 \n",
    "\n",
    "np.save('x_arr.npy',x)\n",
    "np.savez('xy_array.npz',xarr = x, yarr = y)"
   ]
  },
  {
   "cell_type": "markdown",
   "metadata": {},
   "source": [
    "取都用load "
   ]
  },
  {
   "cell_type": "code",
   "execution_count": 53,
   "metadata": {},
   "outputs": [
    {
     "data": {
      "text/plain": [
       "array([-1.1574776 ,  1.91279839, -0.18512853,  0.45573406,  0.22466963])"
      ]
     },
     "execution_count": 53,
     "metadata": {},
     "output_type": "execute_result"
    }
   ],
   "source": [
    "np.load('x_arr.npy')"
   ]
  },
  {
   "cell_type": "code",
   "execution_count": 54,
   "metadata": {
    "scrolled": true
   },
   "outputs": [
    {
     "data": {
      "text/plain": [
       "<numpy.lib.npyio.NpzFile at 0x1203676d8>"
      ]
     },
     "execution_count": 54,
     "metadata": {},
     "output_type": "execute_result"
    }
   ],
   "source": [
    "np.load('xy_array.npz')"
   ]
  },
  {
   "cell_type": "code",
   "execution_count": 55,
   "metadata": {},
   "outputs": [
    {
     "data": {
      "text/plain": [
       "array([0, 2, 4, 6, 8])"
      ]
     },
     "execution_count": 55,
     "metadata": {},
     "output_type": "execute_result"
    }
   ],
   "source": [
    "xc = np.load('xy_array.npz')\n",
    "\n",
    "xc['yarr'] # 读取类似字典\n"
   ]
  },
  {
   "cell_type": "markdown",
   "metadata": {},
   "source": [
    "读写 csv,txt文件"
   ]
  },
  {
   "cell_type": "code",
   "execution_count": 58,
   "metadata": {},
   "outputs": [
    {
     "data": {
      "text/plain": [
       "array([[6, 9, 4, 3],\n",
       "       [9, 6, 7, 1],\n",
       "       [4, 8, 2, 6]])"
      ]
     },
     "execution_count": 58,
     "metadata": {},
     "output_type": "execute_result"
    }
   ],
   "source": [
    "arr = np.random.randint(0,10,size = (3,4))\n",
    "arr"
   ]
  },
  {
   "cell_type": "code",
   "execution_count": 61,
   "metadata": {},
   "outputs": [
    {
     "data": {
      "text/plain": [
       "array([[6, 9, 4, 3],\n",
       "       [9, 6, 7, 1],\n",
       "       [4, 8, 2, 6]], dtype=int32)"
      ]
     },
     "execution_count": 61,
     "metadata": {},
     "output_type": "execute_result"
    }
   ],
   "source": [
    "#存\n",
    "np.savetxt('arr.csv',arr,delimiter = ',')\n",
    "#取\n",
    "np.loadtxt('arr.csv',delimiter = ',',dtype=np.int32)\n"
   ]
  },
  {
   "cell_type": "code",
   "execution_count": 62,
   "metadata": {},
   "outputs": [
    {
     "data": {
      "text/plain": [
       "array([[6, 9, 4, 3],\n",
       "       [9, 6, 7, 1],\n",
       "       [4, 8, 2, 6]], dtype=int32)"
      ]
     },
     "execution_count": 62,
     "metadata": {},
     "output_type": "execute_result"
    }
   ],
   "source": [
    "#存\n",
    "np.savetxt('arr.txt',arr,delimiter = ',')\n",
    "#取\n",
    "np.loadtxt('arr.txt',delimiter = ',',dtype=np.int32)"
   ]
  },
  {
   "cell_type": "markdown",
   "metadata": {},
   "source": [
    "# 数据类型"
   ]
  },
  {
   "cell_type": "markdown",
   "metadata": {},
   "source": [
    "int: int8、uint8、int16、int32、int64 \n",
    "\n",
    "float: float16、float32、float64\n",
    "\n",
    "str"
   ]
  },
  {
   "cell_type": "code",
   "execution_count": 63,
   "metadata": {},
   "outputs": [
    {
     "data": {
      "text/plain": [
       "array([1., 2., 5., 8., 2.], dtype=float32)"
      ]
     },
     "execution_count": 63,
     "metadata": {},
     "output_type": "execute_result"
    }
   ],
   "source": [
    "import numpy as np \n",
    "np.array([1,2,5,8,2],dtype = 'float32')\n"
   ]
  },
  {
   "cell_type": "code",
   "execution_count": 64,
   "metadata": {},
   "outputs": [
    {
     "data": {
      "text/plain": [
       "[0, 1, 2, 3, 4]"
      ]
     },
     "execution_count": 64,
     "metadata": {},
     "output_type": "execute_result"
    }
   ],
   "source": [
    "arr = list(range(5))\n",
    "arr"
   ]
  },
  {
   "cell_type": "code",
   "execution_count": 66,
   "metadata": {},
   "outputs": [
    {
     "data": {
      "text/plain": [
       "array([0., 1., 2., 3., 4.], dtype=float32)"
      ]
     },
     "execution_count": 66,
     "metadata": {},
     "output_type": "execute_result"
    }
   ],
   "source": [
    "np.asarray(arr,dtype = 'float32') # asarray 转换时指定类型"
   ]
  },
  {
   "cell_type": "code",
   "execution_count": 68,
   "metadata": {},
   "outputs": [
    {
     "data": {
      "text/plain": [
       "array([0, 1, 2, 3, 4], dtype=int32)"
      ]
     },
     "execution_count": 68,
     "metadata": {},
     "output_type": "execute_result"
    }
   ],
   "source": [
    "k1 = np.asarray(arr,dtype = 'float32')\n",
    "k1.astype('int32') # astype 直接换类型"
   ]
  },
  {
   "cell_type": "markdown",
   "metadata": {},
   "source": [
    "# 数组运算"
   ]
  },
  {
   "cell_type": "code",
   "execution_count": 73,
   "metadata": {},
   "outputs": [
    {
     "name": "stdout",
     "output_type": "stream",
     "text": [
      "[3 4 0 6 9 5 1 0 1 6] \n",
      " [3 1 7 5 0 6 4 6 7 0]\n"
     ]
    }
   ],
   "source": [
    "import numpy as np \n",
    "arr1 = np.random.randint(0,10,size = 10)\n",
    "arr2 = np.random.randint(0,10,size = 10)\n",
    "print(arr1,'\\n',arr2)"
   ]
  },
  {
   "cell_type": "code",
   "execution_count": 75,
   "metadata": {},
   "outputs": [
    {
     "name": "stdout",
     "output_type": "stream",
     "text": [
      "r1输出结果为: \n",
      " [ 0  3 -7  1  9 -1 -3 -6 -6  6] \n",
      "\n",
      "r2输出结果为: \n",
      " [ 9  4  0 30  0 30  4  0  7  0] \n",
      "\n",
      "r3输出结果为: \n",
      " [1.         4.         0.         1.2               inf 0.83333333\n",
      " 0.25       0.         0.14285714        inf] \n",
      "\n",
      "r4输出结果为: \n",
      " [   27     4     0  7776     1 15625     1     0     1     1] \n",
      "\n"
     ]
    },
    {
     "name": "stderr",
     "output_type": "stream",
     "text": [
      "/Users/jiajia/anaconda3/lib/python3.6/site-packages/ipykernel_launcher.py:3: RuntimeWarning: divide by zero encountered in true_divide\n",
      "  This is separate from the ipykernel package so we can avoid doing imports until\n"
     ]
    }
   ],
   "source": [
    "r1 = arr1 - arr2 \n",
    "r2 = arr1 * arr2 \n",
    "r3 = arr1 / arr2 \n",
    "r4 = arr1 ** arr2 \n",
    "# 全部都是元素一对一的计算 一个萝卜一个坑\n",
    "pprint('r',4)"
   ]
  },
  {
   "cell_type": "code",
   "execution_count": 77,
   "metadata": {},
   "outputs": [
    {
     "name": "stdout",
     "output_type": "stream",
     "text": [
      "[3 4 0 6 9 5 1 0 1 6]\n",
      "[3 1 7 5 0 6 4 6 7 0]\n",
      "x1输出结果为: \n",
      " [ True  True  True False False False  True  True  True False] \n",
      "\n",
      "x2输出结果为: \n",
      " [False False False  True  True  True False False False  True] \n",
      "\n",
      "x3输出结果为: \n",
      " [False False False False False  True False False False False] \n",
      "\n",
      "x4输出结果为: \n",
      " [ True False False False False False False False False False] \n",
      "\n",
      "x5输出结果为: \n",
      " [False  True False  True  True False False False False  True] \n",
      "\n"
     ]
    }
   ],
   "source": [
    "print(arr1)\n",
    "print(arr2)\n",
    "x1 = arr1 < 5 \n",
    "x2 = arr1 >= 5\n",
    "x3 = arr1 == 5 \n",
    "x4 = arr1 == arr2 \n",
    "x5 = arr1 > arr2 \n",
    "pprint('x',5)\n",
    "\n",
    "#也都是一对一的逻辑运算"
   ]
  },
  {
   "cell_type": "code",
   "execution_count": 79,
   "metadata": {},
   "outputs": [
    {
     "name": "stdout",
     "output_type": "stream",
     "text": [
      "[3 4 0 6 9 5 1 0 1 6]\n",
      "b1输出结果为: \n",
      " [0.33333333 0.25              inf 0.16666667 0.11111111 0.2\n",
      " 1.                inf 1.         0.16666667] \n",
      "\n",
      "b2输出结果为: \n",
      " [ 8  9  5 11 14 10  6  5  6 11] \n",
      "\n",
      "b3输出结果为: \n",
      " [15 20  0 30 45 25  5  0  5 30] \n",
      "\n"
     ]
    },
    {
     "name": "stderr",
     "output_type": "stream",
     "text": [
      "/Users/jiajia/anaconda3/lib/python3.6/site-packages/ipykernel_launcher.py:2: RuntimeWarning: divide by zero encountered in true_divide\n",
      "  \n"
     ]
    }
   ],
   "source": [
    "print(arr1)\n",
    "b1 = 1 / arr1\n",
    "b2 = arr1 + 5\n",
    "b3 = arr1 * 5\n",
    "\n",
    "pprint('b',3)\n",
    "\n",
    "#广播机制，一荣俱荣"
   ]
  },
  {
   "cell_type": "code",
   "execution_count": 80,
   "metadata": {},
   "outputs": [
    {
     "data": {
      "text/plain": [
       "array([10, 11,  7, 13, 16, 12,  8,  7,  8, 13])"
      ]
     },
     "execution_count": 80,
     "metadata": {},
     "output_type": "execute_result"
    }
   ],
   "source": [
    "#也可以\n",
    "arr1 += 7\n",
    "arr1\n",
    "# 不支持/=\n"
   ]
  },
  {
   "cell_type": "markdown",
   "metadata": {},
   "source": [
    "# 复制和视图"
   ]
  },
  {
   "cell_type": "code",
   "execution_count": 83,
   "metadata": {
    "scrolled": true
   },
   "outputs": [
    {
     "name": "stdout",
     "output_type": "stream",
     "text": [
      "[[23 52 85 25 24]\n",
      " [14 34 40 76 83]\n",
      " [87 65 57 96 55]\n",
      " [94 40 23 66 99]] \n",
      "\n",
      "[[23 52 85 25 24]\n",
      " [14 34 40 76 83]\n",
      " [87 65 57 96 55]\n",
      " [94 40 23 66 99]] \n",
      "\n",
      "[[ 28  57  90  30  29]\n",
      " [ 19  39  45  81  88]\n",
      " [ 92  70  62 101  60]\n",
      " [ 99  45  28  71 104]] \n",
      "\n",
      "[[ 28  57  90  30  29]\n",
      " [ 19  39  45  81  88]\n",
      " [ 92  70  62 101  60]\n",
      " [ 99  45  28  71 104]] \n",
      "\n"
     ]
    }
   ],
   "source": [
    "import numpy as np \n",
    "a = np.random.randint(1,100,size=(4,5)) # 1-100 整数 四行五列\n",
    "print(a,'\\n')\n",
    "b = a \n",
    "print(b,'\\n')\n",
    "a += 5\n",
    "print(a,'\\n')\n",
    "print(b,'\\n')\n",
    "\n",
    "# 这个和列表一样 赋值一起变"
   ]
  },
  {
   "cell_type": "code",
   "execution_count": 84,
   "metadata": {},
   "outputs": [
    {
     "data": {
      "text/plain": [
       "array([[ 28,  57,  90,  30,  29],\n",
       "       [ 19,  39,  45,  81,  88],\n",
       "       [ 92,  70,  62, 101,  60],\n",
       "       [ 99,  45,  28,  71, 104]])"
      ]
     },
     "metadata": {},
     "output_type": "display_data"
    },
    {
     "data": {
      "text/plain": [
       "array([[ 28,  57,  90,  30,  29],\n",
       "       [ 19,  39,  45,  81,  88],\n",
       "       [ 92,  70,  62, 101,  60],\n",
       "       [ 99,  45,  28,  71, 104]])"
      ]
     },
     "metadata": {},
     "output_type": "display_data"
    }
   ],
   "source": [
    "display(a,b) # display 也可以打印"
   ]
  },
  {
   "cell_type": "code",
   "execution_count": 85,
   "metadata": {
    "scrolled": true
   },
   "outputs": [
    {
     "data": {
      "text/plain": [
       "array([[37, 99, 88, 41, 71],\n",
       "       [41, 49, 79, 15,  8],\n",
       "       [11, 36, 33, 96, 70],\n",
       "       [15, 26, 95, 91, 38]])"
      ]
     },
     "metadata": {},
     "output_type": "display_data"
    },
    {
     "data": {
      "text/plain": [
       "array([[32, 94, 83, 36, 66],\n",
       "       [36, 44, 74, 10,  3],\n",
       "       [ 6, 31, 28, 91, 65],\n",
       "       [10, 21, 90, 86, 33]])"
      ]
     },
     "metadata": {},
     "output_type": "display_data"
    }
   ],
   "source": [
    "# copy 还是好用的\n",
    "\n",
    "import numpy as np \n",
    "a = np.random.randint(0,100,size = (4,5))\n",
    "b = a.copy()\n",
    "b is a \n",
    "b.base is a \n",
    "b.flags.owndata\n",
    "b.flags.owndata\n",
    "a += 5 \n",
    "display(a,b)\n",
    "\n",
    "#各过各的"
   ]
  },
  {
   "cell_type": "code",
   "execution_count": 91,
   "metadata": {
    "scrolled": true
   },
   "outputs": [
    {
     "data": {
      "text/plain": [
       "100000000"
      ]
     },
     "execution_count": 91,
     "metadata": {},
     "output_type": "execute_result"
    }
   ],
   "source": [
    "#场景 大批量数据抽样 然后留下样本 删掉占地方的源数据 这个时候要copy 深拷贝\n",
    "\n",
    "import numpy as np \n",
    "a = np.arange(1e8)\n",
    "a.size"
   ]
  },
  {
   "cell_type": "code",
   "execution_count": 92,
   "metadata": {},
   "outputs": [
    {
     "data": {
      "text/plain": [
       "100"
      ]
     },
     "execution_count": 92,
     "metadata": {},
     "output_type": "execute_result"
    }
   ],
   "source": [
    "b = a[::1000000].copy() # 保留抽样数据\n",
    "b.size"
   ]
  },
  {
   "cell_type": "code",
   "execution_count": 93,
   "metadata": {},
   "outputs": [],
   "source": [
    "del a  # 删掉占地方的源数据"
   ]
  },
  {
   "cell_type": "markdown",
   "metadata": {},
   "source": [
    "# 索引 切片 迭代"
   ]
  },
  {
   "cell_type": "code",
   "execution_count": 97,
   "metadata": {
    "scrolled": true
   },
   "outputs": [
    {
     "data": {
      "text/plain": [
       "array([[1, 2, 3],\n",
       "       [4, 5, 6],\n",
       "       [7, 8, 9]])"
      ]
     },
     "execution_count": 97,
     "metadata": {},
     "output_type": "execute_result"
    }
   ],
   "source": [
    "arr2d = np.array([[1,2,3],[4,5,6],[7,8,9]])\n",
    "arr2d"
   ]
  },
  {
   "cell_type": "code",
   "execution_count": 99,
   "metadata": {},
   "outputs": [
    {
     "name": "stdout",
     "output_type": "stream",
     "text": [
      "d1输出结果为: \n",
      " 3 \n",
      "\n",
      "d2输出结果为: \n",
      " 7 \n",
      "\n",
      "d3输出结果为: \n",
      " [[2 3]\n",
      " [5 6]] \n",
      "\n",
      "d4输出结果为: \n",
      " [[2 3]\n",
      " [5 6]] \n",
      "\n"
     ]
    }
   ],
   "source": [
    "d1 = arr2d[0,2] # 输出（0,2) \n",
    "d2 = arr2d[-1,-3] # (1,0)\n",
    "d3 = arr2d[:2,1:] # 前两行，后两列\n",
    "d4 = arr2d[:2,-2:] #前两行 后两列\n",
    "\n",
    "pprint('d',4)\n",
    "\n",
    "#本质还是列表切片"
   ]
  },
  {
   "cell_type": "markdown",
   "metadata": {},
   "source": [
    "## 花式索引\n",
    "\n",
    "整数数组进行索引叫花式索引 把切下来的数据放到新数组"
   ]
  },
  {
   "cell_type": "code",
   "execution_count": 107,
   "metadata": {},
   "outputs": [
    {
     "data": {
      "text/plain": [
       "array([9, 8, 7, 6, 5, 4, 3, 2, 1, 0])"
      ]
     },
     "execution_count": 107,
     "metadata": {},
     "output_type": "execute_result"
    }
   ],
   "source": [
    "list1 = list(range(10))\n",
    "list1.reverse()\n",
    "arr1 = np.array(list1)\n",
    "arr1"
   ]
  },
  {
   "cell_type": "code",
   "execution_count": 5,
   "metadata": {},
   "outputs": [
    {
     "data": {
      "text/plain": [
       "array([9, 8, 7, 6, 5, 4, 3, 2, 1, 0])"
      ]
     },
     "execution_count": 5,
     "metadata": {},
     "output_type": "execute_result"
    }
   ],
   "source": [
    "import numpy as np \n",
    "arr1 = np.array([9, 8, 7, 6, 5, 4, 3, 2, 1, 0])\n",
    "arr1"
   ]
  },
  {
   "cell_type": "code",
   "execution_count": 108,
   "metadata": {
    "scrolled": true
   },
   "outputs": [
    {
     "data": {
      "text/plain": [
       "8"
      ]
     },
     "execution_count": 108,
     "metadata": {},
     "output_type": "execute_result"
    }
   ],
   "source": [
    "arr1[1]"
   ]
  },
  {
   "cell_type": "code",
   "execution_count": 2,
   "metadata": {},
   "outputs": [
    {
     "ename": "TypeError",
     "evalue": "list indices must be integers or slices, not list",
     "output_type": "error",
     "traceback": [
      "\u001b[0;31m---------------------------------------------------------------------------\u001b[0m",
      "\u001b[0;31mTypeError\u001b[0m                                 Traceback (most recent call last)",
      "\u001b[0;32m<ipython-input-2-337617f5ff7b>\u001b[0m in \u001b[0;36m<module>\u001b[0;34m()\u001b[0m\n\u001b[1;32m      1\u001b[0m \u001b[0mlix1\u001b[0m \u001b[0;34m=\u001b[0m \u001b[0;34m[\u001b[0m\u001b[0;36m1\u001b[0m\u001b[0;34m,\u001b[0m\u001b[0;36m2\u001b[0m\u001b[0;34m,\u001b[0m\u001b[0;36m3\u001b[0m\u001b[0;34m,\u001b[0m\u001b[0;36m4\u001b[0m\u001b[0;34m]\u001b[0m\u001b[0;34m\u001b[0m\u001b[0;34m\u001b[0m\u001b[0m\n\u001b[0;32m----> 2\u001b[0;31m \u001b[0mlix1\u001b[0m\u001b[0;34m[\u001b[0m\u001b[0;34m[\u001b[0m\u001b[0;36m1\u001b[0m\u001b[0;34m,\u001b[0m\u001b[0;36m2\u001b[0m\u001b[0;34m]\u001b[0m\u001b[0;34m]\u001b[0m\u001b[0;34m\u001b[0m\u001b[0;34m\u001b[0m\u001b[0m\n\u001b[0m",
      "\u001b[0;31mTypeError\u001b[0m: list indices must be integers or slices, not list"
     ]
    }
   ],
   "source": [
    "lix1 = [1,2,3,4]\n",
    "lix1[[1,2]]"
   ]
  },
  {
   "cell_type": "code",
   "execution_count": 110,
   "metadata": {},
   "outputs": [
    {
     "data": {
      "text/plain": [
       "array([7, 6, 5])"
      ]
     },
     "execution_count": 110,
     "metadata": {},
     "output_type": "execute_result"
    }
   ],
   "source": [
    "arr1[[2,3,4]] # 可以按索引取值"
   ]
  },
  {
   "cell_type": "code",
   "execution_count": 7,
   "metadata": {},
   "outputs": [
    {
     "data": {
      "text/plain": [
       "array([[40, 37, 34, 18, 46],\n",
       "       [33, 13, 44, 42,  9],\n",
       "       [ 8, 26, 48, 40, 26],\n",
       "       [23,  0, 45, 34, 22]])"
      ]
     },
     "execution_count": 7,
     "metadata": {},
     "output_type": "execute_result"
    }
   ],
   "source": [
    "arr2d = np.random.randint(0,50,size = (4,5))\n",
    "arr2d"
   ]
  },
  {
   "cell_type": "code",
   "execution_count": 113,
   "metadata": {
    "scrolled": true
   },
   "outputs": [
    {
     "data": {
      "text/plain": [
       "array([[11, 36, 44, 17, 24],\n",
       "       [ 5, 48,  4, 31, 14]])"
      ]
     },
     "execution_count": 113,
     "metadata": {},
     "output_type": "execute_result"
    }
   ],
   "source": [
    "arr2d[[1,3]] # 取第2行和第4行"
   ]
  },
  {
   "cell_type": "code",
   "execution_count": 115,
   "metadata": {},
   "outputs": [
    {
     "data": {
      "text/plain": [
       "array([44,  4])"
      ]
     },
     "execution_count": 115,
     "metadata": {},
     "output_type": "execute_result"
    }
   ],
   "source": [
    "arr2d[[1,3],[2]] # 取第2行和第4行 然后取第3列"
   ]
  },
  {
   "cell_type": "code",
   "execution_count": 23,
   "metadata": {},
   "outputs": [
    {
     "data": {
      "text/plain": [
       "array([26, 48, 26])"
      ]
     },
     "execution_count": 23,
     "metadata": {},
     "output_type": "execute_result"
    }
   ],
   "source": [
    "arr2d[[2],[1,2,1]] # 取第2行和第4行 然后取2行3列， 4行4列"
   ]
  },
  {
   "cell_type": "code",
   "execution_count": 25,
   "metadata": {},
   "outputs": [
    {
     "data": {
      "text/plain": [
       "array([[34, 40],\n",
       "       [44, 33],\n",
       "       [48,  8]])"
      ]
     },
     "execution_count": 25,
     "metadata": {},
     "output_type": "execute_result"
    }
   ],
   "source": [
    "arr2d[:3,[2,0]] "
   ]
  },
  {
   "cell_type": "code",
   "execution_count": 134,
   "metadata": {},
   "outputs": [
    {
     "name": "stdout",
     "output_type": "stream",
     "text": [
      "[[29 34 14 40 36]\n",
      " [11 36 44 17 24]\n",
      " [39 12 39 10 42]\n",
      " [ 5 48  4 31 14]]\n",
      "f1输出结果为: \n",
      " 44 \n",
      "\n",
      "f2输出结果为: \n",
      " [11 36 44 17 24] \n",
      "\n",
      "f3输出结果为: \n",
      " [39 12 39 10 42] \n",
      "\n",
      "f4输出结果为: \n",
      " 39 \n",
      "\n",
      "f5输出结果为: \n",
      " [[36 11]\n",
      " [12 39]] \n",
      "\n",
      "f6输出结果为: \n",
      " 39 \n",
      "\n",
      "f7输出结果为: \n",
      " [44 39] \n",
      "\n"
     ]
    }
   ],
   "source": [
    "print(arr2d)\n",
    "f1 = arr2d[1][2] # LC + L \n",
    "f2 = arr2d[[1,2]][0] # A + L \n",
    "f3 = arr2d[[1,2]][1] # A + L \n",
    "f4 = arr2d[[1,2]][1][2] # A + L + L \n",
    "\n",
    "f5 = arr2d[np.ix_([1,2],[1,0])] # 取(1,1)(1,0)(2,1)(2,0)\n",
    "f6 = arr2d[[1,2]][1,2] # A + LC\n",
    "f7 = arr2d[[1,2]][:,2] # A + LC\n",
    "\n",
    "pprint('f',7)\n",
    "\n",
    "#本质还是列表叠加"
   ]
  },
  {
   "cell_type": "code",
   "execution_count": 34,
   "metadata": {
    "scrolled": true
   },
   "outputs": [
    {
     "name": "stdout",
     "output_type": "stream",
     "text": [
      "[[40 37 34 18 46]\n",
      " [33 13 44 42  9]\n",
      " [ 8 26 48 40 26]\n",
      " [23  0 45 34 22]]\n",
      "d1输出结果为: \n",
      " 44 \n",
      "\n",
      "d2输出结果为: \n",
      " [18 42] \n",
      "\n",
      "d3输出结果为: \n",
      " [[18 46]\n",
      " [42  9]] \n",
      "\n",
      "d4输出结果为: \n",
      " [ 8 26 48 40 26] \n",
      "\n"
     ]
    }
   ],
   "source": [
    "print(arr2d)\n",
    "\n",
    "d1 = arr2d[1,2] # 取 (1,2)\n",
    "d2 = arr2d[:2,3] # 取 (0,3)(1,3)\n",
    "d3 = arr2d[:2,3:] # 取 (0,3)(0,4)(1,3)(1,4)\n",
    "d4 = arr2d[2] # 取 (2,0)(2,1)(2,2)(2,3)(2,4) # 一个参数的时候默认是第x行\n",
    "pprint('d',4)"
   ]
  },
  {
   "cell_type": "code",
   "execution_count": 36,
   "metadata": {},
   "outputs": [
    {
     "data": {
      "text/plain": [
       "array([[[41,  3, 37, 25,  1, 46],\n",
       "        [12, 49, 43,  8,  3, 43],\n",
       "        [ 4, 23, 38, 48, 12,  4],\n",
       "        [20, 40, 15, 35,  6,  1],\n",
       "        [ 3, 36, 32, 36, 14,  1]],\n",
       "\n",
       "       [[16, 39, 46, 31, 17, 24],\n",
       "        [19, 48, 19, 16, 25, 40],\n",
       "        [16, 25, 11,  5, 24, 23],\n",
       "        [36, 31,  2, 37, 11, 12],\n",
       "        [40, 15, 32, 42,  1,  0]],\n",
       "\n",
       "       [[19, 10, 11, 46, 20, 49],\n",
       "        [20, 42, 10,  5, 47, 32],\n",
       "        [49, 29, 12, 43, 27, 28],\n",
       "        [38, 21,  7, 17, 43, 23],\n",
       "        [ 3, 19, 39, 28, 19, 47]]])"
      ]
     },
     "execution_count": 36,
     "metadata": {},
     "output_type": "execute_result"
    }
   ],
   "source": [
    "arr3d = np.random.randint(0,50,size = 90).reshape(3,5,6)\n",
    "arr3d"
   ]
  },
  {
   "cell_type": "code",
   "execution_count": 47,
   "metadata": {},
   "outputs": [
    {
     "name": "stdout",
     "output_type": "stream",
     "text": [
      "[[[41  3 37 25  1 46]\n",
      "  [12 49 43  8  3 43]\n",
      "  [ 4 23 38 48 12  4]\n",
      "  [20 40 15 35  6  1]\n",
      "  [ 3 36 32 36 14  1]]\n",
      "\n",
      " [[16 39 46 31 17 24]\n",
      "  [19 48 19 16 25 40]\n",
      "  [16 25 11  5 24 23]\n",
      "  [36 31  2 37 11 12]\n",
      "  [40 15 32 42  1  0]]\n",
      "\n",
      " [[19 10 11 46 20 49]\n",
      "  [20 42 10  5 47 32]\n",
      "  [49 29 12 43 27 28]\n",
      "  [38 21  7 17 43 23]\n",
      "  [ 3 19 39 28 19 47]]]\n",
      "d1输出结果为: \n",
      " [[ 5 47 32]\n",
      " [43 27 28]\n",
      " [17 43 23]\n",
      " [28 19 47]] \n",
      "\n",
      "d2输出结果为: \n",
      " [[[16 39 46 31 17 24]\n",
      "  [19 48 19 16 25 40]\n",
      "  [16 25 11  5 24 23]\n",
      "  [36 31  2 37 11 12]\n",
      "  [40 15 32 42  1  0]]\n",
      "\n",
      " [[19 10 11 46 20 49]\n",
      "  [20 42 10  5 47 32]\n",
      "  [49 29 12 43 27 28]\n",
      "  [38 21  7 17 43 23]\n",
      "  [ 3 19 39 28 19 47]]] \n",
      "\n",
      "d3输出结果为: \n",
      " [[19 10 11 46 20 49]\n",
      " [20 42 10  5 47 32]\n",
      " [49 29 12 43 27 28]\n",
      " [38 21  7 17 43 23]\n",
      " [ 3 19 39 28 19 47]] \n",
      "\n",
      "d4输出结果为: \n",
      " [19 12] \n",
      "\n"
     ]
    }
   ],
   "source": [
    "print(arr3d)\n",
    "d1 = arr3d[2,1:,3:] # 选第3个矩阵，取包括2行所有行 取包括4列所有列\n",
    "d2 = arr3d[[1,2]]   # 选第2个和第3个矩阵\n",
    "d3 = arr3d[[1,2]][1] # 选第2个矩阵和第3个矩阵，再从这两个里 选后一个矩阵\n",
    "d4 = arr3d[[1,2],[1,2],[2]] # (1,1,2) (2,2,2)\n",
    "pprint('d',4)"
   ]
  },
  {
   "cell_type": "markdown",
   "metadata": {},
   "source": [
    "## 布尔值索引"
   ]
  },
  {
   "cell_type": "code",
   "execution_count": 135,
   "metadata": {},
   "outputs": [
    {
     "data": {
      "text/plain": [
       "array([False, False,  True, False,  True, False, False, False, False,\n",
       "       False])"
      ]
     },
     "execution_count": 135,
     "metadata": {},
     "output_type": "execute_result"
    }
   ],
   "source": [
    "names = np.array(['softpo','Brandon','Will','Michael','Will','Ella','Daniel','softpo',' Will','Brandon'])\n",
    "cond1 = names =='Will'\n",
    "cond1"
   ]
  },
  {
   "cell_type": "code",
   "execution_count": 136,
   "metadata": {},
   "outputs": [
    {
     "data": {
      "text/plain": [
       "array(['Will', 'Will'], dtype='<U7')"
      ]
     },
     "execution_count": 136,
     "metadata": {},
     "output_type": "execute_result"
    }
   ],
   "source": [
    "names[cond1] # 只输出TRUE"
   ]
  },
  {
   "cell_type": "code",
   "execution_count": 140,
   "metadata": {},
   "outputs": [
    {
     "name": "stdout",
     "output_type": "stream",
     "text": [
      "[[58 58  4 63 15 51  4 30]\n",
      " [17  2 84 23 97 57  8 57]\n",
      " [66 29 52 91 19 28 67 32]\n",
      " [99 14  1 14 51 57 74 17]\n",
      " [68 62 99 98 75 30 81 63]\n",
      " [15 26 86 79 60 20 79 69]\n",
      " [91 50 18  5 40 54 12 46]\n",
      " [92 46 65 81 78 28 74 30]\n",
      " [58  0 73 76 98 62 45 21]\n",
      " [83 38 52 28 83  7 47 65]]\n"
     ]
    },
    {
     "data": {
      "text/plain": [
       "array([[False, False, False, False, False, False, False, False],\n",
       "       [False, False, False, False,  True, False, False, False],\n",
       "       [False, False, False,  True, False, False, False, False],\n",
       "       [ True, False, False, False, False, False, False, False],\n",
       "       [False, False,  True,  True, False, False, False, False],\n",
       "       [False, False, False, False, False, False, False, False],\n",
       "       [ True, False, False, False, False, False, False, False],\n",
       "       [ True, False, False, False, False, False, False, False],\n",
       "       [False, False, False, False,  True, False, False, False],\n",
       "       [False, False, False, False, False, False, False, False]])"
      ]
     },
     "execution_count": 140,
     "metadata": {},
     "output_type": "execute_result"
    }
   ],
   "source": [
    "arr = np.random.randint(0,100,size = (10,8))\n",
    "print(arr)\n",
    "cond2 = arr > 90\n",
    "cond2"
   ]
  },
  {
   "cell_type": "code",
   "execution_count": 139,
   "metadata": {},
   "outputs": [
    {
     "data": {
      "text/plain": [
       "array([95, 96, 96, 92, 93, 97, 97, 97, 96])"
      ]
     },
     "execution_count": 139,
     "metadata": {},
     "output_type": "execute_result"
    }
   ],
   "source": [
    "arr[cond2]"
   ]
  },
  {
   "cell_type": "markdown",
   "metadata": {},
   "source": [
    "# 形状操作"
   ]
  },
  {
   "cell_type": "code",
   "execution_count": 148,
   "metadata": {},
   "outputs": [
    {
     "name": "stdout",
     "output_type": "stream",
     "text": [
      "ar1输出结果为: \n",
      " [[[9 3 6 6 3]\n",
      "  [3 1 9 8 8]\n",
      "  [6 6 7 5 2]\n",
      "  [5 9 4 3 1]]\n",
      "\n",
      " [[9 2 8 8 5]\n",
      "  [4 9 8 8 8]\n",
      "  [6 2 1 4 7]\n",
      "  [7 6 3 8 3]]\n",
      "\n",
      " [[2 1 3 9 5]\n",
      "  [0 3 1 8 9]\n",
      "  [6 6 1 2 6]\n",
      "  [4 6 1 0 7]]] \n",
      "\n",
      "ar2输出结果为: \n",
      " [[9 3 6 6 3]\n",
      " [3 1 9 8 8]\n",
      " [6 6 7 5 2]\n",
      " [5 9 4 3 1]\n",
      " [9 2 8 8 5]\n",
      " [4 9 8 8 8]\n",
      " [6 2 1 4 7]\n",
      " [7 6 3 8 3]\n",
      " [2 1 3 9 5]\n",
      " [0 3 1 8 9]\n",
      " [6 6 1 2 6]\n",
      " [4 6 1 0 7]] \n",
      "\n",
      "ar3输出结果为: \n",
      " [[9 3 6 6 3]\n",
      " [3 1 9 8 8]\n",
      " [6 6 7 5 2]\n",
      " [5 9 4 3 1]\n",
      " [9 2 8 8 5]\n",
      " [4 9 8 8 8]\n",
      " [6 2 1 4 7]\n",
      " [7 6 3 8 3]\n",
      " [2 1 3 9 5]\n",
      " [0 3 1 8 9]\n",
      " [6 6 1 2 6]\n",
      " [4 6 1 0 7]] \n",
      "\n",
      "ar4输出结果为: \n",
      " [[9 3 6 6 3]\n",
      " [3 1 9 8 8]\n",
      " [6 6 7 5 2]\n",
      " [5 9 4 3 1]\n",
      " [9 2 8 8 5]\n",
      " [4 9 8 8 8]\n",
      " [6 2 1 4 7]\n",
      " [7 6 3 8 3]\n",
      " [2 1 3 9 5]\n",
      " [0 3 1 8 9]\n",
      " [6 6 1 2 6]\n",
      " [4 6 1 0 7]] \n",
      "\n",
      "ar5输出结果为: \n",
      " [[9]\n",
      " [3]\n",
      " [6]\n",
      " [6]\n",
      " [3]\n",
      " [3]\n",
      " [1]\n",
      " [9]\n",
      " [8]\n",
      " [8]\n",
      " [6]\n",
      " [6]\n",
      " [7]\n",
      " [5]\n",
      " [2]\n",
      " [5]\n",
      " [9]\n",
      " [4]\n",
      " [3]\n",
      " [1]\n",
      " [9]\n",
      " [2]\n",
      " [8]\n",
      " [8]\n",
      " [5]\n",
      " [4]\n",
      " [9]\n",
      " [8]\n",
      " [8]\n",
      " [8]\n",
      " [6]\n",
      " [2]\n",
      " [1]\n",
      " [4]\n",
      " [7]\n",
      " [7]\n",
      " [6]\n",
      " [3]\n",
      " [8]\n",
      " [3]\n",
      " [2]\n",
      " [1]\n",
      " [3]\n",
      " [9]\n",
      " [5]\n",
      " [0]\n",
      " [3]\n",
      " [1]\n",
      " [8]\n",
      " [9]\n",
      " [6]\n",
      " [6]\n",
      " [1]\n",
      " [2]\n",
      " [6]\n",
      " [4]\n",
      " [6]\n",
      " [1]\n",
      " [0]\n",
      " [7]] \n",
      "\n"
     ]
    }
   ],
   "source": [
    "import numpy as np \n",
    "\n",
    "ar1 = np.random.randint(0,10,size = (3,4,5)) # 就算形状变了 综述也要是3*4*5  =60 \n",
    "ar2 = ar1.reshape(12,5)\n",
    "ar3 = ar1.reshape(-1,5)  # 这里-1 是不知道，看着办的意思，只能这么搞一个，两个都不知道就没法搞了\n",
    "ar4 = ar1.reshape(12,-1)\n",
    "ar5 = ar1.reshape(60,1)\n",
    "\n",
    "pprint('ar',5)"
   ]
  },
  {
   "cell_type": "code",
   "execution_count": 153,
   "metadata": {},
   "outputs": [
    {
     "name": "stdout",
     "output_type": "stream",
     "text": [
      "(3, 4, 5)\n",
      "(5, 4, 3)\n",
      "(5, 3, 4)\n"
     ]
    }
   ],
   "source": [
    "print(ar1.shape)\n",
    "print(np.transpose(ar1).shape)\n",
    "print(np.transpose(ar1,axes=(2,0,1)).shape)"
   ]
  },
  {
   "cell_type": "code",
   "execution_count": 152,
   "metadata": {},
   "outputs": [
    {
     "name": "stdout",
     "output_type": "stream",
     "text": [
      "[[1 8 6 0]\n",
      " [9 7 4 6]\n",
      " [7 0 8 6]]\n"
     ]
    },
    {
     "data": {
      "text/plain": [
       "array([[1, 9, 7],\n",
       "       [8, 7, 0],\n",
       "       [6, 4, 8],\n",
       "       [0, 6, 6]])"
      ]
     },
     "execution_count": 152,
     "metadata": {},
     "output_type": "execute_result"
    }
   ],
   "source": [
    "ar2 =np.random.randint(0,10,size=(3,4))\n",
    "print(ar2)\n",
    "np.transpose(ar2)  #转置\n"
   ]
  },
  {
   "cell_type": "markdown",
   "metadata": {},
   "source": [
    "合成"
   ]
  },
  {
   "cell_type": "code",
   "execution_count": 155,
   "metadata": {},
   "outputs": [
    {
     "data": {
      "text/plain": [
       "array([[1, 2, 3]])"
      ]
     },
     "metadata": {},
     "output_type": "display_data"
    },
    {
     "data": {
      "text/plain": [
       "array([[4, 5, 6]])"
      ]
     },
     "metadata": {},
     "output_type": "display_data"
    }
   ],
   "source": [
    "import numpy as np \n",
    "ar1  = np.array([[1,2,3]])\n",
    "ar2  = np.array([[4,5,6]])\n",
    "display(ar1,ar2)"
   ]
  },
  {
   "cell_type": "code",
   "execution_count": 158,
   "metadata": {},
   "outputs": [
    {
     "data": {
      "text/plain": [
       "array([[1, 2, 3],\n",
       "       [4, 5, 6]])"
      ]
     },
     "execution_count": 158,
     "metadata": {},
     "output_type": "execute_result"
    }
   ],
   "source": [
    "np.concatenate([ar1,ar2],axis = 0) # 竖着\n"
   ]
  },
  {
   "cell_type": "code",
   "execution_count": 159,
   "metadata": {},
   "outputs": [
    {
     "data": {
      "text/plain": [
       "array([[1, 2, 3, 4, 5, 6]])"
      ]
     },
     "execution_count": 159,
     "metadata": {},
     "output_type": "execute_result"
    }
   ],
   "source": [
    "np.concatenate([ar1,ar2],axis = 1) # 横着"
   ]
  },
  {
   "cell_type": "code",
   "execution_count": 162,
   "metadata": {},
   "outputs": [
    {
     "data": {
      "text/plain": [
       "array([[1, 2, 3, 4, 5, 6]])"
      ]
     },
     "execution_count": 162,
     "metadata": {},
     "output_type": "execute_result"
    }
   ],
   "source": [
    "np.hstack((ar1,ar2))  # horizion"
   ]
  },
  {
   "cell_type": "code",
   "execution_count": 161,
   "metadata": {},
   "outputs": [
    {
     "data": {
      "text/plain": [
       "array([[1, 2, 3],\n",
       "       [4, 5, 6]])"
      ]
     },
     "execution_count": 161,
     "metadata": {},
     "output_type": "execute_result"
    }
   ],
   "source": [
    "np.vstack((ar1,ar2))  #vertical "
   ]
  },
  {
   "cell_type": "markdown",
   "metadata": {},
   "source": [
    "拆分"
   ]
  },
  {
   "cell_type": "code",
   "execution_count": 163,
   "metadata": {},
   "outputs": [
    {
     "data": {
      "text/plain": [
       "array([[5, 1, 7, 8, 8],\n",
       "       [9, 0, 9, 2, 9],\n",
       "       [1, 0, 3, 3, 0],\n",
       "       [9, 1, 3, 7, 9],\n",
       "       [6, 8, 7, 0, 2],\n",
       "       [9, 0, 1, 5, 5]])"
      ]
     },
     "execution_count": 163,
     "metadata": {},
     "output_type": "execute_result"
    }
   ],
   "source": [
    "import numpy as np\n",
    "\n",
    "arr = np.random.randint(0,10,size=(6,5))\n",
    "arr"
   ]
  },
  {
   "cell_type": "code",
   "execution_count": 168,
   "metadata": {},
   "outputs": [
    {
     "name": "stdout",
     "output_type": "stream",
     "text": [
      "[[5 1 7 8 8]\n",
      " [9 0 9 2 9]\n",
      " [1 0 3 3 0]] \n",
      " \n",
      " [[9 1 3 7 9]\n",
      " [6 8 7 0 2]\n",
      " [9 0 1 5 5]]\n"
     ]
    }
   ],
   "source": [
    "s  = np.split(arr,indices_or_sections =2 ,axis = 0) # 横切\n",
    "print(s[0],'\\n','\\n',s[1])"
   ]
  },
  {
   "cell_type": "code",
   "execution_count": 171,
   "metadata": {},
   "outputs": [
    {
     "name": "stdout",
     "output_type": "stream",
     "text": [
      "[[5 1]\n",
      " [9 0]\n",
      " [1 0]\n",
      " [9 1]\n",
      " [6 8]\n",
      " [9 0]] \n",
      " \n",
      " [[7]\n",
      " [9]\n",
      " [3]\n",
      " [3]\n",
      " [7]\n",
      " [1]] \n",
      " \n",
      " [[8 8]\n",
      " [2 9]\n",
      " [3 0]\n",
      " [7 9]\n",
      " [0 2]\n",
      " [5 5]]\n"
     ]
    }
   ],
   "source": [
    "s  = np.split(arr,indices_or_sections =[2,3] ,axis = 1) # 纵切 断点为2,3\n",
    "print(s[0],'\\n','\\n',s[1],'\\n','\\n',s[2])"
   ]
  },
  {
   "cell_type": "code",
   "execution_count": 173,
   "metadata": {},
   "outputs": [
    {
     "name": "stdout",
     "output_type": "stream",
     "text": [
      "[[5 1 7 8 8]\n",
      " [9 0 9 2 9]] \n",
      " \n",
      " [[1 0 3 3 0]\n",
      " [9 1 3 7 9]] \n",
      " \n",
      " [[6 8 7 0 2]\n",
      " [9 0 1 5 5]]\n"
     ]
    }
   ],
   "source": [
    "s = np.vsplit(arr,indices_or_sections=3) # 一样的 横切\n",
    "print(s[0],'\\n','\\n',s[1],'\\n','\\n',s[2])"
   ]
  },
  {
   "cell_type": "code",
   "execution_count": 174,
   "metadata": {
    "scrolled": true
   },
   "outputs": [
    {
     "data": {
      "text/plain": [
       "[array([[5],\n",
       "        [9],\n",
       "        [1],\n",
       "        [9],\n",
       "        [6],\n",
       "        [9]]), array([[1, 7, 8],\n",
       "        [0, 9, 2],\n",
       "        [0, 3, 3],\n",
       "        [1, 3, 7],\n",
       "        [8, 7, 0],\n",
       "        [0, 1, 5]]), array([[8],\n",
       "        [9],\n",
       "        [0],\n",
       "        [9],\n",
       "        [2],\n",
       "        [5]])]"
      ]
     },
     "execution_count": 174,
     "metadata": {},
     "output_type": "execute_result"
    }
   ],
   "source": [
    "np.hsplit(arr,indices_or_sections=[1,4]) # 竖切"
   ]
  },
  {
   "cell_type": "code",
   "execution_count": null,
   "metadata": {},
   "outputs": [],
   "source": []
  },
  {
   "cell_type": "markdown",
   "metadata": {},
   "source": [
    "# 广播"
   ]
  },
  {
   "cell_type": "code",
   "execution_count": 176,
   "metadata": {},
   "outputs": [
    {
     "name": "stdout",
     "output_type": "stream",
     "text": [
      "ar1输出结果为: \n",
      " [0 0 0 1 1 1 2 2 2 3 3 3] \n",
      "\n",
      "ar2输出结果为: \n",
      " [[0 0 0]\n",
      " [1 1 1]\n",
      " [2 2 2]\n",
      " [3 3 3]] \n",
      "\n",
      "ar3输出结果为: \n",
      " [1 2 3] \n",
      "\n",
      "ar4输出结果为: \n",
      " [[1 2 3]\n",
      " [2 3 4]\n",
      " [3 4 5]\n",
      " [4 5 6]] \n",
      "\n"
     ]
    }
   ],
   "source": [
    "import numpy as np \n",
    "ar1  = np.sort(np.array([0,1,2,3]*3))\n",
    "ar2  = ar1.reshape(4,3)\n",
    "ar3  = np.array([1,2,3]) \n",
    "ar4  = ar2 + ar3 \n",
    "\n",
    "pprint('ar',4)\n",
    "\n",
    "# 4*3 和 1*3 能加的原因是 第二个从上到下卷了四遍 "
   ]
  },
  {
   "cell_type": "code",
   "execution_count": 184,
   "metadata": {
    "scrolled": true
   },
   "outputs": [
    {
     "name": "stdout",
     "output_type": "stream",
     "text": [
      "a1输出结果为: \n",
      " [[0. 0. 0.]\n",
      " [0. 0. 0.]\n",
      " [0. 0. 0.]] \n",
      "\n",
      "a2输出结果为: \n",
      " [[1.]\n",
      " [1.]\n",
      " [1.]] \n",
      "\n",
      "a3输出结果为: \n",
      " [[1. 1. 1.]\n",
      " [1. 1. 1.]\n",
      " [1. 1. 1.]] \n",
      "\n"
     ]
    }
   ],
   "source": [
    "a1 = np.zeros(9).reshape(3,3)\n",
    "a2 = np.ones(3).reshape(3,1)\n",
    "a3 = a1+a2 \n",
    "pprint('a',3) # 同样的道理，从左往右卷了3遍"
   ]
  },
  {
   "cell_type": "code",
   "execution_count": null,
   "metadata": {},
   "outputs": [],
   "source": []
  },
  {
   "cell_type": "markdown",
   "metadata": {},
   "source": [
    "三维数组广播"
   ]
  },
  {
   "cell_type": "code",
   "execution_count": 186,
   "metadata": {},
   "outputs": [
    {
     "name": "stdout",
     "output_type": "stream",
     "text": [
      "ar1输出结果为: \n",
      " [[[0 1 2 3 4]\n",
      "  [5 6 7 8 9]]\n",
      "\n",
      " [[0 1 2 3 4]\n",
      "  [5 6 7 8 9]]\n",
      "\n",
      " [[0 1 2 3 4]\n",
      "  [5 6 7 8 9]]] \n",
      "\n",
      "ar2输出结果为: \n",
      " [[1. 1. 1. 1. 1.]\n",
      " [1. 1. 1. 1. 1.]] \n",
      "\n",
      "ar3输出结果为: \n",
      " [[[ 1.  2.  3.  4.  5.]\n",
      "  [ 6.  7.  8.  9. 10.]]\n",
      "\n",
      " [[ 1.  2.  3.  4.  5.]\n",
      "  [ 6.  7.  8.  9. 10.]]\n",
      "\n",
      " [[ 1.  2.  3.  4.  5.]\n",
      "  [ 6.  7.  8.  9. 10.]]] \n",
      "\n"
     ]
    }
   ],
   "source": [
    "import numpy as np \n",
    "\n",
    "ar1 = np.array(list(range(10))*3).reshape(3,2,5)\n",
    "ar2 = np.ones(10).reshape(2,5)\n",
    "ar3 = ar1 + ar2 \n",
    "\n",
    "pprint('ar',3)\n",
    "\n",
    "#又广播了\n",
    "#只要有一个维度是可以走的 就可以传播"
   ]
  },
  {
   "cell_type": "markdown",
   "metadata": {},
   "source": [
    "# 通用函数"
   ]
  },
  {
   "cell_type": "markdown",
   "metadata": {},
   "source": [
    "\n",
    "abs、sqrt、square、exp、log、sin、cos、tan，maxinmum、minimum、all、any、inner、clip、 round、trace、ceil、floor"
   ]
  },
  {
   "cell_type": "markdown",
   "metadata": {},
   "source": [
    "## 函数"
   ]
  },
  {
   "cell_type": "code",
   "execution_count": 191,
   "metadata": {},
   "outputs": [
    {
     "data": {
      "text/plain": [
       "array([[0, 1],\n",
       "       [2, 3],\n",
       "       [4, 5]])"
      ]
     },
     "metadata": {},
     "output_type": "display_data"
    },
    {
     "data": {
      "text/plain": [
       "array([[5, 4, 3],\n",
       "       [2, 1, 0]])"
      ]
     },
     "metadata": {},
     "output_type": "display_data"
    }
   ],
   "source": [
    "import numpy as np \n",
    "x = np.array(list(range(6))).reshape(3,2)\n",
    "y = list(range(6))\n",
    "y.reverse()\n",
    "y = np.array(y).reshape(2,3)\n",
    "display(x,y)"
   ]
  },
  {
   "cell_type": "code",
   "execution_count": 193,
   "metadata": {
    "scrolled": true
   },
   "outputs": [
    {
     "data": {
      "text/plain": [
       "array([[ 2,  1,  0],\n",
       "       [16, 11,  6],\n",
       "       [30, 21, 12]])"
      ]
     },
     "execution_count": 193,
     "metadata": {},
     "output_type": "execute_result"
    }
   ],
   "source": [
    "#点乘和叉乘\n",
    "x @ y  #矩阵乘法 点乘"
   ]
  },
  {
   "cell_type": "code",
   "execution_count": 194,
   "metadata": {},
   "outputs": [
    {
     "data": {
      "text/plain": [
       "array([[ 2,  1,  0],\n",
       "       [16, 11,  6],\n",
       "       [30, 21, 12]])"
      ]
     },
     "execution_count": 194,
     "metadata": {},
     "output_type": "execute_result"
    }
   ],
   "source": [
    "np.dot(x,y) # 一样的"
   ]
  },
  {
   "cell_type": "markdown",
   "metadata": {},
   "source": [
    "叉乘和内积说的都是元素一对一计算"
   ]
  },
  {
   "cell_type": "markdown",
   "metadata": {},
   "source": [
    "## where"
   ]
  },
  {
   "cell_type": "code",
   "execution_count": 195,
   "metadata": {},
   "outputs": [
    {
     "data": {
      "text/plain": [
       "array([1, 8, 3])"
      ]
     },
     "execution_count": 195,
     "metadata": {},
     "output_type": "execute_result"
    }
   ],
   "source": [
    "cond = np.array([True,False,True])\n",
    "arr1 = np.array([1,2,3])\n",
    "arr2 = np.array([7,8,9])\n",
    "np.where(cond,arr1,arr2)"
   ]
  },
  {
   "cell_type": "code",
   "execution_count": 196,
   "metadata": {
    "scrolled": false
   },
   "outputs": [
    {
     "data": {
      "text/plain": [
       "array([-15, -15, -15,   1,   5,   6,   3, -15, -15, -15, -15, -15, -15,\n",
       "         5,   0, -15, -15,   7,  11,   3])"
      ]
     },
     "execution_count": 196,
     "metadata": {},
     "output_type": "execute_result"
    }
   ],
   "source": [
    "arr3 = np.random.randint(0,30,size=20)\n",
    "np.where(arr3 < 15 , arr3 , -15) # 小于15的全变成 -15 "
   ]
  },
  {
   "cell_type": "markdown",
   "metadata": {},
   "source": [
    "## 排序"
   ]
  },
  {
   "cell_type": "code",
   "execution_count": 200,
   "metadata": {},
   "outputs": [],
   "source": [
    "arr  = np.random.randint(0,10,size=5)\n",
    "arr\n",
    "a  = arr.copy()"
   ]
  },
  {
   "cell_type": "code",
   "execution_count": 203,
   "metadata": {
    "scrolled": true
   },
   "outputs": [
    {
     "name": "stdout",
     "output_type": "stream",
     "text": [
      "a1输出结果为: \n",
      " [1 1 3 4 5] \n",
      "\n",
      "a2输出结果为: \n",
      " [1 1 3 4 5] \n",
      "\n",
      "a3输出结果为: \n",
      " [1 4 3 2 0] \n",
      "\n",
      "arr [5 1 4 3 1]\n"
     ]
    }
   ],
   "source": [
    "a.sort()\n",
    "a1 = a \n",
    "a2 = np.sort(arr)\n",
    "\n",
    "a3 = arr.argsort() # 排序后的索引\n",
    "\n",
    "pprint('a',3)\n",
    "print('arr',arr)"
   ]
  },
  {
   "cell_type": "markdown",
   "metadata": {},
   "source": [
    "## 集合运算"
   ]
  },
  {
   "cell_type": "code",
   "execution_count": 206,
   "metadata": {
    "scrolled": true
   },
   "outputs": [
    {
     "data": {
      "text/plain": [
       "array([2, 4, 6, 8])"
      ]
     },
     "metadata": {},
     "output_type": "display_data"
    },
    {
     "data": {
      "text/plain": [
       "array([3, 4, 5, 6])"
      ]
     },
     "metadata": {},
     "output_type": "display_data"
    },
    {
     "name": "stdout",
     "output_type": "stream",
     "text": [
      "s1输出结果为: \n",
      " [4 6] \n",
      "\n",
      "s2输出结果为: \n",
      " [2 3 4 5 6 8] \n",
      "\n",
      "s3输出结果为: \n",
      " [2 8] \n",
      "\n"
     ]
    }
   ],
   "source": [
    " \n",
    "A = np.array([2,4,6,8])\n",
    "B = np.array([3,4,5,6])\n",
    "s1 = np.intersect1d(A,B) # 交集\n",
    "s2 = np.union1d(A,B) # 并集 \n",
    "s3 = np.setdiff1d(A,B) #差集，A中有，B中没有 array([2, 8])\n",
    "\n",
    "display(A,B)\n",
    "pprint('s',3)\n"
   ]
  },
  {
   "cell_type": "markdown",
   "metadata": {},
   "source": [
    "## 数学 统计函数"
   ]
  },
  {
   "cell_type": "markdown",
   "metadata": {},
   "source": [
    "min、max、mean、median、sum、std、var、cumsum、cumprod、argmin、argmax、 argwhere、cov、corrcoef"
   ]
  },
  {
   "cell_type": "code",
   "execution_count": 208,
   "metadata": {},
   "outputs": [
    {
     "name": "stdout",
     "output_type": "stream",
     "text": [
      "[[9 7 9]\n",
      " [4 3 5]]\n",
      "a1输出结果为: \n",
      " 3 \n",
      "\n",
      "a2输出结果为: \n",
      " 0 \n",
      "\n",
      "a3输出结果为: \n",
      " [] \n",
      "\n",
      "a4输出结果为: \n",
      " [ 9 16 25 29 32 37] \n",
      "\n",
      "a5输出结果为: \n",
      " [6.5 5.  7. ] \n",
      "\n",
      "a6输出结果为: \n",
      " [8.33333333 4.        ] \n",
      "\n",
      "a7输出结果为: \n",
      " [[1.33333333 1.        ]\n",
      " [1.         1.        ]] \n",
      "\n",
      "a8输出结果为: \n",
      " [[1.        0.8660254]\n",
      " [0.8660254 1.       ]] \n",
      "\n"
     ]
    }
   ],
   "source": [
    "import numpy as np \n",
    "\n",
    "arr  = np.random.randint(0,10,size = (2,3))\n",
    "print(arr)\n",
    "a1 = arr.min() # min\n",
    "a2 = arr.argmax() # max的索引\n",
    "a3 = np.argwhere(arr > 20) # >20的元素的索引\n",
    "a4 = np.cumsum(arr) # 累加 9 ,9+7,9+7+9,...\n",
    "a5 = arr.mean(axis = 0) # 竖着求均值\n",
    "a6 = arr.mean(axis = 1) #横着求\n",
    "a7 = np.cov(arr,rowvar = True) # 协方差矩阵\n",
    "a8 = np.corrcoef(arr,rowvar = True) # 相关性系数\n",
    "\n",
    "pprint('a',8)"
   ]
  },
  {
   "cell_type": "markdown",
   "metadata": {},
   "source": [
    "## 线性代数"
   ]
  },
  {
   "cell_type": "code",
   "execution_count": 212,
   "metadata": {},
   "outputs": [
    {
     "name": "stdout",
     "output_type": "stream",
     "text": [
      "[[8 8 4]\n",
      " [3 3 6]\n",
      " [9 4 5]]\n",
      "t1输出结果为: \n",
      " [[-0.05       -0.13333333  0.2       ]\n",
      " [ 0.21666667  0.02222222 -0.2       ]\n",
      " [-0.08333333  0.22222222  0.        ]] \n",
      "\n",
      "t2输出结果为: \n",
      " 180.0 \n",
      "\n",
      "t3输出结果为: \n",
      " (array([16.92389216+0.j        , -0.46194608+3.22838305j,\n",
      "       -0.46194608-3.22838305j]), array([[ 0.65452285+0.j        , -0.3606994 -0.3903272j ,\n",
      "        -0.3606994 +0.3903272j ],\n",
      "       [ 0.41370738+0.j        ,  0.63087194+0.j        ,\n",
      "         0.63087194-0.j        ],\n",
      "       [ 0.63280807+0.j        , -0.18365774+0.53461298j,\n",
      "        -0.18365774-0.53461298j]])) \n",
      "\n",
      "t4输出结果为: \n",
      " (array([[-6.44658371e-01, -6.79063998e-01, -3.51123442e-01],\n",
      "       [-2.41746889e-01, -2.54648999e-01,  9.36329178e-01],\n",
      "       [-7.25240668e-01,  6.88495442e-01,  8.32667268e-17]]), array([[-12.40967365,  -8.78347031,  -7.65531816],\n",
      "       [  0.        ,  -3.44247721,  -0.80167278],\n",
      "       [  0.        ,   0.        ,   4.2134813 ]])) \n",
      "\n",
      "t5输出结果为: \n",
      " (array([[-0.68093086,  0.50090386, -0.53425507],\n",
      "       [-0.37800771, -0.86521413, -0.32941565],\n",
      "       [-0.62725061, -0.02235675,  0.77849653]]), array([17.26830223,  3.75493223,  2.7760083 ]), array([[-0.70804445, -0.52642538, -0.47069032],\n",
      "       [ 0.32234344,  0.35211328, -0.87869844],\n",
      "       [ 0.62830547, -0.77388149, -0.07962209]])) \n",
      "\n"
     ]
    }
   ],
   "source": [
    "# 点乘  @ 或者 np.dot(x,y)之前演示过了\n",
    "\n",
    "A = np.random.randint(0,10,size = (3,3))\n",
    "print(A)\n",
    "\n",
    "from numpy.linalg import inv,det,eig,qr,svd\n",
    "\n",
    "t1 = inv(A) # 逆\n",
    "t2 = det(A) # 行列式\n",
    "t3 = eig(A) #特征值 特征向量\n",
    "t4 = qr(A)  # qr分解值\n",
    "t5 = svd(A) # svd分解值\n",
    "\n",
    "pprint('t',5)\n"
   ]
  },
  {
   "cell_type": "markdown",
   "metadata": {},
   "source": [
    "# 案例 鸢尾花"
   ]
  },
  {
   "cell_type": "code",
   "execution_count": 216,
   "metadata": {
    "scrolled": true
   },
   "outputs": [
    {
     "name": "stdout",
     "output_type": "stream",
     "text": [
      "(150,)\n",
      "[4.3 4.4 4.4 4.4 4.5 4.6 4.6 4.6 4.6 4.7 4.7 4.8 4.8 4.8 4.8 4.8 4.9 4.9\n",
      " 4.9 4.9 4.9 4.9 5.  5.  5.  5.  5.  5.  5.  5.  5.  5.  5.1 5.1 5.1 5.1\n",
      " 5.1 5.1 5.1 5.1 5.1 5.2 5.2 5.2 5.2 5.3 5.4 5.4 5.4 5.4 5.4 5.4 5.5 5.5\n",
      " 5.5 5.5 5.5 5.5 5.5 5.6 5.6 5.6 5.6 5.6 5.6 5.7 5.7 5.7 5.7 5.7 5.7 5.7\n",
      " 5.7 5.8 5.8 5.8 5.8 5.8 5.8 5.8 5.9 5.9 5.9 6.  6.  6.  6.  6.  6.  6.1\n",
      " 6.1 6.1 6.1 6.1 6.1 6.2 6.2 6.2 6.2 6.3 6.3 6.3 6.3 6.3 6.3 6.3 6.3 6.3\n",
      " 6.4 6.4 6.4 6.4 6.4 6.4 6.4 6.5 6.5 6.5 6.5 6.5 6.6 6.6 6.7 6.7 6.7 6.7\n",
      " 6.7 6.7 6.7 6.7 6.8 6.8 6.8 6.9 6.9 6.9 6.9 7.  7.1 7.2 7.2 7.2 7.3 7.4\n",
      " 7.6 7.7 7.7 7.7 7.7 7.9]\n"
     ]
    }
   ],
   "source": [
    "import numpy as np \n",
    "\n",
    "data  = np.loadtxt('./iris.csv',delimiter = ',')\n",
    "print(data.shape)\n",
    "\n",
    "data.sort(axis=-1)  # 排序 发现不带axis = -1 也能正常排 \n",
    "print(data)"
   ]
  },
  {
   "cell_type": "code",
   "execution_count": 217,
   "metadata": {},
   "outputs": [
    {
     "name": "stdout",
     "output_type": "stream",
     "text": [
      "简单排序后: [4.3 4.4 4.4 4.4 4.5 4.6 4.6 4.6 4.6 4.7 4.7 4.8 4.8 4.8 4.8 4.8 4.9 4.9\n",
      " 4.9 4.9 4.9 4.9 5.  5.  5.  5.  5.  5.  5.  5.  5.  5.  5.1 5.1 5.1 5.1\n",
      " 5.1 5.1 5.1 5.1 5.1 5.2 5.2 5.2 5.2 5.3 5.4 5.4 5.4 5.4 5.4 5.4 5.5 5.5\n",
      " 5.5 5.5 5.5 5.5 5.5 5.6 5.6 5.6 5.6 5.6 5.6 5.7 5.7 5.7 5.7 5.7 5.7 5.7\n",
      " 5.7 5.8 5.8 5.8 5.8 5.8 5.8 5.8 5.9 5.9 5.9 6.  6.  6.  6.  6.  6.  6.1\n",
      " 6.1 6.1 6.1 6.1 6.1 6.2 6.2 6.2 6.2 6.3 6.3 6.3 6.3 6.3 6.3 6.3 6.3 6.3\n",
      " 6.4 6.4 6.4 6.4 6.4 6.4 6.4 6.5 6.5 6.5 6.5 6.5 6.6 6.6 6.7 6.7 6.7 6.7\n",
      " 6.7 6.7 6.7 6.7 6.8 6.8 6.8 6.9 6.9 6.9 6.9 7.  7.1 7.2 7.2 7.2 7.3 7.4\n",
      " 7.6 7.7 7.7 7.7 7.7 7.9]\n",
      "数据去重后: [4.3 4.4 4.5 4.6 4.7 4.8 4.9 5.  5.1 5.2 5.3 5.4 5.5 5.6 5.7 5.8 5.9 6.\n",
      " 6.1 6.2 6.3 6.4 6.5 6.6 6.7 6.8 6.9 7.  7.1 7.2 7.3 7.4 7.6 7.7 7.9]\n",
      "数据求和: 876.5\n",
      "元素求累加和 [  4.3   8.7  13.1  17.5  22.   26.6  31.2  35.8  40.4  45.1  49.8  54.6\n",
      "  59.4  64.2  69.   73.8  78.7  83.6  88.5  93.4  98.3 103.2 108.2 113.2\n",
      " 118.2 123.2 128.2 133.2 138.2 143.2 148.2 153.2 158.3 163.4 168.5 173.6\n",
      " 178.7 183.8 188.9 194.  199.1 204.3 209.5 214.7 219.9 225.2 230.6 236.\n",
      " 241.4 246.8 252.2 257.6 263.1 268.6 274.1 279.6 285.1 290.6 296.1 301.7\n",
      " 307.3 312.9 318.5 324.1 329.7 335.4 341.1 346.8 352.5 358.2 363.9 369.6\n",
      " 375.3 381.1 386.9 392.7 398.5 404.3 410.1 415.9 421.8 427.7 433.6 439.6\n",
      " 445.6 451.6 457.6 463.6 469.6 475.7 481.8 487.9 494.  500.1 506.2 512.4\n",
      " 518.6 524.8 531.  537.3 543.6 549.9 556.2 562.5 568.8 575.1 581.4 587.7\n",
      " 594.1 600.5 606.9 613.3 619.7 626.1 632.5 639.  645.5 652.  658.5 665.\n",
      " 671.6 678.2 684.9 691.6 698.3 705.  711.7 718.4 725.1 731.8 738.6 745.4\n",
      " 752.2 759.1 766.  772.9 779.8 786.8 793.9 801.1 808.3 815.5 822.8 830.2\n",
      " 837.8 845.5 853.2 860.9 868.6 876.5]\n",
      "数据的均值: 5.843333333333334\n",
      "数据的标准差: 0.8253012917851409\n",
      "数据的方差: 0.6811222222222223\n",
      "数据的最小值: 4.3\n",
      "数据的最大值: 7.9\n"
     ]
    }
   ],
   "source": [
    "print('简单排序后:', data)\n",
    "print('数据去重后:', np.unique(data)) # 去除重复数据\n",
    "print('数据求和:', np.sum(data)) # 数组求和\n",
    "print('元素求累加和', np.cumsum(data)) # 元素求累加和\n",
    "print('数据的均值:', np.mean(data)) # 均值\n",
    "print('数据的标准差:', np.std(data)) # 标准差\n",
    "print('数据的方差:', np.var(data)) # 方差\n",
    "print('数据的最小值:', np.min(data)) # 最小值\n",
    "print('数据的最大值:', np.max(data)) # 最大值"
   ]
  }
 ],
 "metadata": {
  "kernelspec": {
   "display_name": "Python 3",
   "language": "python",
   "name": "python3"
  },
  "language_info": {
   "codemirror_mode": {
    "name": "ipython",
    "version": 3
   },
   "file_extension": ".py",
   "mimetype": "text/x-python",
   "name": "python",
   "nbconvert_exporter": "python",
   "pygments_lexer": "ipython3",
   "version": "3.6.8"
  },
  "toc": {
   "base_numbering": 1,
   "nav_menu": {},
   "number_sections": true,
   "sideBar": true,
   "skip_h1_title": false,
   "title_cell": "Table of Contents",
   "title_sidebar": "Contents",
   "toc_cell": false,
   "toc_position": {},
   "toc_section_display": true,
   "toc_window_display": true
  }
 },
 "nbformat": 4,
 "nbformat_minor": 2
}
