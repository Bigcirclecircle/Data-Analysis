{
 "cells": [
  {
   "cell_type": "markdown",
   "metadata": {},
   "source": [
    "## 7.1 数据str型转日期型"
   ]
  },
  {
   "cell_type": "code",
   "execution_count": 9,
   "metadata": {},
   "outputs": [
    {
     "data": {
      "text/plain": [
       "[Timestamp('2021-02-10 17:47:00'), Timestamp('2021-02-10 18:06:00')]"
      ]
     },
     "execution_count": 9,
     "metadata": {},
     "output_type": "execute_result"
    }
   ],
   "source": [
    "# 7.1 数据str型转日期型\n",
    "\n",
    "import numpy as np\n",
    "import pandas as pd\n",
    "\n",
    "date_strings =np.array(['10-02-2021 05:47 PM','10-02-2021 06:06 PM'])\n",
    "\n",
    "[pd.to_datetime(date,format ='%d-%m-%Y %I:%M %p') for date in date_strings]\n",
    "\n",
    "## 注意AM PM ， 如果是PM就不要用24小时格式了 "
   ]
  },
  {
   "cell_type": "code",
   "execution_count": 12,
   "metadata": {},
   "outputs": [
    {
     "data": {
      "text/plain": [
       "[Timestamp('2021-02-10 17:47:00'), NaT]"
      ]
     },
     "execution_count": 12,
     "metadata": {},
     "output_type": "execute_result"
    }
   ],
   "source": [
    "date_strings =np.array(['10-02-2021 05:47 PM','10-02-2021 16:06 PM'])\n",
    "\n",
    "[pd.to_datetime(date,format ='%d-%m-%Y %I:%M %p',errors = \"coerce\") for date in date_strings]\n",
    "## 添加errors = \"coerce\" 这个函数之后 就算数据格式和设定格式不符也不会报错，会返回NaT"
   ]
  },
  {
   "cell_type": "markdown",
   "metadata": {},
   "source": [
    "小结 ： %Y 年 ， %m 月 ， %d 日 ， %I 小时（12） ，%p 上下午 ， %M 分钟 ， %S 秒"
   ]
  },
  {
   "cell_type": "markdown",
   "metadata": {},
   "source": [
    "# 7.2 处理时区"
   ]
  },
  {
   "cell_type": "code",
   "execution_count": 13,
   "metadata": {},
   "outputs": [
    {
     "data": {
      "text/plain": [
       "Timestamp('2021-02-10 06:00:00+0000', tz='Europe/London')"
      ]
     },
     "execution_count": 13,
     "metadata": {},
     "output_type": "execute_result"
    }
   ],
   "source": [
    "import pandas as pd \n",
    "\n",
    "pd.Timestamp('2021-2-10 06:00:00',tz='Europe/London') # tz=time zone 通过tz控制时区"
   ]
  },
  {
   "cell_type": "code",
   "execution_count": 14,
   "metadata": {},
   "outputs": [],
   "source": [
    "date  = pd.Timestamp('2021-2-10 18:20:00')"
   ]
  },
  {
   "cell_type": "code",
   "execution_count": 18,
   "metadata": {},
   "outputs": [
    {
     "data": {
      "text/plain": [
       "Timestamp('2021-02-10 18:20:00+0000', tz='Europe/London')"
      ]
     },
     "execution_count": 18,
     "metadata": {},
     "output_type": "execute_result"
    }
   ],
   "source": [
    "date_in_london = date.tz_localize('Europe/London')\n",
    "date_in_london"
   ]
  },
  {
   "cell_type": "code",
   "execution_count": 22,
   "metadata": {},
   "outputs": [
    {
     "data": {
      "text/plain": [
       "Timestamp('2021-02-11 02:20:00+0800', tz='Asia/Shanghai')"
      ]
     },
     "execution_count": 22,
     "metadata": {},
     "output_type": "execute_result"
    }
   ],
   "source": [
    "date_in_london.tz_convert('Asia/Shanghai') # 伦敦时间转换成上海时间"
   ]
  },
  {
   "cell_type": "code",
   "execution_count": 41,
   "metadata": {},
   "outputs": [
    {
     "data": {
      "text/plain": [
       "0   2021-02-28\n",
       "1   2021-03-31\n",
       "2   2021-04-30\n",
       "dtype: datetime64[ns]"
      ]
     },
     "execution_count": 41,
     "metadata": {},
     "output_type": "execute_result"
    }
   ],
   "source": [
    "dates  = pd.Series(pd.date_range('2/10/2021',periods=3,freq='M')) # 使用range生成一大堆时间\n",
    "dates"
   ]
  },
  {
   "cell_type": "code",
   "execution_count": 42,
   "metadata": {},
   "outputs": [
    {
     "data": {
      "text/plain": [
       "0   2021-02-28\n",
       "1   2021-03-31\n",
       "2   2021-04-30\n",
       "dtype: datetime64[ns]"
      ]
     },
     "execution_count": 42,
     "metadata": {},
     "output_type": "execute_result"
    }
   ],
   "source": [
    "dates.dt.tz_localize('Europe/Paris')\n",
    "dates"
   ]
  },
  {
   "cell_type": "code",
   "execution_count": 51,
   "metadata": {},
   "outputs": [
    {
     "data": {
      "text/plain": [
       "592"
      ]
     },
     "execution_count": 51,
     "metadata": {},
     "output_type": "execute_result"
    }
   ],
   "source": [
    "from pytz import all_timezones # 调这个包可以看全部的时区参数\n",
    "len(all_timezones)"
   ]
  },
  {
   "cell_type": "markdown",
   "metadata": {},
   "source": [
    "# 7.3 筛选日期"
   ]
  },
  {
   "cell_type": "code",
   "execution_count": 52,
   "metadata": {},
   "outputs": [],
   "source": [
    "import pandas as pd \n",
    "dataframe = pd.DataFrame()\n",
    "dataframe['date'] = pd.date_range('1/1/2021',periods =10000,freq='H')  # 生成数据"
   ]
  },
  {
   "cell_type": "code",
   "execution_count": 54,
   "metadata": {
    "collapsed": true
   },
   "outputs": [
    {
     "data": {
      "text/html": [
       "<div>\n",
       "<style scoped>\n",
       "    .dataframe tbody tr th:only-of-type {\n",
       "        vertical-align: middle;\n",
       "    }\n",
       "\n",
       "    .dataframe tbody tr th {\n",
       "        vertical-align: top;\n",
       "    }\n",
       "\n",
       "    .dataframe thead th {\n",
       "        text-align: right;\n",
       "    }\n",
       "</style>\n",
       "<table border=\"1\" class=\"dataframe\">\n",
       "  <thead>\n",
       "    <tr style=\"text-align: right;\">\n",
       "      <th></th>\n",
       "      <th>date</th>\n",
       "    </tr>\n",
       "  </thead>\n",
       "  <tbody>\n",
       "    <tr>\n",
       "      <th>27</th>\n",
       "      <td>2021-01-02 03:00:00</td>\n",
       "    </tr>\n",
       "    <tr>\n",
       "      <th>28</th>\n",
       "      <td>2021-01-02 04:00:00</td>\n",
       "    </tr>\n",
       "    <tr>\n",
       "      <th>29</th>\n",
       "      <td>2021-01-02 05:00:00</td>\n",
       "    </tr>\n",
       "    <tr>\n",
       "      <th>30</th>\n",
       "      <td>2021-01-02 06:00:00</td>\n",
       "    </tr>\n",
       "    <tr>\n",
       "      <th>31</th>\n",
       "      <td>2021-01-02 07:00:00</td>\n",
       "    </tr>\n",
       "    <tr>\n",
       "      <th>32</th>\n",
       "      <td>2021-01-02 08:00:00</td>\n",
       "    </tr>\n",
       "    <tr>\n",
       "      <th>33</th>\n",
       "      <td>2021-01-02 09:00:00</td>\n",
       "    </tr>\n",
       "    <tr>\n",
       "      <th>34</th>\n",
       "      <td>2021-01-02 10:00:00</td>\n",
       "    </tr>\n",
       "    <tr>\n",
       "      <th>35</th>\n",
       "      <td>2021-01-02 11:00:00</td>\n",
       "    </tr>\n",
       "    <tr>\n",
       "      <th>36</th>\n",
       "      <td>2021-01-02 12:00:00</td>\n",
       "    </tr>\n",
       "    <tr>\n",
       "      <th>37</th>\n",
       "      <td>2021-01-02 13:00:00</td>\n",
       "    </tr>\n",
       "    <tr>\n",
       "      <th>38</th>\n",
       "      <td>2021-01-02 14:00:00</td>\n",
       "    </tr>\n",
       "    <tr>\n",
       "      <th>39</th>\n",
       "      <td>2021-01-02 15:00:00</td>\n",
       "    </tr>\n",
       "    <tr>\n",
       "      <th>40</th>\n",
       "      <td>2021-01-02 16:00:00</td>\n",
       "    </tr>\n",
       "    <tr>\n",
       "      <th>41</th>\n",
       "      <td>2021-01-02 17:00:00</td>\n",
       "    </tr>\n",
       "    <tr>\n",
       "      <th>42</th>\n",
       "      <td>2021-01-02 18:00:00</td>\n",
       "    </tr>\n",
       "    <tr>\n",
       "      <th>43</th>\n",
       "      <td>2021-01-02 19:00:00</td>\n",
       "    </tr>\n",
       "    <tr>\n",
       "      <th>44</th>\n",
       "      <td>2021-01-02 20:00:00</td>\n",
       "    </tr>\n",
       "    <tr>\n",
       "      <th>45</th>\n",
       "      <td>2021-01-02 21:00:00</td>\n",
       "    </tr>\n",
       "    <tr>\n",
       "      <th>46</th>\n",
       "      <td>2021-01-02 22:00:00</td>\n",
       "    </tr>\n",
       "    <tr>\n",
       "      <th>47</th>\n",
       "      <td>2021-01-02 23:00:00</td>\n",
       "    </tr>\n",
       "    <tr>\n",
       "      <th>48</th>\n",
       "      <td>2021-01-03 00:00:00</td>\n",
       "    </tr>\n",
       "    <tr>\n",
       "      <th>49</th>\n",
       "      <td>2021-01-03 01:00:00</td>\n",
       "    </tr>\n",
       "    <tr>\n",
       "      <th>50</th>\n",
       "      <td>2021-01-03 02:00:00</td>\n",
       "    </tr>\n",
       "    <tr>\n",
       "      <th>51</th>\n",
       "      <td>2021-01-03 03:00:00</td>\n",
       "    </tr>\n",
       "    <tr>\n",
       "      <th>52</th>\n",
       "      <td>2021-01-03 04:00:00</td>\n",
       "    </tr>\n",
       "    <tr>\n",
       "      <th>53</th>\n",
       "      <td>2021-01-03 05:00:00</td>\n",
       "    </tr>\n",
       "    <tr>\n",
       "      <th>54</th>\n",
       "      <td>2021-01-03 06:00:00</td>\n",
       "    </tr>\n",
       "    <tr>\n",
       "      <th>55</th>\n",
       "      <td>2021-01-03 07:00:00</td>\n",
       "    </tr>\n",
       "    <tr>\n",
       "      <th>56</th>\n",
       "      <td>2021-01-03 08:00:00</td>\n",
       "    </tr>\n",
       "    <tr>\n",
       "      <th>...</th>\n",
       "      <td>...</td>\n",
       "    </tr>\n",
       "    <tr>\n",
       "      <th>717</th>\n",
       "      <td>2021-01-30 21:00:00</td>\n",
       "    </tr>\n",
       "    <tr>\n",
       "      <th>718</th>\n",
       "      <td>2021-01-30 22:00:00</td>\n",
       "    </tr>\n",
       "    <tr>\n",
       "      <th>719</th>\n",
       "      <td>2021-01-30 23:00:00</td>\n",
       "    </tr>\n",
       "    <tr>\n",
       "      <th>720</th>\n",
       "      <td>2021-01-31 00:00:00</td>\n",
       "    </tr>\n",
       "    <tr>\n",
       "      <th>721</th>\n",
       "      <td>2021-01-31 01:00:00</td>\n",
       "    </tr>\n",
       "    <tr>\n",
       "      <th>722</th>\n",
       "      <td>2021-01-31 02:00:00</td>\n",
       "    </tr>\n",
       "    <tr>\n",
       "      <th>723</th>\n",
       "      <td>2021-01-31 03:00:00</td>\n",
       "    </tr>\n",
       "    <tr>\n",
       "      <th>724</th>\n",
       "      <td>2021-01-31 04:00:00</td>\n",
       "    </tr>\n",
       "    <tr>\n",
       "      <th>725</th>\n",
       "      <td>2021-01-31 05:00:00</td>\n",
       "    </tr>\n",
       "    <tr>\n",
       "      <th>726</th>\n",
       "      <td>2021-01-31 06:00:00</td>\n",
       "    </tr>\n",
       "    <tr>\n",
       "      <th>727</th>\n",
       "      <td>2021-01-31 07:00:00</td>\n",
       "    </tr>\n",
       "    <tr>\n",
       "      <th>728</th>\n",
       "      <td>2021-01-31 08:00:00</td>\n",
       "    </tr>\n",
       "    <tr>\n",
       "      <th>729</th>\n",
       "      <td>2021-01-31 09:00:00</td>\n",
       "    </tr>\n",
       "    <tr>\n",
       "      <th>730</th>\n",
       "      <td>2021-01-31 10:00:00</td>\n",
       "    </tr>\n",
       "    <tr>\n",
       "      <th>731</th>\n",
       "      <td>2021-01-31 11:00:00</td>\n",
       "    </tr>\n",
       "    <tr>\n",
       "      <th>732</th>\n",
       "      <td>2021-01-31 12:00:00</td>\n",
       "    </tr>\n",
       "    <tr>\n",
       "      <th>733</th>\n",
       "      <td>2021-01-31 13:00:00</td>\n",
       "    </tr>\n",
       "    <tr>\n",
       "      <th>734</th>\n",
       "      <td>2021-01-31 14:00:00</td>\n",
       "    </tr>\n",
       "    <tr>\n",
       "      <th>735</th>\n",
       "      <td>2021-01-31 15:00:00</td>\n",
       "    </tr>\n",
       "    <tr>\n",
       "      <th>736</th>\n",
       "      <td>2021-01-31 16:00:00</td>\n",
       "    </tr>\n",
       "    <tr>\n",
       "      <th>737</th>\n",
       "      <td>2021-01-31 17:00:00</td>\n",
       "    </tr>\n",
       "    <tr>\n",
       "      <th>738</th>\n",
       "      <td>2021-01-31 18:00:00</td>\n",
       "    </tr>\n",
       "    <tr>\n",
       "      <th>739</th>\n",
       "      <td>2021-01-31 19:00:00</td>\n",
       "    </tr>\n",
       "    <tr>\n",
       "      <th>740</th>\n",
       "      <td>2021-01-31 20:00:00</td>\n",
       "    </tr>\n",
       "    <tr>\n",
       "      <th>741</th>\n",
       "      <td>2021-01-31 21:00:00</td>\n",
       "    </tr>\n",
       "    <tr>\n",
       "      <th>742</th>\n",
       "      <td>2021-01-31 22:00:00</td>\n",
       "    </tr>\n",
       "    <tr>\n",
       "      <th>743</th>\n",
       "      <td>2021-01-31 23:00:00</td>\n",
       "    </tr>\n",
       "    <tr>\n",
       "      <th>744</th>\n",
       "      <td>2021-02-01 00:00:00</td>\n",
       "    </tr>\n",
       "    <tr>\n",
       "      <th>745</th>\n",
       "      <td>2021-02-01 01:00:00</td>\n",
       "    </tr>\n",
       "    <tr>\n",
       "      <th>746</th>\n",
       "      <td>2021-02-01 02:00:00</td>\n",
       "    </tr>\n",
       "  </tbody>\n",
       "</table>\n",
       "<p>720 rows × 1 columns</p>\n",
       "</div>"
      ],
      "text/plain": [
       "                   date\n",
       "27  2021-01-02 03:00:00\n",
       "28  2021-01-02 04:00:00\n",
       "29  2021-01-02 05:00:00\n",
       "30  2021-01-02 06:00:00\n",
       "31  2021-01-02 07:00:00\n",
       "32  2021-01-02 08:00:00\n",
       "33  2021-01-02 09:00:00\n",
       "34  2021-01-02 10:00:00\n",
       "35  2021-01-02 11:00:00\n",
       "36  2021-01-02 12:00:00\n",
       "37  2021-01-02 13:00:00\n",
       "38  2021-01-02 14:00:00\n",
       "39  2021-01-02 15:00:00\n",
       "40  2021-01-02 16:00:00\n",
       "41  2021-01-02 17:00:00\n",
       "42  2021-01-02 18:00:00\n",
       "43  2021-01-02 19:00:00\n",
       "44  2021-01-02 20:00:00\n",
       "45  2021-01-02 21:00:00\n",
       "46  2021-01-02 22:00:00\n",
       "47  2021-01-02 23:00:00\n",
       "48  2021-01-03 00:00:00\n",
       "49  2021-01-03 01:00:00\n",
       "50  2021-01-03 02:00:00\n",
       "51  2021-01-03 03:00:00\n",
       "52  2021-01-03 04:00:00\n",
       "53  2021-01-03 05:00:00\n",
       "54  2021-01-03 06:00:00\n",
       "55  2021-01-03 07:00:00\n",
       "56  2021-01-03 08:00:00\n",
       "..                  ...\n",
       "717 2021-01-30 21:00:00\n",
       "718 2021-01-30 22:00:00\n",
       "719 2021-01-30 23:00:00\n",
       "720 2021-01-31 00:00:00\n",
       "721 2021-01-31 01:00:00\n",
       "722 2021-01-31 02:00:00\n",
       "723 2021-01-31 03:00:00\n",
       "724 2021-01-31 04:00:00\n",
       "725 2021-01-31 05:00:00\n",
       "726 2021-01-31 06:00:00\n",
       "727 2021-01-31 07:00:00\n",
       "728 2021-01-31 08:00:00\n",
       "729 2021-01-31 09:00:00\n",
       "730 2021-01-31 10:00:00\n",
       "731 2021-01-31 11:00:00\n",
       "732 2021-01-31 12:00:00\n",
       "733 2021-01-31 13:00:00\n",
       "734 2021-01-31 14:00:00\n",
       "735 2021-01-31 15:00:00\n",
       "736 2021-01-31 16:00:00\n",
       "737 2021-01-31 17:00:00\n",
       "738 2021-01-31 18:00:00\n",
       "739 2021-01-31 19:00:00\n",
       "740 2021-01-31 20:00:00\n",
       "741 2021-01-31 21:00:00\n",
       "742 2021-01-31 22:00:00\n",
       "743 2021-01-31 23:00:00\n",
       "744 2021-02-01 00:00:00\n",
       "745 2021-02-01 01:00:00\n",
       "746 2021-02-01 02:00:00\n",
       "\n",
       "[720 rows x 1 columns]"
      ]
     },
     "execution_count": 54,
     "metadata": {},
     "output_type": "execute_result"
    }
   ],
   "source": [
    "dataframe[(dataframe['date']>'2021-01-02 02:00:00') &(dataframe['date']<='2021-02-01 02:00:00') ]  # 布尔法筛选"
   ]
  },
  {
   "cell_type": "code",
   "execution_count": 56,
   "metadata": {
    "collapsed": true
   },
   "outputs": [
    {
     "data": {
      "text/html": [
       "<div>\n",
       "<style scoped>\n",
       "    .dataframe tbody tr th:only-of-type {\n",
       "        vertical-align: middle;\n",
       "    }\n",
       "\n",
       "    .dataframe tbody tr th {\n",
       "        vertical-align: top;\n",
       "    }\n",
       "\n",
       "    .dataframe thead th {\n",
       "        text-align: right;\n",
       "    }\n",
       "</style>\n",
       "<table border=\"1\" class=\"dataframe\">\n",
       "  <thead>\n",
       "    <tr style=\"text-align: right;\">\n",
       "      <th></th>\n",
       "      <th>date</th>\n",
       "    </tr>\n",
       "    <tr>\n",
       "      <th>date</th>\n",
       "      <th></th>\n",
       "    </tr>\n",
       "  </thead>\n",
       "  <tbody>\n",
       "    <tr>\n",
       "      <th>2021-01-02 02:00:00</th>\n",
       "      <td>2021-01-02 02:00:00</td>\n",
       "    </tr>\n",
       "    <tr>\n",
       "      <th>2021-01-02 03:00:00</th>\n",
       "      <td>2021-01-02 03:00:00</td>\n",
       "    </tr>\n",
       "    <tr>\n",
       "      <th>2021-01-02 04:00:00</th>\n",
       "      <td>2021-01-02 04:00:00</td>\n",
       "    </tr>\n",
       "    <tr>\n",
       "      <th>2021-01-02 05:00:00</th>\n",
       "      <td>2021-01-02 05:00:00</td>\n",
       "    </tr>\n",
       "    <tr>\n",
       "      <th>2021-01-02 06:00:00</th>\n",
       "      <td>2021-01-02 06:00:00</td>\n",
       "    </tr>\n",
       "    <tr>\n",
       "      <th>2021-01-02 07:00:00</th>\n",
       "      <td>2021-01-02 07:00:00</td>\n",
       "    </tr>\n",
       "    <tr>\n",
       "      <th>2021-01-02 08:00:00</th>\n",
       "      <td>2021-01-02 08:00:00</td>\n",
       "    </tr>\n",
       "    <tr>\n",
       "      <th>2021-01-02 09:00:00</th>\n",
       "      <td>2021-01-02 09:00:00</td>\n",
       "    </tr>\n",
       "    <tr>\n",
       "      <th>2021-01-02 10:00:00</th>\n",
       "      <td>2021-01-02 10:00:00</td>\n",
       "    </tr>\n",
       "    <tr>\n",
       "      <th>2021-01-02 11:00:00</th>\n",
       "      <td>2021-01-02 11:00:00</td>\n",
       "    </tr>\n",
       "    <tr>\n",
       "      <th>2021-01-02 12:00:00</th>\n",
       "      <td>2021-01-02 12:00:00</td>\n",
       "    </tr>\n",
       "    <tr>\n",
       "      <th>2021-01-02 13:00:00</th>\n",
       "      <td>2021-01-02 13:00:00</td>\n",
       "    </tr>\n",
       "    <tr>\n",
       "      <th>2021-01-02 14:00:00</th>\n",
       "      <td>2021-01-02 14:00:00</td>\n",
       "    </tr>\n",
       "    <tr>\n",
       "      <th>2021-01-02 15:00:00</th>\n",
       "      <td>2021-01-02 15:00:00</td>\n",
       "    </tr>\n",
       "    <tr>\n",
       "      <th>2021-01-02 16:00:00</th>\n",
       "      <td>2021-01-02 16:00:00</td>\n",
       "    </tr>\n",
       "    <tr>\n",
       "      <th>2021-01-02 17:00:00</th>\n",
       "      <td>2021-01-02 17:00:00</td>\n",
       "    </tr>\n",
       "    <tr>\n",
       "      <th>2021-01-02 18:00:00</th>\n",
       "      <td>2021-01-02 18:00:00</td>\n",
       "    </tr>\n",
       "    <tr>\n",
       "      <th>2021-01-02 19:00:00</th>\n",
       "      <td>2021-01-02 19:00:00</td>\n",
       "    </tr>\n",
       "    <tr>\n",
       "      <th>2021-01-02 20:00:00</th>\n",
       "      <td>2021-01-02 20:00:00</td>\n",
       "    </tr>\n",
       "    <tr>\n",
       "      <th>2021-01-02 21:00:00</th>\n",
       "      <td>2021-01-02 21:00:00</td>\n",
       "    </tr>\n",
       "    <tr>\n",
       "      <th>2021-01-02 22:00:00</th>\n",
       "      <td>2021-01-02 22:00:00</td>\n",
       "    </tr>\n",
       "    <tr>\n",
       "      <th>2021-01-02 23:00:00</th>\n",
       "      <td>2021-01-02 23:00:00</td>\n",
       "    </tr>\n",
       "    <tr>\n",
       "      <th>2021-01-03 00:00:00</th>\n",
       "      <td>2021-01-03 00:00:00</td>\n",
       "    </tr>\n",
       "    <tr>\n",
       "      <th>2021-01-03 01:00:00</th>\n",
       "      <td>2021-01-03 01:00:00</td>\n",
       "    </tr>\n",
       "    <tr>\n",
       "      <th>2021-01-03 02:00:00</th>\n",
       "      <td>2021-01-03 02:00:00</td>\n",
       "    </tr>\n",
       "    <tr>\n",
       "      <th>2021-01-03 03:00:00</th>\n",
       "      <td>2021-01-03 03:00:00</td>\n",
       "    </tr>\n",
       "    <tr>\n",
       "      <th>2021-01-03 04:00:00</th>\n",
       "      <td>2021-01-03 04:00:00</td>\n",
       "    </tr>\n",
       "    <tr>\n",
       "      <th>2021-01-03 05:00:00</th>\n",
       "      <td>2021-01-03 05:00:00</td>\n",
       "    </tr>\n",
       "    <tr>\n",
       "      <th>2021-01-03 06:00:00</th>\n",
       "      <td>2021-01-03 06:00:00</td>\n",
       "    </tr>\n",
       "    <tr>\n",
       "      <th>2021-01-03 07:00:00</th>\n",
       "      <td>2021-01-03 07:00:00</td>\n",
       "    </tr>\n",
       "    <tr>\n",
       "      <th>...</th>\n",
       "      <td>...</td>\n",
       "    </tr>\n",
       "    <tr>\n",
       "      <th>2021-01-30 21:00:00</th>\n",
       "      <td>2021-01-30 21:00:00</td>\n",
       "    </tr>\n",
       "    <tr>\n",
       "      <th>2021-01-30 22:00:00</th>\n",
       "      <td>2021-01-30 22:00:00</td>\n",
       "    </tr>\n",
       "    <tr>\n",
       "      <th>2021-01-30 23:00:00</th>\n",
       "      <td>2021-01-30 23:00:00</td>\n",
       "    </tr>\n",
       "    <tr>\n",
       "      <th>2021-01-31 00:00:00</th>\n",
       "      <td>2021-01-31 00:00:00</td>\n",
       "    </tr>\n",
       "    <tr>\n",
       "      <th>2021-01-31 01:00:00</th>\n",
       "      <td>2021-01-31 01:00:00</td>\n",
       "    </tr>\n",
       "    <tr>\n",
       "      <th>2021-01-31 02:00:00</th>\n",
       "      <td>2021-01-31 02:00:00</td>\n",
       "    </tr>\n",
       "    <tr>\n",
       "      <th>2021-01-31 03:00:00</th>\n",
       "      <td>2021-01-31 03:00:00</td>\n",
       "    </tr>\n",
       "    <tr>\n",
       "      <th>2021-01-31 04:00:00</th>\n",
       "      <td>2021-01-31 04:00:00</td>\n",
       "    </tr>\n",
       "    <tr>\n",
       "      <th>2021-01-31 05:00:00</th>\n",
       "      <td>2021-01-31 05:00:00</td>\n",
       "    </tr>\n",
       "    <tr>\n",
       "      <th>2021-01-31 06:00:00</th>\n",
       "      <td>2021-01-31 06:00:00</td>\n",
       "    </tr>\n",
       "    <tr>\n",
       "      <th>2021-01-31 07:00:00</th>\n",
       "      <td>2021-01-31 07:00:00</td>\n",
       "    </tr>\n",
       "    <tr>\n",
       "      <th>2021-01-31 08:00:00</th>\n",
       "      <td>2021-01-31 08:00:00</td>\n",
       "    </tr>\n",
       "    <tr>\n",
       "      <th>2021-01-31 09:00:00</th>\n",
       "      <td>2021-01-31 09:00:00</td>\n",
       "    </tr>\n",
       "    <tr>\n",
       "      <th>2021-01-31 10:00:00</th>\n",
       "      <td>2021-01-31 10:00:00</td>\n",
       "    </tr>\n",
       "    <tr>\n",
       "      <th>2021-01-31 11:00:00</th>\n",
       "      <td>2021-01-31 11:00:00</td>\n",
       "    </tr>\n",
       "    <tr>\n",
       "      <th>2021-01-31 12:00:00</th>\n",
       "      <td>2021-01-31 12:00:00</td>\n",
       "    </tr>\n",
       "    <tr>\n",
       "      <th>2021-01-31 13:00:00</th>\n",
       "      <td>2021-01-31 13:00:00</td>\n",
       "    </tr>\n",
       "    <tr>\n",
       "      <th>2021-01-31 14:00:00</th>\n",
       "      <td>2021-01-31 14:00:00</td>\n",
       "    </tr>\n",
       "    <tr>\n",
       "      <th>2021-01-31 15:00:00</th>\n",
       "      <td>2021-01-31 15:00:00</td>\n",
       "    </tr>\n",
       "    <tr>\n",
       "      <th>2021-01-31 16:00:00</th>\n",
       "      <td>2021-01-31 16:00:00</td>\n",
       "    </tr>\n",
       "    <tr>\n",
       "      <th>2021-01-31 17:00:00</th>\n",
       "      <td>2021-01-31 17:00:00</td>\n",
       "    </tr>\n",
       "    <tr>\n",
       "      <th>2021-01-31 18:00:00</th>\n",
       "      <td>2021-01-31 18:00:00</td>\n",
       "    </tr>\n",
       "    <tr>\n",
       "      <th>2021-01-31 19:00:00</th>\n",
       "      <td>2021-01-31 19:00:00</td>\n",
       "    </tr>\n",
       "    <tr>\n",
       "      <th>2021-01-31 20:00:00</th>\n",
       "      <td>2021-01-31 20:00:00</td>\n",
       "    </tr>\n",
       "    <tr>\n",
       "      <th>2021-01-31 21:00:00</th>\n",
       "      <td>2021-01-31 21:00:00</td>\n",
       "    </tr>\n",
       "    <tr>\n",
       "      <th>2021-01-31 22:00:00</th>\n",
       "      <td>2021-01-31 22:00:00</td>\n",
       "    </tr>\n",
       "    <tr>\n",
       "      <th>2021-01-31 23:00:00</th>\n",
       "      <td>2021-01-31 23:00:00</td>\n",
       "    </tr>\n",
       "    <tr>\n",
       "      <th>2021-02-01 00:00:00</th>\n",
       "      <td>2021-02-01 00:00:00</td>\n",
       "    </tr>\n",
       "    <tr>\n",
       "      <th>2021-02-01 01:00:00</th>\n",
       "      <td>2021-02-01 01:00:00</td>\n",
       "    </tr>\n",
       "    <tr>\n",
       "      <th>2021-02-01 02:00:00</th>\n",
       "      <td>2021-02-01 02:00:00</td>\n",
       "    </tr>\n",
       "  </tbody>\n",
       "</table>\n",
       "<p>721 rows × 1 columns</p>\n",
       "</div>"
      ],
      "text/plain": [
       "                                   date\n",
       "date                                   \n",
       "2021-01-02 02:00:00 2021-01-02 02:00:00\n",
       "2021-01-02 03:00:00 2021-01-02 03:00:00\n",
       "2021-01-02 04:00:00 2021-01-02 04:00:00\n",
       "2021-01-02 05:00:00 2021-01-02 05:00:00\n",
       "2021-01-02 06:00:00 2021-01-02 06:00:00\n",
       "2021-01-02 07:00:00 2021-01-02 07:00:00\n",
       "2021-01-02 08:00:00 2021-01-02 08:00:00\n",
       "2021-01-02 09:00:00 2021-01-02 09:00:00\n",
       "2021-01-02 10:00:00 2021-01-02 10:00:00\n",
       "2021-01-02 11:00:00 2021-01-02 11:00:00\n",
       "2021-01-02 12:00:00 2021-01-02 12:00:00\n",
       "2021-01-02 13:00:00 2021-01-02 13:00:00\n",
       "2021-01-02 14:00:00 2021-01-02 14:00:00\n",
       "2021-01-02 15:00:00 2021-01-02 15:00:00\n",
       "2021-01-02 16:00:00 2021-01-02 16:00:00\n",
       "2021-01-02 17:00:00 2021-01-02 17:00:00\n",
       "2021-01-02 18:00:00 2021-01-02 18:00:00\n",
       "2021-01-02 19:00:00 2021-01-02 19:00:00\n",
       "2021-01-02 20:00:00 2021-01-02 20:00:00\n",
       "2021-01-02 21:00:00 2021-01-02 21:00:00\n",
       "2021-01-02 22:00:00 2021-01-02 22:00:00\n",
       "2021-01-02 23:00:00 2021-01-02 23:00:00\n",
       "2021-01-03 00:00:00 2021-01-03 00:00:00\n",
       "2021-01-03 01:00:00 2021-01-03 01:00:00\n",
       "2021-01-03 02:00:00 2021-01-03 02:00:00\n",
       "2021-01-03 03:00:00 2021-01-03 03:00:00\n",
       "2021-01-03 04:00:00 2021-01-03 04:00:00\n",
       "2021-01-03 05:00:00 2021-01-03 05:00:00\n",
       "2021-01-03 06:00:00 2021-01-03 06:00:00\n",
       "2021-01-03 07:00:00 2021-01-03 07:00:00\n",
       "...                                 ...\n",
       "2021-01-30 21:00:00 2021-01-30 21:00:00\n",
       "2021-01-30 22:00:00 2021-01-30 22:00:00\n",
       "2021-01-30 23:00:00 2021-01-30 23:00:00\n",
       "2021-01-31 00:00:00 2021-01-31 00:00:00\n",
       "2021-01-31 01:00:00 2021-01-31 01:00:00\n",
       "2021-01-31 02:00:00 2021-01-31 02:00:00\n",
       "2021-01-31 03:00:00 2021-01-31 03:00:00\n",
       "2021-01-31 04:00:00 2021-01-31 04:00:00\n",
       "2021-01-31 05:00:00 2021-01-31 05:00:00\n",
       "2021-01-31 06:00:00 2021-01-31 06:00:00\n",
       "2021-01-31 07:00:00 2021-01-31 07:00:00\n",
       "2021-01-31 08:00:00 2021-01-31 08:00:00\n",
       "2021-01-31 09:00:00 2021-01-31 09:00:00\n",
       "2021-01-31 10:00:00 2021-01-31 10:00:00\n",
       "2021-01-31 11:00:00 2021-01-31 11:00:00\n",
       "2021-01-31 12:00:00 2021-01-31 12:00:00\n",
       "2021-01-31 13:00:00 2021-01-31 13:00:00\n",
       "2021-01-31 14:00:00 2021-01-31 14:00:00\n",
       "2021-01-31 15:00:00 2021-01-31 15:00:00\n",
       "2021-01-31 16:00:00 2021-01-31 16:00:00\n",
       "2021-01-31 17:00:00 2021-01-31 17:00:00\n",
       "2021-01-31 18:00:00 2021-01-31 18:00:00\n",
       "2021-01-31 19:00:00 2021-01-31 19:00:00\n",
       "2021-01-31 20:00:00 2021-01-31 20:00:00\n",
       "2021-01-31 21:00:00 2021-01-31 21:00:00\n",
       "2021-01-31 22:00:00 2021-01-31 22:00:00\n",
       "2021-01-31 23:00:00 2021-01-31 23:00:00\n",
       "2021-02-01 00:00:00 2021-02-01 00:00:00\n",
       "2021-02-01 01:00:00 2021-02-01 01:00:00\n",
       "2021-02-01 02:00:00 2021-02-01 02:00:00\n",
       "\n",
       "[721 rows x 1 columns]"
      ]
     },
     "execution_count": 56,
     "metadata": {},
     "output_type": "execute_result"
    }
   ],
   "source": [
    "# 还可以把时间设置成索引 然后用索引筛选\n",
    "dataframe =dataframe.set_index(dataframe['date'])\n",
    "dataframe.loc['2021-01-02 02:00:00':'2021-02-01 02:00:00']"
   ]
  },
  {
   "cell_type": "markdown",
   "metadata": {},
   "source": [
    "# 7.4 抠出年月日"
   ]
  },
  {
   "cell_type": "code",
   "execution_count": 57,
   "metadata": {},
   "outputs": [],
   "source": [
    "import pandas as pd \n",
    "dataframe = pd.DataFrame()\n",
    "\n",
    "dataframe['date'] = pd.date_range('1/10/2021',periods= 150 ,freq ='W') # 间隔是周"
   ]
  },
  {
   "cell_type": "code",
   "execution_count": 59,
   "metadata": {},
   "outputs": [],
   "source": [
    "dataframe['year']=dataframe['date'].dt.year\n",
    "dataframe['month']=dataframe['date'].dt.month\n",
    "dataframe['day']=dataframe['date'].dt.day\n",
    "dataframe['hour']=dataframe['date'].dt.hour\n",
    "dataframe['minute']=dataframe['date'].dt.minute"
   ]
  },
  {
   "cell_type": "code",
   "execution_count": 61,
   "metadata": {},
   "outputs": [
    {
     "data": {
      "text/html": [
       "<div>\n",
       "<style scoped>\n",
       "    .dataframe tbody tr th:only-of-type {\n",
       "        vertical-align: middle;\n",
       "    }\n",
       "\n",
       "    .dataframe tbody tr th {\n",
       "        vertical-align: top;\n",
       "    }\n",
       "\n",
       "    .dataframe thead th {\n",
       "        text-align: right;\n",
       "    }\n",
       "</style>\n",
       "<table border=\"1\" class=\"dataframe\">\n",
       "  <thead>\n",
       "    <tr style=\"text-align: right;\">\n",
       "      <th></th>\n",
       "      <th>date</th>\n",
       "      <th>year</th>\n",
       "      <th>month</th>\n",
       "      <th>day</th>\n",
       "      <th>hour</th>\n",
       "      <th>minute</th>\n",
       "    </tr>\n",
       "  </thead>\n",
       "  <tbody>\n",
       "    <tr>\n",
       "      <th>0</th>\n",
       "      <td>2021-01-10</td>\n",
       "      <td>2021</td>\n",
       "      <td>1</td>\n",
       "      <td>10</td>\n",
       "      <td>0</td>\n",
       "      <td>0</td>\n",
       "    </tr>\n",
       "    <tr>\n",
       "      <th>1</th>\n",
       "      <td>2021-01-17</td>\n",
       "      <td>2021</td>\n",
       "      <td>1</td>\n",
       "      <td>17</td>\n",
       "      <td>0</td>\n",
       "      <td>0</td>\n",
       "    </tr>\n",
       "    <tr>\n",
       "      <th>2</th>\n",
       "      <td>2021-01-24</td>\n",
       "      <td>2021</td>\n",
       "      <td>1</td>\n",
       "      <td>24</td>\n",
       "      <td>0</td>\n",
       "      <td>0</td>\n",
       "    </tr>\n",
       "  </tbody>\n",
       "</table>\n",
       "</div>"
      ],
      "text/plain": [
       "        date  year  month  day  hour  minute\n",
       "0 2021-01-10  2021      1   10     0       0\n",
       "1 2021-01-17  2021      1   17     0       0\n",
       "2 2021-01-24  2021      1   24     0       0"
      ]
     },
     "execution_count": 61,
     "metadata": {},
     "output_type": "execute_result"
    }
   ],
   "source": [
    "dataframe.head(3) # 看结果展示的时候可以这样从头部抽几个来看"
   ]
  },
  {
   "cell_type": "markdown",
   "metadata": {},
   "source": [
    "# 7.5 计算日期差"
   ]
  },
  {
   "cell_type": "code",
   "execution_count": 64,
   "metadata": {},
   "outputs": [
    {
     "data": {
      "text/plain": [
       "0   0 days\n",
       "1   2 days\n",
       "dtype: timedelta64[ns]"
      ]
     },
     "execution_count": 64,
     "metadata": {},
     "output_type": "execute_result"
    }
   ],
   "source": [
    "import pandas as pd \n",
    "dataframe  = pd.DataFrame()\n",
    "dataframe['Arrived'] = [pd.Timestamp('01-01-2021'),pd.Timestamp('01-04-2021')]\n",
    "dataframe['Left'] = [pd.Timestamp('01-01-2021'),pd.Timestamp('01-06-2021')]\n",
    "\n",
    "dataframe['Left'] - dataframe['Arrived']"
   ]
  },
  {
   "cell_type": "code",
   "execution_count": 66,
   "metadata": {},
   "outputs": [
    {
     "data": {
      "text/html": [
       "<div>\n",
       "<style scoped>\n",
       "    .dataframe tbody tr th:only-of-type {\n",
       "        vertical-align: middle;\n",
       "    }\n",
       "\n",
       "    .dataframe tbody tr th {\n",
       "        vertical-align: top;\n",
       "    }\n",
       "\n",
       "    .dataframe thead th {\n",
       "        text-align: right;\n",
       "    }\n",
       "</style>\n",
       "<table border=\"1\" class=\"dataframe\">\n",
       "  <thead>\n",
       "    <tr style=\"text-align: right;\">\n",
       "      <th></th>\n",
       "      <th>Arrived</th>\n",
       "      <th>Left</th>\n",
       "    </tr>\n",
       "  </thead>\n",
       "  <tbody>\n",
       "    <tr>\n",
       "      <th>0</th>\n",
       "      <td>2021-01-01</td>\n",
       "      <td>2021-01-01</td>\n",
       "    </tr>\n",
       "    <tr>\n",
       "      <th>1</th>\n",
       "      <td>2021-01-04</td>\n",
       "      <td>2021-01-06</td>\n",
       "    </tr>\n",
       "  </tbody>\n",
       "</table>\n",
       "</div>"
      ],
      "text/plain": [
       "     Arrived       Left\n",
       "0 2021-01-01 2021-01-01\n",
       "1 2021-01-04 2021-01-06"
      ]
     },
     "execution_count": 66,
     "metadata": {},
     "output_type": "execute_result"
    }
   ],
   "source": [
    "dataframe # 横向做差 "
   ]
  },
  {
   "cell_type": "markdown",
   "metadata": {},
   "source": [
    "讨论部分：做的事是利用时间点来算时间间隔，书里的给的例子是计算旅馆客人的居住时长。"
   ]
  },
  {
   "cell_type": "markdown",
   "metadata": {},
   "source": [
    "# 7.6 日期转化成周"
   ]
  },
  {
   "cell_type": "code",
   "execution_count": 78,
   "metadata": {},
   "outputs": [],
   "source": [
    "import pandas as pd \n",
    "dates = pd.Series(pd.date_range(\"21/10/2021\",periods=4,freq=\"M\")) "
   ]
  },
  {
   "cell_type": "code",
   "execution_count": 79,
   "metadata": {},
   "outputs": [
    {
     "data": {
      "text/plain": [
       "0     Sunday\n",
       "1    Tuesday\n",
       "2     Friday\n",
       "3     Monday\n",
       "dtype: object"
      ]
     },
     "execution_count": 79,
     "metadata": {},
     "output_type": "execute_result"
    }
   ],
   "source": [
    "dates.dt.weekday_name"
   ]
  },
  {
   "cell_type": "code",
   "execution_count": 81,
   "metadata": {},
   "outputs": [
    {
     "data": {
      "text/plain": [
       "0   2021-10-21 00:00:00\n",
       "1   2021-10-21 01:00:00\n",
       "2   2021-10-21 02:00:00\n",
       "dtype: datetime64[ns]"
      ]
     },
     "execution_count": 81,
     "metadata": {},
     "output_type": "execute_result"
    }
   ],
   "source": [
    "pd.Series(pd.date_range(\"21/10/2021\",periods=3,freq=\"H\"))# 确定了这个地方是2021年10月21号"
   ]
  },
  {
   "cell_type": "code",
   "execution_count": 80,
   "metadata": {},
   "outputs": [
    {
     "data": {
      "text/plain": [
       "0    6\n",
       "1    1\n",
       "2    4\n",
       "3    0\n",
       "dtype: int64"
      ]
     },
     "execution_count": 80,
     "metadata": {},
     "output_type": "execute_result"
    }
   ],
   "source": [
    "dates.dt.weekday # 数值化 从0开始 0-6 对应周一到周日"
   ]
  },
  {
   "cell_type": "markdown",
   "metadata": {},
   "source": [
    "# 7.7 lag操作"
   ]
  },
  {
   "cell_type": "code",
   "execution_count": 82,
   "metadata": {},
   "outputs": [],
   "source": [
    "import pandas as pd \n",
    "dataframe = pd.DataFrame()"
   ]
  },
  {
   "cell_type": "code",
   "execution_count": 85,
   "metadata": {
    "collapsed": true
   },
   "outputs": [
    {
     "data": {
      "text/html": [
       "<div>\n",
       "<style scoped>\n",
       "    .dataframe tbody tr th:only-of-type {\n",
       "        vertical-align: middle;\n",
       "    }\n",
       "\n",
       "    .dataframe tbody tr th {\n",
       "        vertical-align: top;\n",
       "    }\n",
       "\n",
       "    .dataframe thead th {\n",
       "        text-align: right;\n",
       "    }\n",
       "</style>\n",
       "<table border=\"1\" class=\"dataframe\">\n",
       "  <thead>\n",
       "    <tr style=\"text-align: right;\">\n",
       "      <th></th>\n",
       "      <th>dates</th>\n",
       "      <th>stock_price</th>\n",
       "      <th>previous_days_stock_price</th>\n",
       "    </tr>\n",
       "  </thead>\n",
       "  <tbody>\n",
       "    <tr>\n",
       "      <th>0</th>\n",
       "      <td>2021-01-01</td>\n",
       "      <td>1.1</td>\n",
       "      <td>NaN</td>\n",
       "    </tr>\n",
       "    <tr>\n",
       "      <th>1</th>\n",
       "      <td>2021-01-02</td>\n",
       "      <td>2.2</td>\n",
       "      <td>1.1</td>\n",
       "    </tr>\n",
       "    <tr>\n",
       "      <th>2</th>\n",
       "      <td>2021-01-03</td>\n",
       "      <td>3.3</td>\n",
       "      <td>2.2</td>\n",
       "    </tr>\n",
       "    <tr>\n",
       "      <th>3</th>\n",
       "      <td>2021-01-04</td>\n",
       "      <td>4.4</td>\n",
       "      <td>3.3</td>\n",
       "    </tr>\n",
       "    <tr>\n",
       "      <th>4</th>\n",
       "      <td>2021-01-05</td>\n",
       "      <td>5.5</td>\n",
       "      <td>4.4</td>\n",
       "    </tr>\n",
       "  </tbody>\n",
       "</table>\n",
       "</div>"
      ],
      "text/plain": [
       "       dates  stock_price  previous_days_stock_price\n",
       "0 2021-01-01          1.1                        NaN\n",
       "1 2021-01-02          2.2                        1.1\n",
       "2 2021-01-03          3.3                        2.2\n",
       "3 2021-01-04          4.4                        3.3\n",
       "4 2021-01-05          5.5                        4.4"
      ]
     },
     "execution_count": 85,
     "metadata": {},
     "output_type": "execute_result"
    }
   ],
   "source": [
    "dataframe[\"dates\"] = pd.date_range(\"1/1/2021\",periods = 5 ,freq =\"D\" )\n",
    "dataframe[\"stock_price\"] = [1.1,2.2,3.3,4.4,5.5]\n",
    "\n",
    "dataframe[\"previous_days_stock_price\"]  = dataframe[\"stock_price\"].shift(1) # 整体下窜，取上一期数据\n",
    "dataframe "
   ]
  },
  {
   "cell_type": "markdown",
   "metadata": {},
   "source": [
    "#  7.8 窗函数 rolling time windows "
   ]
  },
  {
   "cell_type": "code",
   "execution_count": 87,
   "metadata": {},
   "outputs": [
    {
     "data": {
      "text/html": [
       "<div>\n",
       "<style scoped>\n",
       "    .dataframe tbody tr th:only-of-type {\n",
       "        vertical-align: middle;\n",
       "    }\n",
       "\n",
       "    .dataframe tbody tr th {\n",
       "        vertical-align: top;\n",
       "    }\n",
       "\n",
       "    .dataframe thead th {\n",
       "        text-align: right;\n",
       "    }\n",
       "</style>\n",
       "<table border=\"1\" class=\"dataframe\">\n",
       "  <thead>\n",
       "    <tr style=\"text-align: right;\">\n",
       "      <th></th>\n",
       "      <th>Stock_price</th>\n",
       "    </tr>\n",
       "  </thead>\n",
       "  <tbody>\n",
       "    <tr>\n",
       "      <th>2021-01-31</th>\n",
       "      <td>NaN</td>\n",
       "    </tr>\n",
       "    <tr>\n",
       "      <th>2021-02-28</th>\n",
       "      <td>1.5</td>\n",
       "    </tr>\n",
       "    <tr>\n",
       "      <th>2021-03-31</th>\n",
       "      <td>2.5</td>\n",
       "    </tr>\n",
       "    <tr>\n",
       "      <th>2021-04-30</th>\n",
       "      <td>3.5</td>\n",
       "    </tr>\n",
       "    <tr>\n",
       "      <th>2021-05-31</th>\n",
       "      <td>4.5</td>\n",
       "    </tr>\n",
       "  </tbody>\n",
       "</table>\n",
       "</div>"
      ],
      "text/plain": [
       "            Stock_price\n",
       "2021-01-31          NaN\n",
       "2021-02-28          1.5\n",
       "2021-03-31          2.5\n",
       "2021-04-30          3.5\n",
       "2021-05-31          4.5"
      ]
     },
     "execution_count": 87,
     "metadata": {},
     "output_type": "execute_result"
    }
   ],
   "source": [
    "import pandas as pd \n",
    "time_index = pd.date_range(\"1/1/2021\",periods =5 ,freq = \"M\")\n",
    "dataframe =  pd.DataFrame(index=time_index)\n",
    "dataframe[\"Stock_price\"] = [1,2,3,4,5]\n",
    "dataframe.rolling(window=2).mean() # 参数是2 ， 算的就是 当前值和上一个值的均值 "
   ]
  },
  {
   "cell_type": "code",
   "execution_count": 88,
   "metadata": {},
   "outputs": [
    {
     "data": {
      "text/html": [
       "<div>\n",
       "<style scoped>\n",
       "    .dataframe tbody tr th:only-of-type {\n",
       "        vertical-align: middle;\n",
       "    }\n",
       "\n",
       "    .dataframe tbody tr th {\n",
       "        vertical-align: top;\n",
       "    }\n",
       "\n",
       "    .dataframe thead th {\n",
       "        text-align: right;\n",
       "    }\n",
       "</style>\n",
       "<table border=\"1\" class=\"dataframe\">\n",
       "  <thead>\n",
       "    <tr style=\"text-align: right;\">\n",
       "      <th></th>\n",
       "      <th>Stock_price</th>\n",
       "    </tr>\n",
       "  </thead>\n",
       "  <tbody>\n",
       "    <tr>\n",
       "      <th>2021-01-31</th>\n",
       "      <td>NaN</td>\n",
       "    </tr>\n",
       "    <tr>\n",
       "      <th>2021-02-28</th>\n",
       "      <td>NaN</td>\n",
       "    </tr>\n",
       "    <tr>\n",
       "      <th>2021-03-31</th>\n",
       "      <td>2.0</td>\n",
       "    </tr>\n",
       "    <tr>\n",
       "      <th>2021-04-30</th>\n",
       "      <td>3.0</td>\n",
       "    </tr>\n",
       "    <tr>\n",
       "      <th>2021-05-31</th>\n",
       "      <td>4.0</td>\n",
       "    </tr>\n",
       "  </tbody>\n",
       "</table>\n",
       "</div>"
      ],
      "text/plain": [
       "            Stock_price\n",
       "2021-01-31          NaN\n",
       "2021-02-28          NaN\n",
       "2021-03-31          2.0\n",
       "2021-04-30          3.0\n",
       "2021-05-31          4.0"
      ]
     },
     "execution_count": 88,
     "metadata": {},
     "output_type": "execute_result"
    }
   ],
   "source": [
    "dataframe.rolling(window=3).mean()"
   ]
  },
  {
   "cell_type": "markdown",
   "metadata": {},
   "source": [
    "# 7.9 处理时间序列缺失值"
   ]
  },
  {
   "cell_type": "markdown",
   "metadata": {},
   "source": [
    "总的来说三种方法 1.按缺失值前后幅度做平滑 2.取前值 2.取后值"
   ]
  },
  {
   "cell_type": "code",
   "execution_count": 98,
   "metadata": {},
   "outputs": [
    {
     "data": {
      "text/html": [
       "<div>\n",
       "<style scoped>\n",
       "    .dataframe tbody tr th:only-of-type {\n",
       "        vertical-align: middle;\n",
       "    }\n",
       "\n",
       "    .dataframe tbody tr th {\n",
       "        vertical-align: top;\n",
       "    }\n",
       "\n",
       "    .dataframe thead th {\n",
       "        text-align: right;\n",
       "    }\n",
       "</style>\n",
       "<table border=\"1\" class=\"dataframe\">\n",
       "  <thead>\n",
       "    <tr style=\"text-align: right;\">\n",
       "      <th></th>\n",
       "      <th>Sales</th>\n",
       "    </tr>\n",
       "  </thead>\n",
       "  <tbody>\n",
       "    <tr>\n",
       "      <th>2021-01-31</th>\n",
       "      <td>1.0</td>\n",
       "    </tr>\n",
       "    <tr>\n",
       "      <th>2021-02-28</th>\n",
       "      <td>2.0</td>\n",
       "    </tr>\n",
       "    <tr>\n",
       "      <th>2021-03-31</th>\n",
       "      <td>3.0</td>\n",
       "    </tr>\n",
       "    <tr>\n",
       "      <th>2021-04-30</th>\n",
       "      <td>NaN</td>\n",
       "    </tr>\n",
       "    <tr>\n",
       "      <th>2021-05-31</th>\n",
       "      <td>5.0</td>\n",
       "    </tr>\n",
       "  </tbody>\n",
       "</table>\n",
       "</div>"
      ],
      "text/plain": [
       "            Sales\n",
       "2021-01-31    1.0\n",
       "2021-02-28    2.0\n",
       "2021-03-31    3.0\n",
       "2021-04-30    NaN\n",
       "2021-05-31    5.0"
      ]
     },
     "execution_count": 98,
     "metadata": {},
     "output_type": "execute_result"
    }
   ],
   "source": [
    "import pandas as pd \n",
    "import numpy as np \n",
    "time_index = pd.date_range(\"1/1/2021\",periods=5,freq=\"M\")\n",
    "dataframe = pd.DataFrame(index=time_index)\n",
    "dataframe['Sales'] = [1.0,2.0,np.nan,np.nan,5.0]\n",
    "# 方法1 \n",
    "dataframe.interpolate() # 默认是线性\n",
    "dataframe.interpolate(method=\"quadratic\")  # 如果是非线性关系，可以通过控制参数来调整\n",
    "dataframe.interpolate(limit=1,limit_direction=\"forward\")# 也可以控制填补个数和方向"
   ]
  },
  {
   "cell_type": "code",
   "execution_count": 93,
   "metadata": {
    "collapsed": true
   },
   "outputs": [
    {
     "data": {
      "text/html": [
       "<div>\n",
       "<style scoped>\n",
       "    .dataframe tbody tr th:only-of-type {\n",
       "        vertical-align: middle;\n",
       "    }\n",
       "\n",
       "    .dataframe tbody tr th {\n",
       "        vertical-align: top;\n",
       "    }\n",
       "\n",
       "    .dataframe thead th {\n",
       "        text-align: right;\n",
       "    }\n",
       "</style>\n",
       "<table border=\"1\" class=\"dataframe\">\n",
       "  <thead>\n",
       "    <tr style=\"text-align: right;\">\n",
       "      <th></th>\n",
       "      <th>Sales</th>\n",
       "    </tr>\n",
       "  </thead>\n",
       "  <tbody>\n",
       "    <tr>\n",
       "      <th>2021-01-31</th>\n",
       "      <td>1.0</td>\n",
       "    </tr>\n",
       "    <tr>\n",
       "      <th>2021-02-28</th>\n",
       "      <td>2.0</td>\n",
       "    </tr>\n",
       "    <tr>\n",
       "      <th>2021-03-31</th>\n",
       "      <td>2.0</td>\n",
       "    </tr>\n",
       "    <tr>\n",
       "      <th>2021-04-30</th>\n",
       "      <td>2.0</td>\n",
       "    </tr>\n",
       "    <tr>\n",
       "      <th>2021-05-31</th>\n",
       "      <td>5.0</td>\n",
       "    </tr>\n",
       "  </tbody>\n",
       "</table>\n",
       "</div>"
      ],
      "text/plain": [
       "            Sales\n",
       "2021-01-31    1.0\n",
       "2021-02-28    2.0\n",
       "2021-03-31    2.0\n",
       "2021-04-30    2.0\n",
       "2021-05-31    5.0"
      ]
     },
     "execution_count": 93,
     "metadata": {},
     "output_type": "execute_result"
    }
   ],
   "source": [
    "#方法2 \n",
    "dataframe.ffill()"
   ]
  },
  {
   "cell_type": "code",
   "execution_count": 94,
   "metadata": {
    "collapsed": true
   },
   "outputs": [
    {
     "data": {
      "text/html": [
       "<div>\n",
       "<style scoped>\n",
       "    .dataframe tbody tr th:only-of-type {\n",
       "        vertical-align: middle;\n",
       "    }\n",
       "\n",
       "    .dataframe tbody tr th {\n",
       "        vertical-align: top;\n",
       "    }\n",
       "\n",
       "    .dataframe thead th {\n",
       "        text-align: right;\n",
       "    }\n",
       "</style>\n",
       "<table border=\"1\" class=\"dataframe\">\n",
       "  <thead>\n",
       "    <tr style=\"text-align: right;\">\n",
       "      <th></th>\n",
       "      <th>Sales</th>\n",
       "    </tr>\n",
       "  </thead>\n",
       "  <tbody>\n",
       "    <tr>\n",
       "      <th>2021-01-31</th>\n",
       "      <td>1.0</td>\n",
       "    </tr>\n",
       "    <tr>\n",
       "      <th>2021-02-28</th>\n",
       "      <td>2.0</td>\n",
       "    </tr>\n",
       "    <tr>\n",
       "      <th>2021-03-31</th>\n",
       "      <td>5.0</td>\n",
       "    </tr>\n",
       "    <tr>\n",
       "      <th>2021-04-30</th>\n",
       "      <td>5.0</td>\n",
       "    </tr>\n",
       "    <tr>\n",
       "      <th>2021-05-31</th>\n",
       "      <td>5.0</td>\n",
       "    </tr>\n",
       "  </tbody>\n",
       "</table>\n",
       "</div>"
      ],
      "text/plain": [
       "            Sales\n",
       "2021-01-31    1.0\n",
       "2021-02-28    2.0\n",
       "2021-03-31    5.0\n",
       "2021-04-30    5.0\n",
       "2021-05-31    5.0"
      ]
     },
     "execution_count": 94,
     "metadata": {},
     "output_type": "execute_result"
    }
   ],
   "source": [
    "# 方法3\n",
    "dataframe.bfill()"
   ]
  }
 ],
 "metadata": {
  "kernelspec": {
   "display_name": "Python 3",
   "language": "python",
   "name": "python3"
  },
  "language_info": {
   "codemirror_mode": {
    "name": "ipython",
    "version": 3
   },
   "file_extension": ".py",
   "mimetype": "text/x-python",
   "name": "python",
   "nbconvert_exporter": "python",
   "pygments_lexer": "ipython3",
   "version": "3.6.8"
  }
 },
 "nbformat": 4,
 "nbformat_minor": 2
}
