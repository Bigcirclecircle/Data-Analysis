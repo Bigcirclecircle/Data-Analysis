{
 "cells": [
  {
   "cell_type": "markdown",
   "metadata": {
    "heading_collapsed": true
   },
   "source": [
    "## 综述"
   ]
  },
  {
   "cell_type": "code",
   "execution_count": 60,
   "metadata": {
    "code_folding": [],
    "hidden": true,
    "scrolled": true
   },
   "outputs": [],
   "source": [
    "# 快捷键的编辑模式（回车  和命令模式（esc\n",
    "\n",
    "#windows 的cmd 和mac 的终端一样，都是控制台 可以多开 不是非得关掉再开"
   ]
  },
  {
   "cell_type": "code",
   "execution_count": 62,
   "metadata": {
    "code_folding": [],
    "hidden": true,
    "scrolled": true
   },
   "outputs": [
    {
     "data": {
      "image/png": "[encoded data removed]",
      "text/plain": [
       "<matplotlib.figure.Figure at 0x10851a0b8>"
      ]
     },
     "metadata": {},
     "output_type": "display_data"
    }
   ],
   "source": [
    "#意图用这个代码说明python简介并且功能强大\n",
    "#据说这个包含了几乎所有的python知识\n",
    "#在终端直接敲命令也可以画出图来\n",
    "\n",
    "import matplotlib.pyplot as plt\n",
    "import numpy as np \n",
    "plt.hist(np.random.randn(10000),bins=40)\n",
    "plt.show()"
   ]
  },
  {
   "cell_type": "code",
   "execution_count": 63,
   "metadata": {
    "hidden": true
   },
   "outputs": [
    {
     "name": "stdout",
     "output_type": "stream",
     "text": [
      "hello world\n"
     ]
    }
   ],
   "source": [
    "print(\"hello world\")"
   ]
  },
  {
   "cell_type": "code",
   "execution_count": 64,
   "metadata": {
    "hidden": true
   },
   "outputs": [
    {
     "name": "stdout",
     "output_type": "stream",
     "text": [
      "hello world\n"
     ]
    }
   ],
   "source": [
    "print(\"hello\",\"world\") # 逗号隔开的时候会自动加空格"
   ]
  },
  {
   "cell_type": "code",
   "execution_count": null,
   "metadata": {
    "hidden": true
   },
   "outputs": [],
   "source": [
    "#一次输入对应一次输出的这种编程叫做交互式编程"
   ]
  },
  {
   "cell_type": "markdown",
   "metadata": {
    "heading_collapsed": true
   },
   "source": [
    "## 核心语法"
   ]
  },
  {
   "cell_type": "markdown",
   "metadata": {
    "heading_collapsed": true,
    "hidden": true
   },
   "source": [
    "### 变量"
   ]
  },
  {
   "cell_type": "code",
   "execution_count": 65,
   "metadata": {
    "hidden": true
   },
   "outputs": [
    {
     "name": "stdout",
     "output_type": "stream",
     "text": [
      "hello world\n"
     ]
    }
   ],
   "source": [
    "x = \"world\"\n",
    "print(\"hello\",x)"
   ]
  },
  {
   "cell_type": "code",
   "execution_count": 67,
   "metadata": {
    "hidden": true
   },
   "outputs": [
    {
     "name": "stdout",
     "output_type": "stream",
     "text": [
      "1 S\n",
      "2 S\n",
      "1 K\n",
      "2 K\n"
     ]
    }
   ],
   "source": [
    "name = \"S\"\n",
    "print(\"1\",name)\n",
    "print(\"2\",name)\n",
    "\n",
    "name = \"K\"\n",
    "print(\"1\",name)\n",
    "print(\"2\",name)\n",
    "\n",
    "# 变量很巧妙，像是一个中介 两者不需要直接产生关系，一切都交给这个中介就行了。\n",
    "# 想一个事情，我要把S改成K ， 然后把K改Q ，然后把Q 改成Z 这样我不仅要记住要改成什么，还要记住是谁被修改\n",
    "#但如果有了变量就舒服了 ，我只要记住要改成什么，而被修改的始终都是name "
   ]
  },
  {
   "cell_type": "markdown",
   "metadata": {
    "hidden": true
   },
   "source": [
    "#### 变量有命名规则：\n",
    "    1.只能用字母数字下划线\n",
    "    2.不能数字开头\n",
    "    3.区分大小写\n",
    "    4.不要和关键字重了"
   ]
  },
  {
   "cell_type": "markdown",
   "metadata": {
    "hidden": true
   },
   "source": [
    "#### 命名规范：\n",
    "    1.普通变量一般小写字母\n",
    "    2.不用单词+数字命名变量\n",
    "    3.单词间下划线或者首字母大写\n",
    "    "
   ]
  },
  {
   "cell_type": "code",
   "execution_count": 68,
   "metadata": {
    "hidden": true
   },
   "outputs": [],
   "source": [
    "_x = 12"
   ]
  },
  {
   "cell_type": "markdown",
   "metadata": {
    "hidden": true
   },
   "source": [
    "#### 高级赋值"
   ]
  },
  {
   "cell_type": "code",
   "execution_count": 70,
   "metadata": {
    "hidden": true
   },
   "outputs": [
    {
     "name": "stdout",
     "output_type": "stream",
     "text": [
      "1 1 1\n"
     ]
    }
   ],
   "source": [
    "a=b=c=1\n",
    "print(a,b,c)"
   ]
  },
  {
   "cell_type": "code",
   "execution_count": 71,
   "metadata": {
    "hidden": true
   },
   "outputs": [
    {
     "name": "stdout",
     "output_type": "stream",
     "text": [
      "1 2 3\n"
     ]
    }
   ],
   "source": [
    "a,b,c = 1,2,3\n",
    "print(a,b,c)"
   ]
  },
  {
   "cell_type": "code",
   "execution_count": 72,
   "metadata": {
    "hidden": true
   },
   "outputs": [
    {
     "name": "stdout",
     "output_type": "stream",
     "text": [
      "2 3 1\n"
     ]
    }
   ],
   "source": [
    "a,b,c =b,c,a \n",
    "print(a,b,c) # 交换"
   ]
  },
  {
   "cell_type": "markdown",
   "metadata": {
    "hidden": true
   },
   "source": [
    "#### 刻意销毁"
   ]
  },
  {
   "cell_type": "code",
   "execution_count": 73,
   "metadata": {
    "hidden": true
   },
   "outputs": [
    {
     "ename": "NameError",
     "evalue": "name 'a' is not defined",
     "output_type": "error",
     "traceback": [
      "\u001b[0;31m---------------------------------------------------------------------------\u001b[0m",
      "\u001b[0;31mNameError\u001b[0m                                 Traceback (most recent call last)",
      "\u001b[0;32m<ipython-input-73-a1a2274143d2>\u001b[0m in \u001b[0;36m<module>\u001b[0;34m()\u001b[0m\n\u001b[1;32m      1\u001b[0m \u001b[0;32mdel\u001b[0m \u001b[0ma\u001b[0m\u001b[0;34m\u001b[0m\u001b[0;34m\u001b[0m\u001b[0m\n\u001b[0;32m----> 2\u001b[0;31m \u001b[0mprint\u001b[0m\u001b[0;34m(\u001b[0m\u001b[0ma\u001b[0m\u001b[0;34m,\u001b[0m\u001b[0mb\u001b[0m\u001b[0;34m,\u001b[0m\u001b[0mc\u001b[0m\u001b[0;34m)\u001b[0m\u001b[0;34m\u001b[0m\u001b[0;34m\u001b[0m\u001b[0m\n\u001b[0m",
      "\u001b[0;31mNameError\u001b[0m: name 'a' is not defined"
     ]
    }
   ],
   "source": [
    "\n",
    "del a  # 刻意销毁\n",
    "print(a,b,c) "
   ]
  },
  {
   "cell_type": "markdown",
   "metadata": {
    "heading_collapsed": true,
    "hidden": true
   },
   "source": [
    "### 数据类型"
   ]
  },
  {
   "cell_type": "markdown",
   "metadata": {
    "hidden": true
   },
   "source": [
    "#### 字符串"
   ]
  },
  {
   "cell_type": "code",
   "execution_count": 75,
   "metadata": {
    "hidden": true
   },
   "outputs": [
    {
     "name": "stdout",
     "output_type": "stream",
     "text": [
      "cheval parle\"enchante!\"\n"
     ]
    }
   ],
   "source": [
    "#  转义字符 \\\n",
    "print (\"cheval parle\\\"enchante!\\\"\")"
   ]
  },
  {
   "cell_type": "code",
   "execution_count": 76,
   "metadata": {
    "hidden": true
   },
   "outputs": [
    {
     "name": "stdout",
     "output_type": "stream",
     "text": [
      "a b\n"
     ]
    }
   ],
   "source": [
    "print ('a',\"b\") # 单双引号无区别"
   ]
  },
  {
   "cell_type": "code",
   "execution_count": 77,
   "metadata": {
    "hidden": true
   },
   "outputs": [
    {
     "name": "stdout",
     "output_type": "stream",
     "text": [
      "cheval parle\"enchante!\"\n"
     ]
    }
   ],
   "source": [
    "print('cheval parle\"enchante!\"') # 单双引号可以错开使用"
   ]
  },
  {
   "cell_type": "code",
   "execution_count": 81,
   "metadata": {
    "hidden": true
   },
   "outputs": [
    {
     "name": "stdout",
     "output_type": "stream",
     "text": [
      "this's a tooooooo long sentence\n"
     ]
    }
   ],
   "source": [
    "x = \"this's a tooooooo \\\n",
    "long sentence\"\n",
    "print(x)\n",
    "# 注意反斜杠后边不能有空格 ，作用是连接多行"
   ]
  },
  {
   "cell_type": "code",
   "execution_count": 82,
   "metadata": {
    "hidden": true
   },
   "outputs": [
    {
     "name": "stdout",
     "output_type": "stream",
     "text": [
      "\n",
      "i love you \n",
      "jaime tu\n",
      "une joli femme\n",
      "jadore francais\n",
      "\n"
     ]
    }
   ],
   "source": [
    "# 如果实在太长了可以使用三引号\n",
    "\n",
    "y = \"\"\"\n",
    "i love you \n",
    "jaime tu\n",
    "une joli femme\n",
    "jadore francais\n",
    "\"\"\"\n",
    "print(y)"
   ]
  },
  {
   "cell_type": "markdown",
   "metadata": {
    "hidden": true
   },
   "source": [
    "#### 布尔、空值、类型转换"
   ]
  },
  {
   "cell_type": "code",
   "execution_count": 83,
   "metadata": {
    "hidden": true
   },
   "outputs": [
    {
     "data": {
      "text/plain": [
       "0"
      ]
     },
     "execution_count": 83,
     "metadata": {},
     "output_type": "execute_result"
    }
   ],
   "source": [
    "a = False\n",
    "b = True\n",
    "a*b"
   ]
  },
  {
   "cell_type": "code",
   "execution_count": 85,
   "metadata": {
    "hidden": true
   },
   "outputs": [
    {
     "name": "stdout",
     "output_type": "stream",
     "text": [
      "None\n",
      "<class 'NoneType'>\n"
     ]
    }
   ],
   "source": [
    "temp = None \n",
    "print(temp)\n",
    "print(type(temp))"
   ]
  },
  {
   "cell_type": "code",
   "execution_count": 86,
   "metadata": {
    "hidden": true
   },
   "outputs": [
    {
     "name": "stdout",
     "output_type": "stream",
     "text": [
      "False\n",
      "False\n",
      "False\n"
     ]
    }
   ],
   "source": [
    "# 布尔转换 空值空串和0都是False\n",
    "print(bool(None)) \n",
    "print(bool(\"\"))\n",
    "print(bool(0))\n"
   ]
  },
  {
   "cell_type": "code",
   "execution_count": 88,
   "metadata": {
    "hidden": true
   },
   "outputs": [
    {
     "name": "stdout",
     "output_type": "stream",
     "text": [
      "2\n",
      "3\n"
     ]
    }
   ],
   "source": [
    "#浮点向整数转换的小数取舍问题\n",
    "\n",
    "f = 2.533\n",
    "print(int(f)) #直接扔掉小数部分\n",
    "print(round(f)) # 四舍五入"
   ]
  },
  {
   "cell_type": "markdown",
   "metadata": {
    "heading_collapsed": true,
    "hidden": true
   },
   "source": [
    "### 运算符号"
   ]
  },
  {
   "cell_type": "code",
   "execution_count": 103,
   "metadata": {
    "hidden": true
   },
   "outputs": [
    {
     "name": "stdout",
     "output_type": "stream",
     "text": [
      "2.5\n",
      "2\n",
      "-4\n"
     ]
    }
   ],
   "source": [
    "# 两个除法\n",
    "#运算符两边带空格是书写规范\n",
    "\n",
    "print(5 / 2) # 带小数\n",
    "print(5 // 2) # 去小数\n",
    "print(10//(-3))# 注意它是怎么处理小数的\n",
    "# 总是的说来都是在缩小的"
   ]
  },
  {
   "cell_type": "code",
   "execution_count": 91,
   "metadata": {
    "hidden": true
   },
   "outputs": [
    {
     "name": "stdout",
     "output_type": "stream",
     "text": [
      "3.3333333333333335\n"
     ]
    }
   ],
   "source": [
    "print(10/3) # 注意最后的5是二进制表示有穷性导致的，也就是说，浮点数运算有精度问题"
   ]
  },
  {
   "cell_type": "code",
   "execution_count": 104,
   "metadata": {
    "hidden": true
   },
   "outputs": [
    {
     "name": "stdout",
     "output_type": "stream",
     "text": [
      "1\n",
      "-2\n",
      "-2\n",
      "7\n",
      "7\n"
     ]
    }
   ],
   "source": [
    "print(10 % 3 )\n",
    "print(10 % (-3)) # 注意出现负数的时候  计算公式是 a%b = a-(a//b)*b\n",
    "print(10-(10//(-3))*(-3))\n",
    "print((-3) % 10)\n",
    "print((-3)-((-3)//(10))*(10))\n"
   ]
  },
  {
   "cell_type": "code",
   "execution_count": 106,
   "metadata": {
    "hidden": true
   },
   "outputs": [
    {
     "name": "stdout",
     "output_type": "stream",
     "text": [
      "helloworld\n",
      "hello hello hello hello hello hello hello \n"
     ]
    }
   ],
   "source": [
    "# +可以连接字符串 , 乘号表重复\n",
    "print(\"hello\"+\"world\")\n",
    "print(\"hello \"*7)"
   ]
  },
  {
   "cell_type": "code",
   "execution_count": null,
   "metadata": {
    "hidden": true
   },
   "outputs": [],
   "source": [
    "# += 号"
   ]
  },
  {
   "cell_type": "code",
   "execution_count": 111,
   "metadata": {
    "hidden": true
   },
   "outputs": [
    {
     "name": "stdout",
     "output_type": "stream",
     "text": [
      "4\n",
      "8\n",
      "64\n"
     ]
    }
   ],
   "source": [
    "a= 2\n",
    "a+=2\n",
    "print(a)\n",
    "a*=2\n",
    "print(a)\n",
    "a**=2\n",
    "print(a)"
   ]
  },
  {
   "cell_type": "code",
   "execution_count": 114,
   "metadata": {
    "hidden": true
   },
   "outputs": [
    {
     "name": "stdout",
     "output_type": "stream",
     "text": [
      "count: 1\n",
      "loop\n",
      "count: 2\n",
      "loop\n",
      "count: 3\n",
      "loop\n",
      "count: 4\n",
      "loop\n",
      "count: 5\n",
      "loop\n",
      "count: 6\n",
      "loop\n",
      "count: 7\n",
      "loop\n",
      "count: 8\n",
      "loop\n",
      "count: 9\n",
      "loop\n",
      "count: 10\n",
      "loop\n"
     ]
    }
   ],
   "source": [
    "count = 0 \n",
    "for i in range(10):\n",
    "    count += 1\n",
    "    print('count:',count)\n",
    "    print(\"loop\")"
   ]
  },
  {
   "cell_type": "code",
   "execution_count": 116,
   "metadata": {
    "hidden": true
   },
   "outputs": [
    {
     "name": "stdout",
     "output_type": "stream",
     "text": [
      "True False True True\n"
     ]
    }
   ],
   "source": [
    "print(True and True , True and False, True or False ,not False )"
   ]
  },
  {
   "cell_type": "code",
   "execution_count": 117,
   "metadata": {
    "hidden": true
   },
   "outputs": [
    {
     "data": {
      "text/plain": [
       "True"
      ]
     },
     "execution_count": 117,
     "metadata": {},
     "output_type": "execute_result"
    }
   ],
   "source": [
    "1==1  # 显然这相当于布尔表达式"
   ]
  },
  {
   "cell_type": "code",
   "execution_count": 118,
   "metadata": {
    "hidden": true
   },
   "outputs": [
    {
     "data": {
      "text/plain": [
       "False"
      ]
     },
     "execution_count": 118,
     "metadata": {},
     "output_type": "execute_result"
    }
   ],
   "source": [
    "1==1 and 1==2 # 然后再用逻辑运算符号，表达就丰富了"
   ]
  },
  {
   "cell_type": "code",
   "execution_count": 125,
   "metadata": {
    "hidden": true
   },
   "outputs": [
    {
     "name": "stdout",
     "output_type": "stream",
     "text": [
      "0 100 1 2 0 7\n"
     ]
    }
   ],
   "source": [
    "# 还可以用来赋值\n",
    "f= 0 or 0  # 都F 就是0\n",
    "a = 0 or 100 #有T 选第一个T\n",
    "b=1 or 2  # 多T 选第一个T\n",
    "c= 1 and 2 #都T 选最后一个 T\n",
    "d= 7 and 0 #有F 就是0 \n",
    "\n",
    "\n",
    "print(f,a,b,c,d,e)"
   ]
  },
  {
   "cell_type": "markdown",
   "metadata": {
    "hidden": true
   },
   "source": [
    "### 流程控制"
   ]
  },
  {
   "cell_type": "markdown",
   "metadata": {
    "heading_collapsed": true,
    "hidden": true
   },
   "source": [
    "#### 条件判断"
   ]
  },
  {
   "cell_type": "code",
   "execution_count": 126,
   "metadata": {
    "code_folding": [],
    "hidden": true
   },
   "outputs": [
    {
     "name": "stdout",
     "output_type": "stream",
     "text": [
      "3是奇数\n"
     ]
    }
   ],
   "source": [
    "# if else \n",
    "num = 3 \n",
    "if num % 2 == 0:\n",
    "    print(str(num) + '是偶数')\n",
    "else:\n",
    "    print(str(num) + '是奇数')\n",
    "    "
   ]
  },
  {
   "cell_type": "code",
   "execution_count": 129,
   "metadata": {
    "hidden": true
   },
   "outputs": [
    {
     "name": "stdout",
     "output_type": "stream",
     "text": [
      "您的成绩优秀\n"
     ]
    }
   ],
   "source": [
    "# elif \n",
    "score = 100\n",
    "\n",
    "if score < 60:\n",
    "    print(\"您的成绩不及格\")\n",
    "elif score <90:  \n",
    "    print(\"您的成绩合格\")\n",
    "else:   \n",
    "    print(\"您的成绩优秀\")"
   ]
  },
  {
   "cell_type": "code",
   "execution_count": 131,
   "metadata": {
    "hidden": true
   },
   "outputs": [
    {
     "name": "stdout",
     "output_type": "stream",
     "text": [
      "您的成绩优秀\n"
     ]
    }
   ],
   "source": [
    "# if 嵌套\n",
    "#可以无限嵌套，但要尽量减少，增加可读性\n",
    "\n",
    "score = 100\n",
    "if score >= 60:\n",
    "    if score <70:\n",
    "        print(\"您的成绩合格\")\n",
    "    elif score <90:\n",
    "        print(\"您的成绩良好\")\n",
    "    else:\n",
    "        print(\"您的成绩优秀\")\n",
    "else:\n",
    "    print(\"您的成绩不及格\")"
   ]
  },
  {
   "cell_type": "code",
   "execution_count": 135,
   "metadata": {
    "hidden": true
   },
   "outputs": [
    {
     "name": "stdout",
     "output_type": "stream",
     "text": [
      "你已经是个大人了，该工作搞钱了\n",
      "你已经是个大人了，该工作搞钱了\n"
     ]
    }
   ],
   "source": [
    "# 配合逻辑运算符\n",
    "\n",
    "age =26 \n",
    "if age > 18 and age < 60:\n",
    "    print('你已经是个大人了，该工作搞钱了')\n",
    "\n",
    "#python 特有简洁写法\n",
    "age =26 \n",
    "if 18 < age < 60:\n",
    "    print('你已经是个大人了，该工作搞钱了')   "
   ]
  },
  {
   "cell_type": "code",
   "execution_count": 138,
   "metadata": {
    "hidden": true,
    "scrolled": false
   },
   "outputs": [
    {
     "name": "stdout",
     "output_type": "stream",
     "text": [
      "ex1:F\n",
      "ex2:T\n",
      "ex3:T\n",
      "ex4:F\n",
      "ex5:F\n"
     ]
    }
   ],
   "source": [
    "#  自动类型转换\n",
    "# if 后边跟着的所谓条件，其实就是一个布尔变量 根据T或者F选择执行分支\n",
    "count =  0 \n",
    "if count :\n",
    "    print (\"ex1:T\")\n",
    "else :\n",
    "    print(\"ex1:F\")\n",
    "    \n",
    "count =  1 \n",
    "if count :\n",
    "    print (\"ex2:T\")\n",
    "else :\n",
    "    print(\"ex2:F\")\n",
    "    \n",
    "count =  -1\n",
    "if count :\n",
    "    print (\"ex3:T\")\n",
    "else :\n",
    "    print(\"ex3:F\")\n",
    "    \n",
    "# 然后发现了 只要数值不是0 就都是F 负数也没事  ， 和之前的bool判断吻合\n",
    "\n",
    "count = \"\"\n",
    "if count :\n",
    "    print (\"ex4:T\")\n",
    "else :\n",
    "    print(\"ex4:F\")\n",
    "    \n",
    "count =None \n",
    "if count :\n",
    "    print (\"ex5:T\")\n",
    "else :\n",
    "    print(\"ex5:F\")\n",
    "    \n",
    "#重复一遍 只有空串 ， 0 ， 还有 None 是False "
   ]
  },
  {
   "cell_type": "markdown",
   "metadata": {
    "hidden": true
   },
   "source": [
    "#### 循环"
   ]
  },
  {
   "cell_type": "markdown",
   "metadata": {
    "heading_collapsed": true,
    "hidden": true
   },
   "source": [
    "##### while 和for "
   ]
  },
  {
   "cell_type": "code",
   "execution_count": 140,
   "metadata": {
    "hidden": true
   },
   "outputs": [
    {
     "name": "stdout",
     "output_type": "stream",
     "text": [
      "我跑了1圈\n",
      "我跑了2圈\n",
      "我跑了3圈\n",
      "我跑了4圈\n",
      "我跑了5圈\n",
      "我跑了6圈\n",
      "我跑了7圈\n",
      "我跑了8圈\n",
      "我跑了9圈\n",
      "我跑了10圈\n"
     ]
    }
   ],
   "source": [
    "#while 循环\n",
    "#循环条件 循环体\n",
    "x = 0\n",
    "while x < 10 :\n",
    "    x+=1\n",
    "    print(\"我跑了\"+str(x)+\"圈\")\n"
   ]
  },
  {
   "cell_type": "code",
   "execution_count": 141,
   "metadata": {
    "hidden": true
   },
   "outputs": [
    {
     "name": "stdout",
     "output_type": "stream",
     "text": [
      "h\n",
      "e\n",
      "l\n",
      "l\n",
      "o\n"
     ]
    }
   ],
   "source": [
    "# for 循环\n",
    "\n",
    "seq = \"hello\"\n",
    "for s in seq :\n",
    "    print(s)"
   ]
  },
  {
   "cell_type": "code",
   "execution_count": 143,
   "metadata": {
    "hidden": true,
    "scrolled": true
   },
   "outputs": [
    {
     "name": "stdout",
     "output_type": "stream",
     "text": [
      "我跑了1圈\n",
      "我跑了2圈\n",
      "我跑了3圈\n",
      "我跑了4圈\n",
      "我跑了5圈\n",
      "我跑了6圈\n",
      "我跑了7圈\n",
      "我跑了8圈\n",
      "我跑了9圈\n",
      "我跑了10圈\n"
     ]
    }
   ],
   "source": [
    "# 比起来显然这种写法更简洁优雅\n",
    "#一个审美的问题：什么是优美？  优雅和自然更接近吗？ 从反义词似乎可以窥见一些要义  与粗暴粗鲁相对的\n",
    "#雅致有着更好的解释： 美丽而不俗套\n",
    "\n",
    "for i in range(10):\n",
    "    print(\"我跑了\"+str(i+1)+\"圈\")"
   ]
  },
  {
   "cell_type": "code",
   "execution_count": 146,
   "metadata": {
    "hidden": true
   },
   "outputs": [
    {
     "name": "stdout",
     "output_type": "stream",
     "text": [
      "*?*?*?*?*?*?*?*?*?*?*?*?*?*?*?*?*?*?*?*?*?*?*?*?*?*?*?*?*?*?*?*?*?*?*?*?*?*?*?*?*?*?*?*?*?*?*?*?*?*?"
     ]
    }
   ],
   "source": [
    "width,height = 10,5\n",
    "for i in range(height):\n",
    "    for j in range(width):\n",
    "        print(\"*\",end=\"?\") # 本来每次打印之后默认加的是换行符号，但是end可以控制。\n",
    "        \n",
    "    "
   ]
  },
  {
   "cell_type": "code",
   "execution_count": 151,
   "metadata": {
    "hidden": true,
    "scrolled": true
   },
   "outputs": [
    {
     "name": "stdout",
     "output_type": "stream",
     "text": [
      "**********\n",
      "**********\n",
      "**********\n",
      "**********\n",
      "**********\n"
     ]
    }
   ],
   "source": [
    "width,height = 10,5\n",
    "for i in range(height):\n",
    "    for j in range(width):\n",
    "        print(\"*\",end=\"\") # 本来每次打印之后默认加的是换行符号，但是end可以控制。\n",
    "    print()# 什么都不打印的时候，默认换行  相当于  print(\"\",end=\"\\n\") \n",
    "    "
   ]
  },
  {
   "cell_type": "code",
   "execution_count": 153,
   "metadata": {
    "hidden": true
   },
   "outputs": [
    {
     "name": "stdout",
     "output_type": "stream",
     "text": [
      "**********\n",
      "**********\n",
      "**********\n",
      "**********\n",
      "**********\n"
     ]
    }
   ],
   "source": [
    "width,height = 10,5\n",
    "for i in range(height):\n",
    "    for j in range(width):\n",
    "        print(\"*\",end=\"\") # 本来每次打印之后默认加的是换行符号，但是end可以控制。\n",
    "    print(\"\",end=\"\\n\") # 验证一下"
   ]
  },
  {
   "cell_type": "code",
   "execution_count": 152,
   "metadata": {
    "hidden": true,
    "scrolled": true
   },
   "outputs": [
    {
     "name": "stdout",
     "output_type": "stream",
     "text": [
      "**********$**********$**********$**********$**********$"
     ]
    }
   ],
   "source": [
    "width,height = 10,5\n",
    "for i in range(height):\n",
    "    for j in range(width):\n",
    "        print(\"*\",end=\"\") # 本来每次打印之后默认加的是换行符号，但是end可以控制。\n",
    "    print(\"\",end=\"$\") # 验证一下\n",
    "    "
   ]
  },
  {
   "cell_type": "code",
   "execution_count": 156,
   "metadata": {
    "hidden": true,
    "scrolled": true
   },
   "outputs": [
    {
     "name": "stdout",
     "output_type": "stream",
     "text": [
      "* * * * * * * * * \n",
      "* * * * * * * * \n",
      "* * * * * * * \n",
      "* * * * * * \n",
      "* * * * * \n",
      "* * * * \n",
      "* * * \n",
      "* * \n",
      "* \n",
      "\n"
     ]
    }
   ],
   "source": [
    "# 打印一个三角形 \n",
    "width,height = 10,10\n",
    "for i in range(height):\n",
    "    for j in range(width):\n",
    "        if i < j:\n",
    "            print(\"* \",end=\"\") # 本来每次打印之后默认加的是换行符号，但是end可以控制。\n",
    "    print(\"\",end=\"\\n\") "
   ]
  },
  {
   "cell_type": "code",
   "execution_count": 157,
   "metadata": {
    "hidden": true,
    "scrolled": false
   },
   "outputs": [
    {
     "name": "stdout",
     "output_type": "stream",
     "text": [
      "\n",
      "* \n",
      "* * \n",
      "* * * \n",
      "* * * * \n",
      "* * * * * \n",
      "* * * * * * \n",
      "* * * * * * * \n",
      "* * * * * * * * \n",
      "* * * * * * * * * \n"
     ]
    }
   ],
   "source": [
    "# 打印一个三角形 \n",
    "width,height = 10,10\n",
    "for i in range(height):\n",
    "    for j in range(width):\n",
    "        if i > j:\n",
    "            print(\"* \",end=\"\") # 本来每次打印之后默认加的是换行符号，但是end可以控制。\n",
    "    print(\"\",end=\"\\n\") "
   ]
  },
  {
   "cell_type": "code",
   "execution_count": 169,
   "metadata": {
    "hidden": true,
    "scrolled": true
   },
   "outputs": [
    {
     "name": "stdout",
     "output_type": "stream",
     "text": [
      "* * * * * * * * * * \n",
      "  * * * * * * * * * \n",
      "    * * * * * * * * \n",
      "      * * * * * * * \n",
      "        * * * * * * \n",
      "          * * * * * \n",
      "            * * * * \n",
      "              * * * \n",
      "                * * \n",
      "                  * \n"
     ]
    }
   ],
   "source": [
    "# 打印一个三角形 \n",
    "width,height = 10,10\n",
    "for i in range(height):\n",
    "    for j in range(width):\n",
    "        if j < i:\n",
    "            print(\"  \",end=\"\")\n",
    "            \n",
    "        else:    \n",
    "            print(\"* \",end=\"\") # 本来每次打印之后默认加的是换行符号，但是end可以控制。\n",
    "        \n",
    "    print(\"\",end=\"\\n\") "
   ]
  },
  {
   "cell_type": "code",
   "execution_count": 189,
   "metadata": {
    "hidden": true,
    "scrolled": true
   },
   "outputs": [
    {
     "name": "stdout",
     "output_type": "stream",
     "text": [
      "                  * \n",
      "                * * \n",
      "              * * * \n",
      "            * * * * \n",
      "          * * * * * \n",
      "        * * * * * * \n",
      "      * * * * * * * \n",
      "    * * * * * * * * \n",
      "  * * * * * * * * * \n",
      "* * * * * * * * * * \n"
     ]
    }
   ],
   "source": [
    "# 打印一个三角形 \n",
    "width,height = 10,10\n",
    "for i in range(height):\n",
    "    for j in range(width):\n",
    "        if i <= (8-j):\n",
    "            print(\"  \",end=\"\")\n",
    "        else :\n",
    "            print ('* ',end=\"\")\n",
    "            \n",
    "    print(\"\",end=\"\\n\") "
   ]
  },
  {
   "cell_type": "code",
   "execution_count": 190,
   "metadata": {
    "hidden": true
   },
   "outputs": [],
   "source": [
    "#这里的嵌套因为外层是空换行，所以只起控制高度的作用，想变换输出，核心问题是怎么做循环条件\n",
    "#一个重要的点  空可以表示无 看不见的东西也许只是填充进去的空格"
   ]
  },
  {
   "cell_type": "code",
   "execution_count": 203,
   "metadata": {
    "hidden": true,
    "scrolled": true
   },
   "outputs": [
    {
     "name": "stdout",
     "output_type": "stream",
     "text": [
      "1*1=1 \n",
      "2*1=2 2*2=4 \n",
      "3*1=3 3*2=6 3*3=9 \n",
      "4*1=4 4*2=8 4*3=12 4*4=16 \n",
      "5*1=5 5*2=10 5*3=15 5*4=20 5*5=25 \n",
      "6*1=6 6*2=12 6*3=18 6*4=24 6*5=30 6*6=36 \n",
      "7*1=7 7*2=14 7*3=21 7*4=28 7*5=35 7*6=42 7*7=49 \n",
      "8*1=8 8*2=16 8*3=24 8*4=32 8*5=40 8*6=48 8*7=56 8*8=64 \n",
      "9*1=9 9*2=18 9*3=27 9*4=36 9*5=45 9*6=54 9*7=63 9*8=72 9*9=81 \n"
     ]
    }
   ],
   "source": [
    "# 注意 range 是左闭右开的\n",
    "#九九乘法表\n",
    "\n",
    "for i in range(1,10):\n",
    "    for j in range(1,i+1):\n",
    "        print(str(i)+\"*\"+str(j)+\"=\"+str(i*j) ,end = \" \")\n",
    "    print()\n",
    "\n",
    "    "
   ]
  },
  {
   "cell_type": "code",
   "execution_count": 204,
   "metadata": {
    "hidden": true
   },
   "outputs": [
    {
     "name": "stdout",
     "output_type": "stream",
     "text": [
      "1*1=1 \n",
      "1*2=2 2*2=4 \n",
      "1*3=3 2*3=6 3*3=9 \n",
      "1*4=4 2*4=8 3*4=12 4*4=16 \n",
      "1*5=5 2*5=10 3*5=15 4*5=20 5*5=25 \n",
      "1*6=6 2*6=12 3*6=18 4*6=24 5*6=30 6*6=36 \n",
      "1*7=7 2*7=14 3*7=21 4*7=28 5*7=35 6*7=42 7*7=49 \n",
      "1*8=8 2*8=16 3*8=24 4*8=32 5*8=40 6*8=48 7*8=56 8*8=64 \n",
      "1*9=9 2*9=18 3*9=27 4*9=36 5*9=45 6*9=54 7*9=63 8*9=72 9*9=81 \n"
     ]
    }
   ],
   "source": [
    "#九九乘法表\n",
    "#print 部分优化\n",
    "for i in range(1,10):\n",
    "    for j in range(1,i+1):\n",
    "        print(\"%s*%s=%s\" % (j,i,j*i) ,end = \" \")\n",
    "    print()\n"
   ]
  },
  {
   "cell_type": "code",
   "execution_count": 211,
   "metadata": {
    "hidden": true,
    "scrolled": false
   },
   "outputs": [
    {
     "name": "stdout",
     "output_type": "stream",
     "text": [
      "1,x\n",
      "9*9=81 \n",
      "$$7#xxxk\n"
     ]
    },
    {
     "ename": "TypeError",
     "evalue": "%d format: a number is required, not str",
     "output_type": "error",
     "traceback": [
      "\u001b[0;31m---------------------------------------------------------------------------\u001b[0m",
      "\u001b[0;31mTypeError\u001b[0m                                 Traceback (most recent call last)",
      "\u001b[0;32m<ipython-input-211-fd9fb4c4bcfe>\u001b[0m in \u001b[0;36m<module>\u001b[0;34m()\u001b[0m\n\u001b[1;32m      2\u001b[0m \u001b[0mprint\u001b[0m\u001b[0;34m(\u001b[0m\u001b[0;34m\"%d*%d=%d\"\u001b[0m \u001b[0;34m%\u001b[0m \u001b[0;34m(\u001b[0m\u001b[0mj\u001b[0m\u001b[0;34m,\u001b[0m\u001b[0mi\u001b[0m\u001b[0;34m,\u001b[0m\u001b[0mj\u001b[0m\u001b[0;34m*\u001b[0m\u001b[0mi\u001b[0m\u001b[0;34m)\u001b[0m \u001b[0;34m,\u001b[0m\u001b[0mend\u001b[0m \u001b[0;34m=\u001b[0m \u001b[0;34m\" \\n\"\u001b[0m\u001b[0;34m)\u001b[0m \u001b[0;31m# s 换成d 也可以 ，再不用一个一个转换类型了\u001b[0m\u001b[0;34m\u001b[0m\u001b[0;34m\u001b[0m\u001b[0m\n\u001b[1;32m      3\u001b[0m \u001b[0mprint\u001b[0m\u001b[0;34m(\u001b[0m\u001b[0;34m(\u001b[0m\u001b[0;34m\"$$%d#xxx%s\"\u001b[0m\u001b[0;34m)\u001b[0m \u001b[0;34m%\u001b[0m \u001b[0;34m(\u001b[0m\u001b[0;36m7\u001b[0m\u001b[0;34m,\u001b[0m\u001b[0;34m'k'\u001b[0m\u001b[0;34m)\u001b[0m\u001b[0;34m)\u001b[0m\u001b[0;34m\u001b[0m\u001b[0;34m\u001b[0m\u001b[0m\n\u001b[0;32m----> 4\u001b[0;31m \u001b[0mprint\u001b[0m\u001b[0;34m(\u001b[0m\u001b[0;34m(\u001b[0m\u001b[0;34m\"$$%d#xxx%s\"\u001b[0m\u001b[0;34m)\u001b[0m \u001b[0;34m%\u001b[0m \u001b[0;34m(\u001b[0m\u001b[0;34m'k'\u001b[0m\u001b[0;34m,\u001b[0m\u001b[0;36m7\u001b[0m\u001b[0;34m)\u001b[0m\u001b[0;34m)\u001b[0m \u001b[0;31m# 对应的类型要对，不然还是会报错\u001b[0m\u001b[0;34m\u001b[0m\u001b[0;34m\u001b[0m\u001b[0m\n\u001b[0m",
      "\u001b[0;31mTypeError\u001b[0m: %d format: a number is required, not str"
     ]
    }
   ],
   "source": [
    "print(('%d,%s') % (1,'x')) # 混合输出也可以 绝了\n",
    "print(\"%d*%d=%d\" % (j,i,j*i) ,end = \" \\n\") # s 换成d 也可以 ，再不用一个一个转换类型了\n",
    "print((\"$$%d#xxx%s\") % (7,'k'))\n",
    "print((\"$$%d#xxx%s\") % ('k',7)) # 对应的类型要对，不然还是会报错"
   ]
  },
  {
   "cell_type": "markdown",
   "metadata": {
    "heading_collapsed": true,
    "hidden": true
   },
   "source": [
    "##### continue 和break  和 pass"
   ]
  },
  {
   "cell_type": "code",
   "execution_count": 212,
   "metadata": {
    "hidden": true
   },
   "outputs": [
    {
     "name": "stdout",
     "output_type": "stream",
     "text": [
      "1 + 3 + 5 + 7 + 9 +  = 25\n"
     ]
    }
   ],
   "source": [
    "# continue  \n",
    "total =  0\n",
    "\n",
    "for i in range(10):\n",
    "    if i % 2 == 0:\n",
    "        continue \n",
    "    print(i, end=\" + \")\n",
    "    total += i\n",
    "    \n",
    "print(\" = %s\" % total)\n",
    "\n",
    "#在这个for 循环里，if判断了如果是偶数，就跳出这一圈循环，但是下一轮还继续做"
   ]
  },
  {
   "cell_type": "code",
   "execution_count": 213,
   "metadata": {
    "hidden": true
   },
   "outputs": [
    {
     "name": "stdout",
     "output_type": "stream",
     "text": [
      " = 0\n"
     ]
    }
   ],
   "source": [
    "total =  0\n",
    "\n",
    "for i in range(10):\n",
    "    if i % 2 == 0:\n",
    "        break \n",
    "    print(i, end=\" + \")\n",
    "    total += i\n",
    "    \n",
    "print(\" = %s\" % total)\n",
    "\n",
    "#可以看到break 是全打断"
   ]
  },
  {
   "cell_type": "code",
   "execution_count": 215,
   "metadata": {
    "hidden": true
   },
   "outputs": [
    {
     "name": "stdout",
     "output_type": "stream",
     "text": [
      "2\n"
     ]
    }
   ],
   "source": [
    "s = '2.86996876789'\n",
    "for i in s : \n",
    "    if i== \".\":\n",
    "        print()\n",
    "        break\n",
    "    print(i,end='')"
   ]
  },
  {
   "cell_type": "code",
   "execution_count": 216,
   "metadata": {
    "hidden": true
   },
   "outputs": [
    {
     "name": "stdout",
     "output_type": "stream",
     "text": [
      "第0次循环\n",
      "这是一个奇数\n",
      "第1次循环\n",
      "第2次循环\n",
      "这是一个奇数\n",
      "第3次循环\n",
      "第4次循环\n",
      "这是一个奇数\n",
      "第5次循环\n",
      "第6次循环\n",
      "这是一个奇数\n",
      "第7次循环\n",
      "第8次循环\n",
      "这是一个奇数\n",
      "第9次循环\n"
     ]
    }
   ],
   "source": [
    "#pass 就是到了它这啥也不干\n",
    "\n",
    "for i in range(10):\n",
    "    if i % 2 != 0:\n",
    "        print('这是一个奇数')\n",
    "    else :\n",
    "        pass \n",
    "    \n",
    "    print(\"第%d次循环\" % (i))\n",
    "    "
   ]
  },
  {
   "cell_type": "markdown",
   "metadata": {
    "hidden": true
   },
   "source": [
    "#### 案例：密码锁"
   ]
  },
  {
   "cell_type": "code",
   "execution_count": 222,
   "metadata": {
    "hidden": true
   },
   "outputs": [
    {
     "name": "stdout",
     "output_type": "stream",
     "text": [
      "请输入要更换的新密码:0\n",
      "请再次输入要更换的新密码:0\n",
      "您的密码现在为：0\n",
      "进入开锁程序\n"
     ]
    }
   ],
   "source": [
    "#password  = input(\"请输入您的密码\")\n",
    "\n",
    "# 设置初始密码\n",
    "password  = '123'\n",
    "\n",
    "while True: \n",
    "    pwd = input(\"请输入要更换的新密码:\") # 这个input 默认是字符串输入，所以这个时候设置0也是可以的\n",
    "    #如果没输入，就默认原始密码\n",
    "    if not pwd:\n",
    "        break\n",
    "    confirm_pwd = input(\"请再次输入要更换的新密码:\")\n",
    "    if pwd == confirm_pwd:\n",
    "        password = pwd\n",
    "        break\n",
    "    else:\n",
    "        print(\"密码输入不一致，请重新输入\")\n",
    "        \n",
    "print(\"您的密码现在为：\"+ password)\n",
    "print(\"进入开锁程序\")\n"
   ]
  },
  {
   "cell_type": "code",
   "execution_count": 223,
   "metadata": {
    "hidden": true
   },
   "outputs": [
    {
     "name": "stdout",
     "output_type": "stream",
     "text": [
      "请输入密码：3254\n",
      "密码错误，请重新输入\n",
      "请输入密码：90\n",
      "开锁成功\n"
     ]
    }
   ],
   "source": [
    "#开锁\n",
    "#验证机制是只要串里包含就算对\n",
    "while True:\n",
    "    input_pwd = input(\"请输入密码：\")\n",
    "    if password in input_pwd:\n",
    "        print(\"开锁成功\")\n",
    "        break\n",
    "    else:\n",
    "        print(\"密码错误，请重新输入\")"
   ]
  },
  {
   "cell_type": "markdown",
   "metadata": {
    "heading_collapsed": true
   },
   "source": [
    "## 数据结构"
   ]
  },
  {
   "cell_type": "markdown",
   "metadata": {
    "heading_collapsed": true,
    "hidden": true
   },
   "source": [
    "### 字符串"
   ]
  },
  {
   "cell_type": "markdown",
   "metadata": {
    "heading_collapsed": true,
    "hidden": true
   },
   "source": [
    "#### 格式化"
   ]
  },
  {
   "cell_type": "code",
   "execution_count": 231,
   "metadata": {
    "hidden": true,
    "scrolled": true
   },
   "outputs": [
    {
     "name": "stdout",
     "output_type": "stream",
     "text": [
      "3\n",
      "3.140000\n",
      "3.2\n",
      "3.140\n",
      "3.14\n",
      "3.1%\n"
     ]
    }
   ],
   "source": [
    "# 占位符 % \n",
    "\n",
    "print (\"%d\" % 3.14) #整型\n",
    "print (\"%f\" % 3.14) #浮点\n",
    "print (\"%.1f\" % 3.17) #指定保留1位\n",
    "print (\"%.3f\" % 3.14) #不足位的补零\n",
    "print (\"%s\" % 3.14) # 万能\n",
    "print (\"%.1f%%\" % 3.14)  # 想在后边加百分号要这么写"
   ]
  },
  {
   "cell_type": "code",
   "execution_count": 232,
   "metadata": {
    "hidden": true
   },
   "outputs": [
    {
     "data": {
      "text/plain": [
       "'1,236,776,543'"
      ]
     },
     "execution_count": 232,
     "metadata": {},
     "output_type": "execute_result"
    }
   ],
   "source": [
    "#format函数 格式化\n",
    "\n",
    "'{:,}'.format(1236776543) # 三位逗号分隔=\n"
   ]
  },
  {
   "cell_type": "code",
   "execution_count": 233,
   "metadata": {
    "hidden": true
   },
   "outputs": [
    {
     "data": {
      "text/plain": [
       "'摩纳哥的GDP为7,100,000,000...虽然它的GDP只有7,100,000,000美元，但它的人均GDP高达18万美元'"
      ]
     },
     "execution_count": 233,
     "metadata": {},
     "output_type": "execute_result"
    }
   ],
   "source": [
    "'{0}的GDP为{1:,}...虽然它的GDP只有{1:,}美元，但它的人均GDP高达18万美元'.format(\"摩纳哥\", 7100000000)\n",
    "#优点的是可复用"
   ]
  },
  {
   "cell_type": "code",
   "execution_count": 234,
   "metadata": {
    "hidden": true
   },
   "outputs": [
    {
     "data": {
      "text/plain": [
       "'打南边来了个喇嘛,喇嘛从南边来干啥？'"
      ]
     },
     "execution_count": 234,
     "metadata": {},
     "output_type": "execute_result"
    }
   ],
   "source": [
    "'打{0}来了个{1},{1}从{0}来干啥？'.format(\"南边\",\"喇嘛\")"
   ]
  },
  {
   "cell_type": "markdown",
   "metadata": {
    "heading_collapsed": true,
    "hidden": true
   },
   "source": [
    "#### 切片"
   ]
  },
  {
   "cell_type": "code",
   "execution_count": 243,
   "metadata": {
    "hidden": true
   },
   "outputs": [
    {
     "name": "stdout",
     "output_type": "stream",
     "text": [
      "hi\n",
      "Chin\n",
      "Cia\n",
      "anihC\n",
      "aiC\n"
     ]
    }
   ],
   "source": [
    "print(\"China\"[1:3]) # 正常取数，左闭右开 和range一样的\n",
    "print(\"China\"[0:-1]) #取一个到倒数第二个\n",
    "print(\"China\"[::2]) # 隔两个取一个\n",
    "print(\"China\"[::-1]) # 反向取\n",
    "print(\"China\"[::-2]) # 反向隔两个取"
   ]
  },
  {
   "cell_type": "code",
   "execution_count": 246,
   "metadata": {
    "hidden": true
   },
   "outputs": [
    {
     "name": "stdout",
     "output_type": "stream",
     "text": [
      "1\n",
      "2\n"
     ]
    }
   ],
   "source": [
    "for  i in range(1,3):\n",
    "    print(i)"
   ]
  },
  {
   "cell_type": "markdown",
   "metadata": {
    "hidden": true
   },
   "source": [
    "#### 函数"
   ]
  },
  {
   "cell_type": "markdown",
   "metadata": {
    "heading_collapsed": true,
    "hidden": true
   },
   "source": [
    "##### 处理空白"
   ]
  },
  {
   "cell_type": "code",
   "execution_count": 249,
   "metadata": {
    "hidden": true,
    "scrolled": true
   },
   "outputs": [
    {
     "name": "stdout",
     "output_type": "stream",
     "text": [
      "A\n",
      "B \\C\tD\n"
     ]
    }
   ],
   "source": [
    "#空白字符：空格、换行（\\n）,制表(\\t)\n",
    "print(\"A\\nB \\C\\tD\")"
   ]
  },
  {
   "cell_type": "code",
   "execution_count": 260,
   "metadata": {
    "hidden": true,
    "scrolled": true
   },
   "outputs": [
    {
     "name": "stdout",
     "output_type": "stream",
     "text": [
      "False\n",
      "False\n"
     ]
    }
   ],
   "source": [
    "a = \"x x\"\n",
    "b =\"xx\"\n",
    "o = \" xx \"\n",
    "print(a==b)\n",
    "print(b==o)\n",
    "\n",
    "#带不带空格是有区别的"
   ]
  },
  {
   "cell_type": "code",
   "execution_count": 262,
   "metadata": {
    "hidden": true,
    "scrolled": true
   },
   "outputs": [
    {
     "name": "stdout",
     "output_type": "stream",
     "text": [
      "测试 a\n",
      "3\n",
      "x x\n",
      "3\n",
      "测试 c\n",
      "3\n",
      "x\n",
      "1\n",
      "测试 d\n",
      "5\n",
      "x\n",
      "1\n"
     ]
    }
   ],
   "source": [
    "print(\"测试 a\")\n",
    "a = \"x x\"\n",
    "print(len(c))\n",
    "print(a.strip())\n",
    "print(len(a))\n",
    "\n",
    "print(\"测试 c\")\n",
    "c=\" x \"\n",
    "print(len(c))\n",
    "print(c.strip())\n",
    "print(len(c.strip()))\n",
    "#可以看出来 strip这个函数只对于去除字符串两端的空格有用\n",
    "\n",
    "print(\"测试 d\")\n",
    "d=\" x \\t\\n\"\n",
    "print(len(d))\n",
    "print(d.strip())\n",
    "print(len(d.strip()))\n",
    "\n",
    "#不只是空格 只要是空白字符都能铲 \n",
    "#左右去空白：  lstrip , rstrip "
   ]
  },
  {
   "cell_type": "markdown",
   "metadata": {
    "hidden": true
   },
   "source": [
    "##### 大小写"
   ]
  },
  {
   "cell_type": "code",
   "execution_count": 267,
   "metadata": {
    "hidden": true,
    "scrolled": true
   },
   "outputs": [
    {
     "name": "stdout",
     "output_type": "stream",
     "text": [
      "I  LOVE CHINA\n",
      "I  love china\n",
      "i  love china\n",
      "I  Love China\n"
     ]
    }
   ],
   "source": [
    "st = \"i  love cHina\"\n",
    "\n",
    "print(st.upper()) #全大写\n",
    "print(st.capitalize()) # 首字符大写 要是空就还是空\n",
    "print(st.lower()) #全小写\n",
    "print(st.title()) # 每个单词首字母大写 首字符是不是空不影响\n"
   ]
  },
  {
   "cell_type": "code",
   "execution_count": 269,
   "metadata": {
    "hidden": true,
    "scrolled": true
   },
   "outputs": [
    {
     "name": "stdout",
     "output_type": "stream",
     "text": [
      "True\n",
      "False\n",
      "False\n",
      "True\n",
      "False\n"
     ]
    }
   ],
   "source": [
    "test = \"asflkfgh\"\n",
    "test2 = 567890\n",
    "print(test.startswith('as')) # 检查开头\n",
    "print(test.endswith('kg'))   # 检查结尾\n",
    "print(test.isdigit())  # 是不是数字\n",
    "print(test.islower())  #全小写？\n",
    "print(test.isupper())   # 全大写？ \n",
    "\n"
   ]
  },
  {
   "cell_type": "code",
   "execution_count": 272,
   "metadata": {
    "hidden": true,
    "scrolled": true
   },
   "outputs": [
    {
     "name": "stdout",
     "output_type": "stream",
     "text": [
      "1\n",
      "-1\n",
      "1\n"
     ]
    },
    {
     "ename": "ValueError",
     "evalue": "substring not found",
     "output_type": "error",
     "traceback": [
      "\u001b[0;31m---------------------------------------------------------------------------\u001b[0m",
      "\u001b[0;31mValueError\u001b[0m                                Traceback (most recent call last)",
      "\u001b[0;32m<ipython-input-272-4f0ae2b5d50c>\u001b[0m in \u001b[0;36m<module>\u001b[0;34m()\u001b[0m\n\u001b[1;32m      3\u001b[0m \u001b[0mprint\u001b[0m\u001b[0;34m(\u001b[0m\u001b[0mtest\u001b[0m\u001b[0;34m.\u001b[0m\u001b[0mfind\u001b[0m\u001b[0;34m(\u001b[0m\u001b[0;34m'z'\u001b[0m\u001b[0;34m)\u001b[0m\u001b[0;34m)\u001b[0m \u001b[0;31m# 找不到返回-1\u001b[0m\u001b[0;34m\u001b[0m\u001b[0;34m\u001b[0m\u001b[0m\n\u001b[1;32m      4\u001b[0m \u001b[0mprint\u001b[0m\u001b[0;34m(\u001b[0m\u001b[0mtest\u001b[0m\u001b[0;34m.\u001b[0m\u001b[0mindex\u001b[0m\u001b[0;34m(\u001b[0m\u001b[0;34m's'\u001b[0m\u001b[0;34m)\u001b[0m\u001b[0;34m)\u001b[0m \u001b[0;31m# index也可以\u001b[0m\u001b[0;34m\u001b[0m\u001b[0;34m\u001b[0m\u001b[0m\n\u001b[0;32m----> 5\u001b[0;31m \u001b[0mprint\u001b[0m\u001b[0;34m(\u001b[0m\u001b[0mtest\u001b[0m\u001b[0;34m.\u001b[0m\u001b[0mindex\u001b[0m\u001b[0;34m(\u001b[0m\u001b[0;34m'z'\u001b[0m\u001b[0;34m)\u001b[0m\u001b[0;34m)\u001b[0m \u001b[0;31m# 但是找不到会报错\u001b[0m\u001b[0;34m\u001b[0m\u001b[0;34m\u001b[0m\u001b[0m\n\u001b[0m",
      "\u001b[0;31mValueError\u001b[0m: substring not found"
     ]
    }
   ],
   "source": [
    "test = \"asflkfgh\"\n",
    "print(test.find('s')) #找到返回位置，从0起\n",
    "print(test.find('z')) # 找不到返回-1 \n",
    "print(test.index('s')) # index也可以\n",
    "print(test.index('z')) # 但是找不到会报错"
   ]
  },
  {
   "cell_type": "code",
   "execution_count": 276,
   "metadata": {
    "hidden": true,
    "scrolled": true
   },
   "outputs": [
    {
     "name": "stdout",
     "output_type": "stream",
     "text": [
      "0\n",
      "asbilkbigh\n",
      "8\n"
     ]
    }
   ],
   "source": [
    "print(test.count('z')) #看元素出现几次\n",
    "print(test.replace('f','bi'))  # 替换\n",
    "\n",
    "print(len(test))  #看长度  啥长度都能看"
   ]
  },
  {
   "cell_type": "markdown",
   "metadata": {
    "hidden": true
   },
   "source": [
    "#### 案例：异常号码分析"
   ]
  },
  {
   "cell_type": "code",
   "execution_count": 281,
   "metadata": {
    "hidden": true
   },
   "outputs": [
    {
     "name": "stdout",
     "output_type": "stream",
     "text": [
      "输入一个号码：\n",
      "04542888272\n",
      "无法识别\n",
      "输入一个号码：\n",
      "05553456373\n",
      "固定电话\n",
      "输入一个号码：\n",
      "exit\n"
     ]
    }
   ],
   "source": [
    "cellphone_number_start = \"13,15,17,18,19\"\n",
    "telephone_number_start = \"010,021,022,025,0888,0555\"\n",
    "\n",
    "while True:\n",
    "    num = input(\"输入一个号码：\\n\")\n",
    "    if num == 'exit':\n",
    "        break\n",
    "    if not num:\n",
    "        print(\"错误：号码为空\")\n",
    "    num =num.strip()\n",
    "    if not num.isdigit():\n",
    "        print(\"号码无效\")\n",
    "        continue \n",
    "    elif num.startswith('1') and len(num) == 11 and num[0:2] in cellphone_number_start:\n",
    "        print(\"手机号码\")\n",
    "        continue\n",
    "    elif num.startswith('400') and len(num) ==10 :\n",
    "        print(\"广告电话\")\n",
    "        continue \n",
    "    elif num.startswith('0'):\n",
    "        #代码太长的时候用反斜杠分割\n",
    "        if (len(num)==12 and num[0:4] in telephone_number_start) or \\\n",
    "        (len(num)==11 and num[0:3] in telephone_number_start):\n",
    "            print(\"固定电话\")\n",
    "            continue \n",
    "    print(\"无法识别\")\n",
    "        \n",
    "    "
   ]
  },
  {
   "cell_type": "markdown",
   "metadata": {
    "heading_collapsed": true,
    "hidden": true
   },
   "source": [
    "### 元祖"
   ]
  },
  {
   "cell_type": "code",
   "execution_count": 283,
   "metadata": {
    "hidden": true
   },
   "outputs": [
    {
     "name": "stdout",
     "output_type": "stream",
     "text": [
      "m\n",
      "('n', 's')\n",
      "('m', 's')\n"
     ]
    }
   ],
   "source": [
    "t = ('m','n','s','bc')\n",
    "print(t[0])\n",
    "print(t[1:3])\n",
    "print(t[::2])"
   ]
  },
  {
   "cell_type": "code",
   "execution_count": 284,
   "metadata": {
    "hidden": true
   },
   "outputs": [],
   "source": [
    "t = 'm','n','s','bc'   # 可以不加括号定义 有逗号就行"
   ]
  },
  {
   "cell_type": "code",
   "execution_count": 286,
   "metadata": {
    "hidden": true
   },
   "outputs": [
    {
     "data": {
      "text/plain": [
       "True"
      ]
     },
     "execution_count": 286,
     "metadata": {},
     "output_type": "execute_result"
    }
   ],
   "source": [
    "t = ('solo',)\n",
    "x = 'solo',\n",
    "t==x"
   ]
  },
  {
   "cell_type": "code",
   "execution_count": 290,
   "metadata": {
    "hidden": true
   },
   "outputs": [
    {
     "data": {
      "text/plain": [
       "1"
      ]
     },
     "execution_count": 290,
     "metadata": {},
     "output_type": "execute_result"
    }
   ],
   "source": [
    "len(x)"
   ]
  },
  {
   "cell_type": "code",
   "execution_count": 291,
   "metadata": {
    "hidden": true
   },
   "outputs": [
    {
     "data": {
      "text/plain": [
       "('a', 'b', 'v')"
      ]
     },
     "execution_count": 291,
     "metadata": {},
     "output_type": "execute_result"
    }
   ],
   "source": [
    "tuple('abv') # 强制转换"
   ]
  },
  {
   "cell_type": "code",
   "execution_count": 294,
   "metadata": {
    "hidden": true
   },
   "outputs": [
    {
     "data": {
      "text/plain": [
       "(0, 1, 2, 3, 4)"
      ]
     },
     "execution_count": 294,
     "metadata": {},
     "output_type": "execute_result"
    }
   ],
   "source": [
    "t1 = tuple(range(5)) \n",
    "t1"
   ]
  },
  {
   "cell_type": "code",
   "execution_count": 295,
   "metadata": {
    "hidden": true
   },
   "outputs": [
    {
     "data": {
      "text/plain": [
       "tuple"
      ]
     },
     "execution_count": 295,
     "metadata": {},
     "output_type": "execute_result"
    }
   ],
   "source": [
    "type(t1)"
   ]
  },
  {
   "cell_type": "code",
   "execution_count": 296,
   "metadata": {
    "hidden": true
   },
   "outputs": [
    {
     "ename": "TypeError",
     "evalue": "sequence item 0: expected str instance, int found",
     "output_type": "error",
     "traceback": [
      "\u001b[0;31m---------------------------------------------------------------------------\u001b[0m",
      "\u001b[0;31mTypeError\u001b[0m                                 Traceback (most recent call last)",
      "\u001b[0;32m<ipython-input-296-3da3fb9c982a>\u001b[0m in \u001b[0;36m<module>\u001b[0;34m()\u001b[0m\n\u001b[0;32m----> 1\u001b[0;31m \u001b[0mprint\u001b[0m\u001b[0;34m(\u001b[0m\u001b[0;34m\"\"\u001b[0m\u001b[0;34m.\u001b[0m\u001b[0mjoin\u001b[0m\u001b[0;34m(\u001b[0m\u001b[0mt1\u001b[0m\u001b[0;34m)\u001b[0m\u001b[0;34m)\u001b[0m\u001b[0;34m\u001b[0m\u001b[0;34m\u001b[0m\u001b[0m\n\u001b[0m",
      "\u001b[0;31mTypeError\u001b[0m: sequence item 0: expected str instance, int found"
     ]
    }
   ],
   "source": [
    "print(\"\".join(t1)) # 整型不给拼"
   ]
  },
  {
   "cell_type": "code",
   "execution_count": 298,
   "metadata": {
    "hidden": true,
    "scrolled": true
   },
   "outputs": [
    {
     "name": "stdout",
     "output_type": "stream",
     "text": [
      "('a', 'b', 'v')\n",
      "a$b$v\n"
     ]
    }
   ],
   "source": [
    "print(tuple('abv'))\n",
    "print(\"$\".join(tuple('abv'))) # join 负责拼接工作"
   ]
  },
  {
   "cell_type": "code",
   "execution_count": 301,
   "metadata": {
    "hidden": true
   },
   "outputs": [
    {
     "name": "stdout",
     "output_type": "stream",
     "text": [
      "['a', 'b', 'g']\n",
      "a*b*g\n",
      "abg\n"
     ]
    }
   ],
   "source": [
    "#  试试列表  也能用\n",
    "l1 = ['a','b','g']\n",
    "print(l1)\n",
    "print(\"*\".join(l1))\n",
    "print(\"\".join(l1))"
   ]
  },
  {
   "cell_type": "code",
   "execution_count": 303,
   "metadata": {
    "hidden": true
   },
   "outputs": [
    {
     "ename": "TypeError",
     "evalue": "'tuple' object does not support item assignment",
     "output_type": "error",
     "traceback": [
      "\u001b[0;31m---------------------------------------------------------------------------\u001b[0m",
      "\u001b[0;31mTypeError\u001b[0m                                 Traceback (most recent call last)",
      "\u001b[0;32m<ipython-input-303-2209437f4689>\u001b[0m in \u001b[0;36m<module>\u001b[0;34m()\u001b[0m\n\u001b[0;32m----> 1\u001b[0;31m \u001b[0mt1\u001b[0m\u001b[0;34m[\u001b[0m\u001b[0;36m1\u001b[0m\u001b[0;34m]\u001b[0m \u001b[0;34m=\u001b[0m\u001b[0;36m3\u001b[0m\u001b[0;34m\u001b[0m\u001b[0;34m\u001b[0m\u001b[0m\n\u001b[0m",
      "\u001b[0;31mTypeError\u001b[0m: 'tuple' object does not support item assignment"
     ]
    }
   ],
   "source": [
    "t1[1] =3  # 数组的元素是不可以修改的  字符串也不行\n"
   ]
  },
  {
   "cell_type": "code",
   "execution_count": 305,
   "metadata": {
    "hidden": true
   },
   "outputs": [
    {
     "data": {
      "text/plain": [
       "['a', 3, 'g']"
      ]
     },
     "execution_count": 305,
     "metadata": {},
     "output_type": "execute_result"
    }
   ],
   "source": [
    "l1[1]=3  # 但列表可以\n",
    "l1"
   ]
  },
  {
   "cell_type": "code",
   "execution_count": null,
   "metadata": {
    "hidden": true
   },
   "outputs": [],
   "source": [
    "#  字符串提到的操作它都能用"
   ]
  },
  {
   "cell_type": "code",
   "execution_count": 306,
   "metadata": {
    "hidden": true
   },
   "outputs": [
    {
     "name": "stdout",
     "output_type": "stream",
     "text": [
      "a\n",
      "b\n",
      "c\n"
     ]
    }
   ],
   "source": [
    "#遍历\n",
    "t2  = ('a','b','c')  \n",
    "for i in t2:\n",
    "    print(i)"
   ]
  },
  {
   "cell_type": "code",
   "execution_count": 307,
   "metadata": {
    "hidden": true
   },
   "outputs": [],
   "source": [
    "## 案例\n",
    "#需求:找出总销售额最高的那个员工，并将TA的名字和总销售额输出。"
   ]
  },
  {
   "cell_type": "code",
   "execution_count": 308,
   "metadata": {
    "hidden": true
   },
   "outputs": [],
   "source": [
    "# 当元组元素较多、较长时，可以这样书写 \n",
    "sales = (\n",
    "    (\"Peter\", (78, 70, 65)),\n",
    "    (\"John\", (88, 80, 85)),\n",
    "    (\"Tony\", (90, 99, 95)),\n",
    "    (\"Henry\", (80, 70, 55)),\n",
    "    (\"Mike\", (95, 90, 95)),\n",
    ")"
   ]
  },
  {
   "cell_type": "code",
   "execution_count": 311,
   "metadata": {
    "hidden": true
   },
   "outputs": [
    {
     "name": "stdout",
     "output_type": "stream",
     "text": [
      "第一季度销售冠军是Mike,总销售额为284\n"
     ]
    }
   ],
   "source": [
    "champion = ''\n",
    "max_amount = 0\n",
    "for sale in sales :\n",
    "    name = sale[0]\n",
    "    quarter_amount = sale[1]\n",
    "    total_amount =0 \n",
    "    for m in quarter_amount:\n",
    "        total_amount+=m\n",
    "    if total_amount > max_amount :\n",
    "        max_amount = total_amount\n",
    "        champion = name\n",
    "print(\"第一季度销售冠军是%s,总销售额为%d\" % (name,max_amount))\n",
    "\n",
    "        "
   ]
  },
  {
   "cell_type": "code",
   "execution_count": 312,
   "metadata": {
    "hidden": true
   },
   "outputs": [
    {
     "name": "stdout",
     "output_type": "stream",
     "text": [
      "第一季度销售冠军是Mike,总销售额为284\n"
     ]
    }
   ],
   "source": [
    "#优化 for 这个地方可以有两个变量接值  用了一个sum函数  然后用了高级赋值方法\n",
    "\n",
    "champion = ''\n",
    "max_amount = 0\n",
    "for name,quarter_amount in sales :\n",
    "    total_amount = sum(quarter_amount)\n",
    "    \n",
    "    if total_amount > max_amount :\n",
    "        max_amount,champion = total_amount,name\n",
    "\n",
    "print(\"第一季度销售冠军是%s,总销售额为%d\" % (name,max_amount))"
   ]
  },
  {
   "cell_type": "markdown",
   "metadata": {
    "hidden": true
   },
   "source": [
    "### 列表"
   ]
  },
  {
   "cell_type": "code",
   "execution_count": 321,
   "metadata": {
    "hidden": true
   },
   "outputs": [
    {
     "name": "stdout",
     "output_type": "stream",
     "text": [
      "x1输出结果为:  []\n",
      "x2输出结果为:  []\n",
      "x3输出结果为:  [1, 2, 3]\n",
      "x4输出结果为:  ['a', 2, '$']\n",
      "x5输出结果为:  [0, 1, 2, 3, 4]\n",
      "x6输出结果为:  ['a', 'b', 's']\n",
      "x7输出结果为:  [1, 2, 3]\n"
     ]
    }
   ],
   "source": [
    "x1 = []\n",
    "x2 = list()\n",
    "x3 = [1,2,3]\n",
    "x4 = ['a',2,'$']\n",
    "x5 = list(range(5))\n",
    "x6 = list('abs')\n",
    "x7 = list((1,2,3))\n",
    "\n",
    "#eval 可以把字符变成指令\n",
    "\n",
    "for i in range(7):\n",
    "    name = 'x'+str(i+1)\n",
    "    print(name+\"输出结果为: \",eval(name))\n",
    "       "
   ]
  },
  {
   "cell_type": "code",
   "execution_count": 324,
   "metadata": {
    "hidden": true
   },
   "outputs": [
    {
     "name": "stdout",
     "output_type": "stream",
     "text": [
      "x1输出结果为:  []\n",
      "x2输出结果为:  []\n",
      "x3输出结果为:  [1, 2, 3]\n",
      "x4输出结果为:  ['a', 2, '$']\n",
      "x5输出结果为:  [0, 1, 2, 3, 4]\n",
      "x6输出结果为:  ['a', 'b', 's']\n",
      "x7输出结果为:  [1, 2, 3]\n"
     ]
    }
   ],
   "source": [
    "#来封装一个输出专用函数\n",
    "\n",
    "def pprint(x,index):\n",
    "    for i in range(index):\n",
    "        name = x +str(i+1)\n",
    "        print(name+\"输出结果为: \",eval(name))\n",
    "\n",
    "pprint('x',7) # OK 这样就解决批量打印问题了"
   ]
  },
  {
   "cell_type": "code",
   "execution_count": 338,
   "metadata": {
    "hidden": true
   },
   "outputs": [
    {
     "name": "stdout",
     "output_type": "stream",
     "text": [
      "['a', 's', 'f', 'h', 'g']\n",
      "['a', 's', 'f', 'h', 'g', '$$$$']\n",
      "a1输出结果为:  ['a', 's', 'f', 'h', 'g', '$$$$']\n",
      "a2输出结果为:  a\n",
      "a3输出结果为:  ['s', 'f']\n",
      "a4输出结果为:  None\n",
      "a5输出结果为:  ['a', 's', 'f', 'h', 'g', '$$$$']\n"
     ]
    }
   ],
   "source": [
    "a1 = list('asfhg')\n",
    "print(a1)\n",
    "a2 = a1[0]\n",
    "a3 = a1[1:3]\n",
    "a4 = a1.append('$$$$') # 这样直接赋值是赋值不了的\n",
    "a5 = a1\n",
    "print(a1)\n",
    "\n",
    "\n",
    "pprint('a',5) \n",
    "\n",
    "#因为指令从上到下执行，到最后这一步打印的时候，a1已经变了，所以a1这个时候的输出是append之后的输出，而不是最开始的那个了\n"
   ]
  },
  {
   "cell_type": "code",
   "execution_count": 377,
   "metadata": {
    "hidden": true
   },
   "outputs": [
    {
     "name": "stdout",
     "output_type": "stream",
     "text": [
      "['a', 's', 'f', '@@@@']\n",
      "['a', 's', 'f', '@@@@']\n",
      "['a', 's', 'f', 'h', 'g']\n"
     ]
    }
   ],
   "source": [
    "# 修改 删除 \n",
    "a1 = list('asfhg')\n",
    "a5 = a1\n",
    "a7 = a1.copy()\n",
    "\n",
    "a1[-1] = '@@@@'\n",
    "del a1[3]\n",
    "\n",
    "\n",
    "print(a1)  \n",
    "print(a5)\n",
    "print(a7)\n",
    "\n",
    "# 可以发现 使用赋值操作会修改原列表，但copy不会"
   ]
  },
  {
   "cell_type": "code",
   "execution_count": 341,
   "metadata": {
    "hidden": true
   },
   "outputs": [
    {
     "name": "stdout",
     "output_type": "stream",
     "text": [
      "['xxxx', 'xxxx', 'a', 's', 'f', 'h', '@@@@']\n",
      "['xxxx', 'xxxx', 'a', 's', 'f', 'h']\n",
      "['xxxx', 'xxxx', 'a', 'f', 'h']\n"
     ]
    }
   ],
   "source": [
    "#插入 弹出\n",
    "\n",
    "a5.insert(0,'xxxx') # 在第0号前边，插入'xxxx'\n",
    "print(a5)\n",
    "\n",
    "a5.pop()\n",
    "print(a5)\n",
    "\n",
    "a5.pop(3)\n",
    "print(a5)\n",
    "\n"
   ]
  },
  {
   "cell_type": "code",
   "execution_count": 344,
   "metadata": {
    "hidden": true
   },
   "outputs": [
    {
     "data": {
      "text/plain": [
       "['a', 'f', 'h']"
      ]
     },
     "execution_count": 344,
     "metadata": {},
     "output_type": "execute_result"
    }
   ],
   "source": [
    "#删指定内容\n",
    "a5.remove('xxxx')\n",
    "a5.remove('xxxx') # 相同内容一次只remove一个\n",
    "a5"
   ]
  },
  {
   "cell_type": "code",
   "execution_count": 345,
   "metadata": {
    "hidden": true
   },
   "outputs": [
    {
     "data": {
      "text/plain": [
       "[]"
      ]
     },
     "execution_count": 345,
     "metadata": {},
     "output_type": "execute_result"
    }
   ],
   "source": [
    "#全灭\n",
    "a5.clear()\n",
    "a5"
   ]
  },
  {
   "cell_type": "code",
   "execution_count": 346,
   "metadata": {
    "hidden": true
   },
   "outputs": [
    {
     "data": {
      "text/plain": [
       "['a',\n",
       " 's',\n",
       " 'd',\n",
       " 'g',\n",
       " 'h',\n",
       " 'j',\n",
       " 'k',\n",
       " 'j',\n",
       " 'h',\n",
       " 'g',\n",
       " 'f',\n",
       " 'd',\n",
       " 's',\n",
       " 0,\n",
       " 1,\n",
       " 2,\n",
       " 3,\n",
       " 4]"
      ]
     },
     "execution_count": 346,
     "metadata": {},
     "output_type": "execute_result"
    }
   ],
   "source": [
    "#批量添加\n",
    "a5.extend(list('asdghjkjhgfds'))\n",
    "a5.extend(range(5))\n",
    "a5"
   ]
  },
  {
   "cell_type": "code",
   "execution_count": 350,
   "metadata": {
    "hidden": true
   },
   "outputs": [
    {
     "data": {
      "text/plain": [
       "[4,\n",
       " 3,\n",
       " 2,\n",
       " 1,\n",
       " 0,\n",
       " 's',\n",
       " 'd',\n",
       " 'f',\n",
       " 'g',\n",
       " 'h',\n",
       " 'j',\n",
       " 'k',\n",
       " 'j',\n",
       " 'h',\n",
       " 'g',\n",
       " 'd',\n",
       " 's',\n",
       " 'a']"
      ]
     },
     "execution_count": 350,
     "metadata": {},
     "output_type": "execute_result"
    }
   ],
   "source": [
    "#反转\n",
    "a5.reverse()\n",
    "a5"
   ]
  },
  {
   "cell_type": "code",
   "execution_count": 351,
   "metadata": {
    "hidden": true
   },
   "outputs": [
    {
     "ename": "TypeError",
     "evalue": "'<' not supported between instances of 'str' and 'int'",
     "output_type": "error",
     "traceback": [
      "\u001b[0;31m---------------------------------------------------------------------------\u001b[0m",
      "\u001b[0;31mTypeError\u001b[0m                                 Traceback (most recent call last)",
      "\u001b[0;32m<ipython-input-351-1b43527f0167>\u001b[0m in \u001b[0;36m<module>\u001b[0;34m()\u001b[0m\n\u001b[1;32m      1\u001b[0m \u001b[0;31m#排序\u001b[0m\u001b[0;34m\u001b[0m\u001b[0;34m\u001b[0m\u001b[0;34m\u001b[0m\u001b[0m\n\u001b[0;32m----> 2\u001b[0;31m \u001b[0ma5\u001b[0m\u001b[0;34m.\u001b[0m\u001b[0msort\u001b[0m\u001b[0;34m(\u001b[0m\u001b[0;34m)\u001b[0m\u001b[0;34m\u001b[0m\u001b[0;34m\u001b[0m\u001b[0m\n\u001b[0m\u001b[1;32m      3\u001b[0m \u001b[0ma5\u001b[0m\u001b[0;34m\u001b[0m\u001b[0;34m\u001b[0m\u001b[0m\n",
      "\u001b[0;31mTypeError\u001b[0m: '<' not supported between instances of 'str' and 'int'"
     ]
    }
   ],
   "source": [
    "#排序 不能数字和字符混着排序\n",
    "a5.sort()\n",
    "a5 "
   ]
  },
  {
   "cell_type": "code",
   "execution_count": 360,
   "metadata": {
    "hidden": true
   },
   "outputs": [
    {
     "name": "stdout",
     "output_type": "stream",
     "text": [
      "[0, 1, 2, 3, 4, 5, 6, 7, 8, 9, 10, 11]\n",
      "[11, 10, 9, 8, 7, 6, 5, 4, 3, 2, 1, 0]\n",
      "[0, 1, 2, 3, 4, 5, 6, 7, 8, 9, 10, 11]\n",
      "[11, 10, 9, 8, 7, 6, 5, 4, 3, 2, 1, 0]\n"
     ]
    }
   ],
   "source": [
    "a6 = list(range(12))\n",
    "print(a6)\n",
    "a6.reverse() # 翻转（大到小）\n",
    "print(a6)\n",
    "a6.sort() # 默认从小到大\n",
    "print(a6)\n",
    "a6.sort(reverse = True) #规定从小到大排\n",
    "print(a6)\n"
   ]
  },
  {
   "cell_type": "code",
   "execution_count": 362,
   "metadata": {
    "hidden": true
   },
   "outputs": [
    {
     "data": {
      "text/plain": [
       "['7', 'A', 'a']"
      ]
     },
     "execution_count": 362,
     "metadata": {},
     "output_type": "execute_result"
    }
   ],
   "source": [
    "a7 = list('aA7')\n",
    "a7.sort()\n",
    "a7 # 按ascii码排 字符型数字放最前，然后是大写字母，然后小写字母"
   ]
  },
  {
   "cell_type": "code",
   "execution_count": 365,
   "metadata": {
    "hidden": true
   },
   "outputs": [
    {
     "data": {
      "text/plain": [
       "[('2m', 7623456), ('3m', 2345678), ('1m', 576543)]"
      ]
     },
     "execution_count": 365,
     "metadata": {},
     "output_type": "execute_result"
    }
   ],
   "source": [
    "#元祖排序\n",
    "\n",
    "#按月销售额 从大到校排序\n",
    "re = [('1m' ,576543),('2m',7623456),('3m',2345678)]\n",
    "re.sort(reverse=True , key = lambda x:x[1]) # 通过key指定参与排名的依据\n",
    "re"
   ]
  },
  {
   "cell_type": "code",
   "execution_count": 368,
   "metadata": {
    "hidden": true
   },
   "outputs": [
    {
     "name": "stdout",
     "output_type": "stream",
     "text": [
      "x1输出结果为:  ('3m', 2345678)\n",
      "x2输出结果为:  2345678\n"
     ]
    }
   ],
   "source": [
    "x1 = re[1]\n",
    "x2 = re[1][1]\n",
    "pprint('x',2)"
   ]
  },
  {
   "cell_type": "code",
   "execution_count": 375,
   "metadata": {
    "hidden": true
   },
   "outputs": [
    {
     "name": "stdout",
     "output_type": "stream",
     "text": [
      "5\n",
      "2345678765481\n"
     ]
    }
   ],
   "source": [
    "k = lambda x:x+1  # 定义一个匿名函数k\n",
    "print (k(4)) # 调用\n",
    "\n",
    "j = lambda x:x**2+2345678765432\n",
    "print(j(7))"
   ]
  },
  {
   "cell_type": "markdown",
   "metadata": {
    "hidden": true
   },
   "source": [
    "#### 列表表达式"
   ]
  },
  {
   "cell_type": "code",
   "execution_count": 383,
   "metadata": {
    "hidden": true,
    "scrolled": true
   },
   "outputs": [
    {
     "name": "stdout",
     "output_type": "stream",
     "text": [
      "[0, 1, 2, 3, 4, 5, 6, 7, 8, 9]\n",
      "[0, 2, 4, 6, 8, 10, 12, 14, 16, 18]\n",
      "[0, 3, 6, 9, 12, 15, 18]\n",
      "[0, 3, 6, 9, 12, 15, 18]\n"
     ]
    }
   ],
   "source": [
    "print([i for i in range(10)])\n",
    "\n",
    "print([i*2 for i in range(10)])\n",
    "\n",
    "print([i for i in range(0,20,3)]) # 0-20 步长是3\n",
    "\n",
    "\n",
    "#等同于\n",
    "\n",
    "lix = []\n",
    "for i in range(0,20,3):\n",
    "    lix.append(i)\n",
    "print(lix)"
   ]
  },
  {
   "cell_type": "code",
   "execution_count": 388,
   "metadata": {
    "hidden": true
   },
   "outputs": [
    {
     "data": {
      "text/plain": [
       "['A',\n",
       " 'B',\n",
       " 'C',\n",
       " 'D',\n",
       " 'E',\n",
       " 'F',\n",
       " 'G',\n",
       " 'H',\n",
       " 'I',\n",
       " 'J',\n",
       " 'K',\n",
       " 'L',\n",
       " 'M',\n",
       " 'N',\n",
       " 'O',\n",
       " 'P',\n",
       " 'Q',\n",
       " 'R',\n",
       " 'S',\n",
       " 'T',\n",
       " 'U',\n",
       " 'V',\n",
       " 'W',\n",
       " 'X',\n",
       " 'Y',\n",
       " 'Z']"
      ]
     },
     "execution_count": 388,
     "metadata": {},
     "output_type": "execute_result"
    }
   ],
   "source": [
    "#chr  可以把ascii码转换成 对应字符\n",
    "\n",
    "[chr(i) for i in range(65,65+26)] \n"
   ]
  },
  {
   "cell_type": "markdown",
   "metadata": {
    "hidden": true
   },
   "source": [
    "#### 案例"
   ]
  },
  {
   "cell_type": "code",
   "execution_count": 390,
   "metadata": {
    "hidden": true
   },
   "outputs": [
    {
     "data": {
      "text/plain": [
       "[('Tony', 284), ('Mike', 280), ('John', 253), ('Peter', 213), ('Henry', 205)]"
      ]
     },
     "execution_count": 390,
     "metadata": {},
     "output_type": "execute_result"
    }
   ],
   "source": [
    "# 案例\n",
    "sales = (\n",
    "    (\"Peter\", (78, 70, 65)),\n",
    "    (\"John\", (88, 80, 85)),\n",
    "    (\"Tony\", (90, 99, 95)),\n",
    "    (\"Henry\", (80, 70, 55)),\n",
    "    (\"Mike\", (95, 90, 95)),\n",
    ")\n",
    "\n",
    "ts =[]\n",
    "for name,qa in sales :\n",
    "    ta = sum(qa)\n",
    "    ts.append((name,ta))\n",
    "ts.sort(key=lambda x:x[1],reverse = True)\n",
    "\n",
    "ts"
   ]
  },
  {
   "cell_type": "code",
   "execution_count": 393,
   "metadata": {
    "hidden": true
   },
   "outputs": [
    {
     "data": {
      "text/plain": [
       "[('Tony', 284), ('Mike', 280), ('John', 253), ('Peter', 213), ('Henry', 205)]"
      ]
     },
     "execution_count": 393,
     "metadata": {},
     "output_type": "execute_result"
    }
   ],
   "source": [
    "#简化\n",
    "\n",
    "ts =[(name,sum(amount)) for name,amount in sales]\n",
    "ts.sort(key=lambda x:x[1],reverse = True)\n",
    "\n",
    "ts"
   ]
  },
  {
   "cell_type": "markdown",
   "metadata": {
    "heading_collapsed": true,
    "hidden": true
   },
   "source": [
    "### 字典"
   ]
  },
  {
   "cell_type": "markdown",
   "metadata": {
    "heading_collapsed": true,
    "hidden": true
   },
   "source": [
    "#### 定义和遍历"
   ]
  },
  {
   "cell_type": "code",
   "execution_count": 394,
   "metadata": {
    "hidden": true
   },
   "outputs": [
    {
     "name": "stdout",
     "output_type": "stream",
     "text": [
      "John 253\n"
     ]
    }
   ],
   "source": [
    "#需求 想找到name 对应的 amount \n",
    "\n",
    "for name,amount in ts:\n",
    "    if name =='John':\n",
    "        print(name,amount)\n",
    "        \n",
    "#这么搞太麻烦了，上字典"
   ]
  },
  {
   "cell_type": "code",
   "execution_count": 396,
   "metadata": {
    "hidden": true
   },
   "outputs": [
    {
     "data": {
      "text/plain": [
       "253"
      ]
     },
     "execution_count": 396,
     "metadata": {},
     "output_type": "execute_result"
    }
   ],
   "source": [
    "sales = {\n",
    "  'Peter': 213,\n",
    "  'John': 253,\n",
    "  'Tony': 284,\n",
    "  'Henry': 205,\n",
    "  'Mike': 280\n",
    "}\n",
    "\n",
    "sales['John']"
   ]
  },
  {
   "cell_type": "code",
   "execution_count": 401,
   "metadata": {
    "hidden": true
   },
   "outputs": [
    {
     "data": {
      "text/plain": [
       "{'Henry': 205, 'John': 253, 'Mike': 280, 'Peter': 213, 'Tony': 284}"
      ]
     },
     "execution_count": 401,
     "metadata": {},
     "output_type": "execute_result"
    }
   ],
   "source": [
    "sales =dict(ts)\n",
    "sales "
   ]
  },
  {
   "cell_type": "code",
   "execution_count": 402,
   "metadata": {
    "hidden": true
   },
   "outputs": [
    {
     "data": {
      "text/plain": [
       "{'Henry': 205, 'John': 253, 'Mike': 280, 'Tony': 400}"
      ]
     },
     "execution_count": 402,
     "metadata": {},
     "output_type": "execute_result"
    }
   ],
   "source": [
    "sales['Tony'] =400\n",
    "sales\n",
    "\n",
    "del sales['Peter']\n",
    "sales"
   ]
  },
  {
   "cell_type": "code",
   "execution_count": 403,
   "metadata": {
    "hidden": true
   },
   "outputs": [
    {
     "name": "stdout",
     "output_type": "stream",
     "text": [
      "('Tony', 400)\n",
      "('Mike', 280)\n",
      "('John', 253)\n",
      "('Henry', 205)\n"
     ]
    }
   ],
   "source": [
    "#遍历\n",
    "\n",
    "for x in sales.items():\n",
    "    print(x)"
   ]
  },
  {
   "cell_type": "code",
   "execution_count": 404,
   "metadata": {
    "hidden": true
   },
   "outputs": [
    {
     "name": "stdout",
     "output_type": "stream",
     "text": [
      "Tony\n",
      "Mike\n",
      "John\n",
      "Henry\n"
     ]
    }
   ],
   "source": [
    "for k in sales : \n",
    "    print(k)\n",
    "    \n",
    "#这样会打印key"
   ]
  },
  {
   "cell_type": "markdown",
   "metadata": {
    "heading_collapsed": true,
    "hidden": true
   },
   "source": [
    "#### 函数"
   ]
  },
  {
   "cell_type": "code",
   "execution_count": 407,
   "metadata": {
    "hidden": true
   },
   "outputs": [
    {
     "name": "stdout",
     "output_type": "stream",
     "text": [
      "0\n"
     ]
    }
   ],
   "source": [
    "if 'mike' in sales:\n",
    "    print(sales['mike'])\n",
    "else :\n",
    "    print(0)"
   ]
  },
  {
   "cell_type": "code",
   "execution_count": 406,
   "metadata": {
    "hidden": true
   },
   "outputs": [
    {
     "data": {
      "text/plain": [
       "0"
      ]
     },
     "execution_count": 406,
     "metadata": {},
     "output_type": "execute_result"
    }
   ],
   "source": [
    "sales.get('mike',0)  # get 一行顶四行"
   ]
  },
  {
   "cell_type": "code",
   "execution_count": 408,
   "metadata": {
    "hidden": true
   },
   "outputs": [
    {
     "data": {
      "text/plain": [
       "{'Henry': 205, 'John': 253, 'Mike': 280, 'Tony': 400}"
      ]
     },
     "execution_count": 408,
     "metadata": {},
     "output_type": "execute_result"
    }
   ],
   "source": [
    "sales"
   ]
  },
  {
   "cell_type": "code",
   "execution_count": 410,
   "metadata": {
    "hidden": true
   },
   "outputs": [
    {
     "data": {
      "text/plain": [
       "dict_keys(['Tony', 'Mike', 'John', 'Henry'])"
      ]
     },
     "execution_count": 410,
     "metadata": {},
     "output_type": "execute_result"
    }
   ],
   "source": [
    "sales.keys()"
   ]
  },
  {
   "cell_type": "code",
   "execution_count": 412,
   "metadata": {
    "hidden": true
   },
   "outputs": [
    {
     "data": {
      "text/plain": [
       "dict_values([400, 280, 253, 205])"
      ]
     },
     "execution_count": 412,
     "metadata": {},
     "output_type": "execute_result"
    }
   ],
   "source": [
    "sales.values()"
   ]
  },
  {
   "cell_type": "code",
   "execution_count": 413,
   "metadata": {
    "hidden": true
   },
   "outputs": [
    {
     "data": {
      "text/plain": [
       "1138"
      ]
     },
     "execution_count": 413,
     "metadata": {},
     "output_type": "execute_result"
    }
   ],
   "source": [
    "sum(sales.values())"
   ]
  },
  {
   "cell_type": "markdown",
   "metadata": {
    "hidden": true
   },
   "source": [
    "### 集合"
   ]
  },
  {
   "cell_type": "code",
   "execution_count": 416,
   "metadata": {
    "hidden": true
   },
   "outputs": [
    {
     "name": "stdout",
     "output_type": "stream",
     "text": [
      "{1, 2, 3, 4}\n",
      "{1, 2, 3, 4}\n"
     ]
    }
   ],
   "source": [
    "#定义 不重复 无序\n",
    "\n",
    "nums = {1,2,3,4}\n",
    "print (nums)\n",
    "nums=set(range(1,5))\n",
    "print (nums)"
   ]
  },
  {
   "cell_type": "code",
   "execution_count": 418,
   "metadata": {
    "hidden": true
   },
   "outputs": [
    {
     "data": {
      "text/plain": [
       "{1, 2, 3, 4, 5}"
      ]
     },
     "execution_count": 418,
     "metadata": {},
     "output_type": "execute_result"
    }
   ],
   "source": [
    "nums.add(5)\n",
    "nums"
   ]
  },
  {
   "cell_type": "code",
   "execution_count": 419,
   "metadata": {
    "hidden": true
   },
   "outputs": [
    {
     "data": {
      "text/plain": [
       "{0, 1, 2, 3, 4, 5}"
      ]
     },
     "execution_count": 419,
     "metadata": {},
     "output_type": "execute_result"
    }
   ],
   "source": [
    "nums.add(0)\n",
    "nums"
   ]
  },
  {
   "cell_type": "code",
   "execution_count": 420,
   "metadata": {
    "hidden": true
   },
   "outputs": [
    {
     "data": {
      "text/plain": [
       "{0, 1, 2, 4, 5}"
      ]
     },
     "execution_count": 420,
     "metadata": {},
     "output_type": "execute_result"
    }
   ],
   "source": [
    "nums.remove(3)\n",
    "nums"
   ]
  },
  {
   "cell_type": "code",
   "execution_count": 422,
   "metadata": {
    "hidden": true
   },
   "outputs": [
    {
     "name": "stdout",
     "output_type": "stream",
     "text": [
      "0\n",
      "1\n",
      "2\n",
      "4\n",
      "5\n"
     ]
    }
   ],
   "source": [
    "while len(nums) > 0:\n",
    "    print(nums.pop())\n",
    "\n",
    "#保证不重复 全输出"
   ]
  },
  {
   "cell_type": "code",
   "execution_count": 423,
   "metadata": {
    "hidden": true
   },
   "outputs": [
    {
     "name": "stdout",
     "output_type": "stream",
     "text": [
      "s1输出结果为:  {1, 2, 3}\n",
      "s2输出结果为:  {3, 4, 5}\n"
     ]
    }
   ],
   "source": [
    "s1 = set(range(1,4))\n",
    "s2 = set(range(3,6))\n",
    "pprint('s',2)"
   ]
  },
  {
   "cell_type": "code",
   "execution_count": 424,
   "metadata": {
    "hidden": true
   },
   "outputs": [
    {
     "name": "stdout",
     "output_type": "stream",
     "text": [
      "sx1输出结果为:  {3}\n",
      "sx2输出结果为:  {1, 2, 3, 4, 5}\n"
     ]
    }
   ],
   "source": [
    "sx1 = s1.intersection(s2) #  交集\n",
    "sx2 = s1.union(s2)  # 并集\n",
    "pprint('sx',2)"
   ]
  },
  {
   "cell_type": "code",
   "execution_count": 425,
   "metadata": {
    "hidden": true
   },
   "outputs": [
    {
     "data": {
      "text/plain": [
       "True"
      ]
     },
     "execution_count": 425,
     "metadata": {},
     "output_type": "execute_result"
    }
   ],
   "source": [
    "sx1.issubset(s1) # 是否子集  sx1是否是s1的\n"
   ]
  },
  {
   "cell_type": "code",
   "execution_count": 426,
   "metadata": {
    "hidden": true,
    "scrolled": true
   },
   "outputs": [
    {
     "data": {
      "text/plain": [
       "True"
      ]
     },
     "execution_count": 426,
     "metadata": {},
     "output_type": "execute_result"
    }
   ],
   "source": [
    "sx2.issuperset(s1) # 是否父集 sx2是否是s1的"
   ]
  },
  {
   "cell_type": "markdown",
   "metadata": {},
   "source": [
    "## 进阶"
   ]
  },
  {
   "cell_type": "markdown",
   "metadata": {
    "heading_collapsed": true
   },
   "source": [
    "### 函数"
   ]
  },
  {
   "cell_type": "code",
   "execution_count": 427,
   "metadata": {
    "hidden": true
   },
   "outputs": [
    {
     "name": "stdout",
     "output_type": "stream",
     "text": [
      "hello joli\n"
     ]
    }
   ],
   "source": [
    "def hello(name) : \n",
    "    print('hello',name)\n",
    "\n",
    "hello('joli')"
   ]
  },
  {
   "cell_type": "code",
   "execution_count": 430,
   "metadata": {
    "hidden": true
   },
   "outputs": [
    {
     "name": "stdout",
     "output_type": "stream",
     "text": [
      "bonsoir madam shane\n"
     ]
    }
   ],
   "source": [
    "#多参数\n",
    "def hello(name,sex):\n",
    "    if sex =='homme':\n",
    "        print('bonjour monsieur',name)\n",
    "    elif sex =='femme':\n",
    "        print('bonsoir madam',name)\n",
    "        \n",
    "hello('shane','femme')\n"
   ]
  },
  {
   "cell_type": "code",
   "execution_count": 431,
   "metadata": {
    "hidden": true
   },
   "outputs": [
    {
     "name": "stdout",
     "output_type": "stream",
     "text": [
      "bonjour monsieur key\n"
     ]
    }
   ],
   "source": [
    "hello(sex='homme',name='key')"
   ]
  },
  {
   "cell_type": "code",
   "execution_count": 432,
   "metadata": {
    "hidden": true
   },
   "outputs": [
    {
     "name": "stdout",
     "output_type": "stream",
     "text": [
      "bonsoir madam joli\n"
     ]
    }
   ],
   "source": [
    "#加默认值\n",
    "def hello(name='joli',sex='femme'):\n",
    "    if sex =='homme':\n",
    "        print('bonjour monsieur',name)\n",
    "    elif sex =='femme':\n",
    "        print('bonsoir madam',name)\n",
    "hello()"
   ]
  },
  {
   "cell_type": "code",
   "execution_count": 435,
   "metadata": {
    "hidden": true
   },
   "outputs": [
    {
     "name": "stdout",
     "output_type": "stream",
     "text": [
      "21\n"
     ]
    }
   ],
   "source": [
    "#返回值\n",
    "\n",
    "def multiply(num1,num2):\n",
    "    return num1*num2\n",
    "    print('hhhhhhhh')\n",
    "\n",
    "n = multiply(3,7)\n",
    "print(n)\n",
    "\n",
    "#函数到了return 就停止执行 后边的都没用"
   ]
  },
  {
   "cell_type": "code",
   "execution_count": 438,
   "metadata": {
    "hidden": true
   },
   "outputs": [
    {
     "name": "stdout",
     "output_type": "stream",
     "text": [
      "准许进入\n"
     ]
    },
    {
     "data": {
      "text/plain": [
       "True"
      ]
     },
     "execution_count": 438,
     "metadata": {},
     "output_type": "execute_result"
    }
   ],
   "source": [
    "def permit(age):\n",
    "    if age >= 18:\n",
    "        print(\"准许进入\")\n",
    "        return True\n",
    "    else:\n",
    "        print(\"禁止进入\")\n",
    "        return False\n",
    "    print(\"end\")\n",
    "\n",
    "permit(19)"
   ]
  },
  {
   "cell_type": "code",
   "execution_count": 440,
   "metadata": {
    "hidden": true,
    "scrolled": true
   },
   "outputs": [
    {
     "name": "stdout",
     "output_type": "stream",
     "text": [
      "None\n"
     ]
    }
   ],
   "source": [
    "def do_nothing():\n",
    "    pass\n",
    "print(do_nothing())\n",
    "\n",
    "#不写return 默认返回 None"
   ]
  },
  {
   "cell_type": "code",
   "execution_count": 441,
   "metadata": {
    "hidden": true,
    "scrolled": true
   },
   "outputs": [
    {
     "data": {
      "text/plain": [
       "56"
      ]
     },
     "execution_count": 441,
     "metadata": {},
     "output_type": "execute_result"
    }
   ],
   "source": [
    "# 匿名函数\n",
    "\n",
    "fx = lambda x:x**2+7\n",
    "fx(7)"
   ]
  },
  {
   "cell_type": "markdown",
   "metadata": {},
   "source": [
    "### 面向对象"
   ]
  },
  {
   "cell_type": "code",
   "execution_count": 445,
   "metadata": {
    "scrolled": true
   },
   "outputs": [
    {
     "name": "stdout",
     "output_type": "stream",
     "text": [
      "i1输出结果为:  True\n",
      "i2输出结果为:  True\n",
      "i3输出结果为:  True\n"
     ]
    }
   ],
   "source": [
    "#根据业务逻辑上到下这种叫面向过程\n",
    "#分块封装 灵活取用 这种叫面向对象\n",
    "\n",
    "#类\n",
    "class Dog:\n",
    "    pass\n",
    "\n",
    "dog = Dog()\n",
    "type(dog)\n",
    "\n",
    "\n",
    "i1 =isinstance(dog,Dog)\n",
    "i2 =isinstance('abc',str)\n",
    "i3 =isinstance(234,int)\n",
    "\n",
    "pprint('i',3)"
   ]
  },
  {
   "cell_type": "code",
   "execution_count": 451,
   "metadata": {
    "scrolled": true
   },
   "outputs": [
    {
     "name": "stdout",
     "output_type": "stream",
     "text": [
      "i am eating\n",
      "wwwwwwww\n",
      "i am runing\n",
      "a None None None dog\n",
      "a big black hashiqi dog\n"
     ]
    }
   ],
   "source": [
    "class Dog:\n",
    "    def __init__(self):\n",
    "        self.breed = None\n",
    "        self.color = None\n",
    "        self.size = None\n",
    "    \n",
    "    def eat(self):\n",
    "        print(\"i am eating\")\n",
    "    def run(self):\n",
    "        print(\"i am runing\")\n",
    "    def bark(self):\n",
    "        print('wwwwwwww')\n",
    "        \n",
    "\n",
    "dog = Dog()\n",
    "dog.eat()\n",
    "dog.bark()\n",
    "dog.run()\n",
    "print('a %s %s %s dog' %(dog.size,dog.color,dog.breed) )\n",
    "dog.breed = 'hashiqi'\n",
    "dog.color = 'black'\n",
    "dog.size = 'big'\n",
    "print('a %s %s %s dog' %(dog.size,dog.color,dog.breed) )\n"
   ]
  },
  {
   "cell_type": "code",
   "execution_count": 457,
   "metadata": {},
   "outputs": [
    {
     "name": "stdout",
     "output_type": "stream",
     "text": [
      "a big yellow hash dog\n",
      "a a b c dog\n"
     ]
    }
   ],
   "source": [
    "#利用__init__进行默认初始化\n",
    "\n",
    "class Dog1:\n",
    "    def __init__(self,size='big',color='yellow',breed='hash'):\n",
    "        self.breed = breed\n",
    "        self.color = color\n",
    "        self.size = size\n",
    "    \n",
    "    def eat(self):\n",
    "        print(\"i am eating\")\n",
    "    def run(self):\n",
    "        print(\"i am runing\")\n",
    "    def bark(self):\n",
    "        print('wwwwwwww')\n",
    "        \n",
    "dog1 = Dog1()    \n",
    "print('a %s %s %s dog' %(dog1.size,dog1.color,dog1.breed) )\n",
    "dog1 = Dog1('a','b','c')\n",
    "print('a %s %s %s dog' %(dog1.size,dog1.color,dog1.breed) )\n"
   ]
  },
  {
   "cell_type": "code",
   "execution_count": 459,
   "metadata": {
    "scrolled": true
   },
   "outputs": [
    {
     "name": "stdout",
     "output_type": "stream",
     "text": [
      "a big yellow hash dog\n"
     ]
    }
   ],
   "source": [
    "class Dog2:\n",
    "    def __init__(self,size='big',color='yellow',breed='hash'):\n",
    "        self.breed = breed\n",
    "        self.color = color\n",
    "        self.size = size\n",
    "    \n",
    "    def eat(self):\n",
    "        print(\"i am eating\")\n",
    "    def run(self):\n",
    "        print(\"i am runing\")\n",
    "    def bark(self):\n",
    "        print('wwwwwwww')\n",
    "    def speak(self):\n",
    "        print('a %s %s %s dog' %(self.size,self.color,self.breed) )\n",
    "\n",
    "dog2 = Dog2()\n",
    "dog2.speak()"
   ]
  },
  {
   "cell_type": "code",
   "execution_count": 463,
   "metadata": {},
   "outputs": [
    {
     "name": "stdout",
     "output_type": "stream",
     "text": [
      "1\n",
      "2\n"
     ]
    },
    {
     "data": {
      "text/plain": [
       "2"
      ]
     },
     "execution_count": 463,
     "metadata": {},
     "output_type": "execute_result"
    }
   ],
   "source": [
    "#类属性和方法\n",
    "\n",
    "class Goods:\n",
    "    count=0\n",
    "    def __init__(self):\n",
    "        Goods.count +=1\n",
    "        self.name = ''\n",
    "        self.price = 0\n",
    "        self.discount = 1\n",
    "        \n",
    "g1 = Goods()\n",
    "print(g1.count) #创建的第一个\n",
    "g2 = Goods()\n",
    "print(g2.count) #创建的第二个\n",
    "\n",
    "\n",
    "Goods.count # 没创建对象也可以访问的属性  类属性"
   ]
  },
  {
   "cell_type": "code",
   "execution_count": 472,
   "metadata": {
    "scrolled": true
   },
   "outputs": [
    {
     "name": "stdout",
     "output_type": "stream",
     "text": [
      "00001\n",
      "00002\n",
      "2\n"
     ]
    }
   ],
   "source": [
    "class Goods:\n",
    "    \"\"\"定义货物信息\"\"\"  #帮助显示的东西\n",
    "    id_count=0\n",
    "    \n",
    "    @classmethod #类方法 装饰器 装饰函数 给函数一些特殊功能\n",
    "    def generate_id(cls):\n",
    "        cls.id_count +=1\n",
    "        return cls.id_count\n",
    "    \n",
    "    def __init__(self):\n",
    "        self.id = str(self.generate_id()).zfill(5) # zfill 表示用0补足5位\n",
    "        self.name = ''\n",
    "        self.price = 0\n",
    "        self.discount = 1\n",
    "        \n",
    "g1  = Goods()\n",
    "g2  = Goods()\n",
    "print(g1.id)\n",
    "print(g2.id)\n",
    "print(Goods.id_count)"
   ]
  },
  {
   "cell_type": "markdown",
   "metadata": {},
   "source": [
    "#### 对象的万能法则\n",
    "一切皆对象  都可以用type看类型，用dir看属性和方法 使用help查看文档"
   ]
  },
  {
   "cell_type": "code",
   "execution_count": 470,
   "metadata": {
    "scrolled": true
   },
   "outputs": [
    {
     "name": "stdout",
     "output_type": "stream",
     "text": [
      "Help on built-in function print in module builtins:\n",
      "\n",
      "print(...)\n",
      "    print(value, ..., sep=' ', end='\\n', file=sys.stdout, flush=False)\n",
      "    \n",
      "    Prints the values to a stream, or to sys.stdout by default.\n",
      "    Optional keyword arguments:\n",
      "    file:  a file-like object (stream); defaults to the current sys.stdout.\n",
      "    sep:   string inserted between values, default a space.\n",
      "    end:   string appended after the last value, default a newline.\n",
      "    flush: whether to forcibly flush the stream.\n",
      "\n"
     ]
    }
   ],
   "source": [
    "#一切皆对象  都可以用type看类型，用dir看属性和方法 使用help查看文档\n",
    "type(g1) \n",
    "dir(Goods)\n",
    "help(print)"
   ]
  },
  {
   "cell_type": "code",
   "execution_count": 473,
   "metadata": {
    "scrolled": true
   },
   "outputs": [
    {
     "name": "stdout",
     "output_type": "stream",
     "text": [
      "Help on class Goods in module __main__:\n",
      "\n",
      "class Goods(builtins.object)\n",
      " |  定义货物信息\n",
      " |  \n",
      " |  Methods defined here:\n",
      " |  \n",
      " |  __init__(self)\n",
      " |      Initialize self.  See help(type(self)) for accurate signature.\n",
      " |  \n",
      " |  ----------------------------------------------------------------------\n",
      " |  Class methods defined here:\n",
      " |  \n",
      " |  generate_id() from builtins.type\n",
      " |  \n",
      " |  ----------------------------------------------------------------------\n",
      " |  Data descriptors defined here:\n",
      " |  \n",
      " |  __dict__\n",
      " |      dictionary for instance variables (if defined)\n",
      " |  \n",
      " |  __weakref__\n",
      " |      list of weak references to the object (if defined)\n",
      " |  \n",
      " |  ----------------------------------------------------------------------\n",
      " |  Data and other attributes defined here:\n",
      " |  \n",
      " |  id_count = 2\n",
      "\n"
     ]
    }
   ],
   "source": [
    "help(Goods)"
   ]
  },
  {
   "cell_type": "code",
   "execution_count": 483,
   "metadata": {
    "scrolled": true
   },
   "outputs": [
    {
     "name": "stdout",
     "output_type": "stream",
     "text": [
      "i am runing\n",
      "wwwwwwww\n",
      "bonne soiree\n"
     ]
    }
   ],
   "source": [
    "lst = []\n",
    "lst.append(Dog)\n",
    "lst[0] # 和Dog一样的\n",
    "\n",
    "dog = lst[0]('m','rgb')\n",
    "dog.run()\n",
    "\n",
    "lst.append(dog)\n",
    "lst\n",
    "\n",
    "lst[1].bark()\n",
    "\n",
    "lst[1].sleep =lambda: print('bonne soiree')\n",
    "lst.pop().sleep()\n",
    "\n",
    "#lst.pop就是把刚塞进去的dog弹出来，都一样的东西"
   ]
  },
  {
   "cell_type": "code",
   "execution_count": 487,
   "metadata": {
    "scrolled": true
   },
   "outputs": [
    {
     "name": "stdout",
     "output_type": "stream",
     "text": [
      "4801917064\n",
      "4801920200\n"
     ]
    }
   ],
   "source": [
    "l1 = [1, 2, 3]\n",
    "l2 = [1, 2,]\n",
    "l1 == l2 \n",
    "l2.append(3) \n",
    "l1 == l2\n",
    "l1 is l2\n",
    "#元素相同也不意味着是一个东西 \n",
    "print(id(l1))\n",
    "print(id(l2))\n",
    "\n",
    "\n",
    "# 看id就知道了"
   ]
  },
  {
   "cell_type": "markdown",
   "metadata": {},
   "source": [
    "#### 案例"
   ]
  },
  {
   "cell_type": "code",
   "execution_count": 493,
   "metadata": {
    "scrolled": true
   },
   "outputs": [
    {
     "data": {
      "text/plain": [
       "'milk10'"
      ]
     },
     "execution_count": 493,
     "metadata": {},
     "output_type": "execute_result"
    }
   ],
   "source": [
    "# 需求 购物车\n",
    "\n",
    "# 商品类\n",
    "class Goods:\n",
    "    \"\"\"goods\"\"\"\n",
    "    id_count = 0\n",
    "    \n",
    "    @classmethod\n",
    "    def generate_id(cls):\n",
    "        cls.id_count += 1 \n",
    "        return cls.id_count\n",
    "    \n",
    "    def __init__(self,name,price,discount = 1):\n",
    "        self.id = str(self.generate_id()).zfill(5)\n",
    "        self.name = name\n",
    "        self.price = price\n",
    "        self.discount = discount \n",
    "    \n",
    "    def calc_price(self):\n",
    "        \"\"\"计算打折后价格\"\"\"\n",
    "        return self.price * self.discount\n",
    "    \n",
    "g1 = Goods('milk10',50,0.7)\n",
    "g2 = Goods('egg100g',30,0.8)\n",
    "g3 = Goods ('rice200g',10)\n",
    "\n",
    "g1.name\n",
    "    "
   ]
  },
  {
   "cell_type": "code",
   "execution_count": 508,
   "metadata": {
    "scrolled": true
   },
   "outputs": [
    {
     "name": "stdout",
     "output_type": "stream",
     "text": [
      "----------------------------------------------------------------------\n",
      "goods       \tpirce       \tamount      \ttotal price \t\n",
      "milk10      \t50.00 (7 折) \t1           \t35.00       \t\n",
      "            \t            \t            \ttotal price: 50.00\t\n",
      "            \t            \t            \tdiscount: 15.00\t\n",
      "            \t            \t            \tactual price : 35.00\t\n"
     ]
    }
   ],
   "source": [
    "#购物车类\n",
    "class Cart:\n",
    "    \"\"\"购物车\"\"\"\n",
    "    \n",
    "    def __init__(self):\n",
    "        self.cart = {}\n",
    "        self.goods_list = []\n",
    "    \n",
    "    def add(self,goods,num=1):\n",
    "        #添加商品\n",
    "        \n",
    "        if goods in self.goods_list:\n",
    "            self.cart[goods.id] = self.cart[goods.id]+num\n",
    "            \n",
    "        else:\n",
    "            self.goods_list.append(goods)\n",
    "            self.cart[goods.id] = num\n",
    "    \n",
    "    def remove(self,goods,num):\n",
    "        #减少商品\n",
    "        if goods not in self.goods_list:\n",
    "            return\n",
    "        self.cart[goods.id] -= num\n",
    "        if self.cart[goods.id] <=0:\n",
    "            del self.cart[goods.id]\n",
    "            self.goods_list.remove(goods)\n",
    "    \n",
    "    def get_goods_by_id(self,id):\n",
    "        #根据商品名称查找商品\n",
    "        for g in self.goods_list:\n",
    "            if g.id == id:\n",
    "                return g \n",
    "            \n",
    "    def get_total_amount(self):\n",
    "        #不计优惠的总价\n",
    "        amount = 0\n",
    "        for name,num in self.cart.items():\n",
    "            goods = self.get_goods_by_id(name)\n",
    "            amount += goods.price*num # 总金额\n",
    "        return amount\n",
    "        \n",
    "            \n",
    "    def get_pay_amount(self):\n",
    "        #实际价格\n",
    "        amount = 0 \n",
    "        for name,num in self.cart.items():\n",
    "            goods = self.get_goods_by_id(name)\n",
    "            amount += goods.calc_price()*num # 总金额\n",
    "        return amount\n",
    "    \n",
    "    def show(self):\n",
    "         # 显示购物车里全部信息\n",
    "        title = ('goods','pirce','amount','total price')\n",
    "        \n",
    "        def show_row(row):\n",
    "            for col in row : \n",
    "                print (str(col).ljust(12),end = '\\t') #ljust是左对齐\n",
    "                \n",
    "            print()\n",
    "        \n",
    "        print(\"-\"*70)\n",
    "        \n",
    "        show_row(title)\n",
    "        \n",
    "        for id ,num in self.cart.items():\n",
    "            goods = self.get_goods_by_id(id)\n",
    "            price = '%.2f' % goods.price\n",
    "            if goods.discount < 1 : \n",
    "                price = '%.2f (%d 折)' % (goods.price,goods.discount*10)\n",
    "            show_row((goods.name,price,num,'%.2f' % (goods.calc_price()*num)))\n",
    "        total_amount = self.get_total_amount()    \n",
    "        \n",
    "        pay_amount  = self.get_pay_amount()\n",
    "        discount_amount = total_amount -  pay_amount\n",
    "        show_row(('','','','total price: %.2f' % total_amount))\n",
    "        if discount_amount > 0 :\n",
    "             show_row(('','','','discount: %.2f' % discount_amount))\n",
    "        show_row(('','','','actual price : %.2f' % pay_amount))\n",
    "        \n",
    "    \n",
    "cart  = Cart()\n",
    "cart.add(g1)\n",
    "\n",
    "cart.show()\n",
    "        "
   ]
  },
  {
   "cell_type": "code",
   "execution_count": 509,
   "metadata": {
    "scrolled": true
   },
   "outputs": [
    {
     "name": "stdout",
     "output_type": "stream",
     "text": [
      "----------------------------------------------------------------------\n",
      "goods       \tpirce       \tamount      \ttotal price \t\n",
      "milk10      \t50.00 (7 折) \t4           \t140.00      \t\n",
      "            \t            \t            \ttotal price: 200.00\t\n",
      "            \t            \t            \tdiscount: 60.00\t\n",
      "            \t            \t            \tactual price : 140.00\t\n"
     ]
    }
   ],
   "source": [
    "cart.add(g1,3)\n",
    "cart.show()"
   ]
  },
  {
   "cell_type": "code",
   "execution_count": 510,
   "metadata": {
    "scrolled": true
   },
   "outputs": [
    {
     "name": "stdout",
     "output_type": "stream",
     "text": [
      "----------------------------------------------------------------------\n",
      "goods       \tpirce       \tamount      \ttotal price \t\n",
      "milk10      \t50.00 (7 折) \t2           \t70.00       \t\n",
      "            \t            \t            \ttotal price: 100.00\t\n",
      "            \t            \t            \tdiscount: 30.00\t\n",
      "            \t            \t            \tactual price : 70.00\t\n"
     ]
    }
   ],
   "source": [
    "cart.remove(g1,2)\n",
    "cart.show()"
   ]
  },
  {
   "cell_type": "code",
   "execution_count": 511,
   "metadata": {
    "scrolled": true
   },
   "outputs": [
    {
     "name": "stdout",
     "output_type": "stream",
     "text": [
      "----------------------------------------------------------------------\n",
      "goods       \tpirce       \tamount      \ttotal price \t\n",
      "milk11      \t50.00 (7 折) \t2           \t70.00       \t\n",
      "            \t            \t            \ttotal price: 100.00\t\n",
      "            \t            \t            \tdiscount: 30.00\t\n",
      "            \t            \t            \tactual price : 70.00\t\n"
     ]
    }
   ],
   "source": [
    "g1.name = 'milk11' # 直接对商品信息进行修改而不影响购物车类\n",
    "cart.show()"
   ]
  },
  {
   "cell_type": "code",
   "execution_count": 516,
   "metadata": {
    "scrolled": false
   },
   "outputs": [
    {
     "name": "stdout",
     "output_type": "stream",
     "text": [
      "----------------------------------------------------------------------\n",
      "goods       \tpirce       \tamount      \ttotal price \t\n",
      "milk11      \t50.00 (7 折) \t1           \t35.00       \t\n",
      "            \t            \t            \ttotal price: 50.00\t\n",
      "            \t            \t            \tdiscount: 15.00\t\n",
      "            \t            \t            \tactual price : 35.00\t\n"
     ]
    },
    {
     "data": {
      "text/plain": [
       "35.0"
      ]
     },
     "execution_count": 516,
     "metadata": {},
     "output_type": "execute_result"
    }
   ],
   "source": [
    "#不传递参数的函数可以进一步封装成属性\n",
    "\n",
    "#购物车类\n",
    "class Cart:\n",
    "    \"\"\"购物车\"\"\"\n",
    "    \n",
    "    def __init__(self):\n",
    "        self.cart = {}\n",
    "        self.goods_list = []\n",
    "    \n",
    "    def add(self,goods,num=1):\n",
    "        #添加商品\n",
    "        \n",
    "        if goods in self.goods_list:\n",
    "            self.cart[goods.id] = self.cart[goods.id]+num\n",
    "            \n",
    "        else:\n",
    "            self.goods_list.append(goods)\n",
    "            self.cart[goods.id] = num\n",
    "    \n",
    "    def remove(self,goods,num):\n",
    "        #减少商品\n",
    "        if goods not in self.goods_list:\n",
    "            return\n",
    "        self.cart[goods.id] -= num\n",
    "        if self.cart[goods.id] <=0:\n",
    "            del self.cart[goods.id]\n",
    "            self.goods_list.remove(goods)\n",
    "    \n",
    "    def get_goods_by_id(self,id):\n",
    "        #根据商品名称查找商品\n",
    "        for g in self.goods_list:\n",
    "            if g.id == id:\n",
    "                return g \n",
    "    @property         \n",
    "    def total_amount(self):\n",
    "        #不计优惠的总价\n",
    "        amount = 0\n",
    "        for name,num in self.cart.items():\n",
    "            goods = self.get_goods_by_id(name)\n",
    "            amount += goods.price*num # 总金额\n",
    "        return amount\n",
    "\n",
    "    @property         \n",
    "    def pay_amount(self):\n",
    "        #实际价格\n",
    "        amount = 0 \n",
    "        for name,num in self.cart.items():\n",
    "            goods = self.get_goods_by_id(name)\n",
    "            amount += goods.calc_price()*num # 总金额\n",
    "        return amount\n",
    "\n",
    "    def show(self):\n",
    "         # 显示购物车里全部信息\n",
    "        title = ('goods','pirce','amount','total price')\n",
    "        \n",
    "        def show_row(row):\n",
    "            for col in row : \n",
    "                print (str(col).ljust(12),end = '\\t') #ljust是左对齐\n",
    "                \n",
    "            print()\n",
    "        \n",
    "        print(\"-\"*70)\n",
    "        \n",
    "        show_row(title)\n",
    "        \n",
    "        for id ,num in self.cart.items():\n",
    "            goods = self.get_goods_by_id(id)\n",
    "            price = '%.2f' % goods.price\n",
    "            if goods.discount < 1 : \n",
    "                price = '%.2f (%d 折)' % (goods.price,goods.discount*10)\n",
    "            show_row((goods.name,price,num,'%.2f' % (goods.calc_price()*num)))\n",
    "        total_amount = self.total_amount \n",
    "        \n",
    "        pay_amount  = self.pay_amount\n",
    "        discount_amount = total_amount -  pay_amount\n",
    "        show_row(('','','','total price: %.2f' % total_amount))\n",
    "        if discount_amount > 0 :\n",
    "             show_row(('','','','discount: %.2f' % discount_amount))\n",
    "        show_row(('','','','actual price : %.2f' % pay_amount))\n",
    "        \n",
    "    \n",
    "cart  = Cart()\n",
    "cart.add(g1)\n",
    "\n",
    "cart.show()\n",
    "cart.pay_amount  # 改造之后就可以作为属性正常返回了\n",
    "\n",
    "\n"
   ]
  },
  {
   "cell_type": "markdown",
   "metadata": {},
   "source": [
    "### 模块和包"
   ]
  },
  {
   "cell_type": "code",
   "execution_count": 517,
   "metadata": {
    "scrolled": true
   },
   "outputs": [
    {
     "data": {
      "text/plain": [
       "2.0"
      ]
     },
     "execution_count": 517,
     "metadata": {},
     "output_type": "execute_result"
    }
   ],
   "source": [
    "import math \n",
    "math.sqrt(4)\n"
   ]
  },
  {
   "cell_type": "code",
   "execution_count": 518,
   "metadata": {},
   "outputs": [
    {
     "data": {
      "text/plain": [
       "['__doc__',\n",
       " '__file__',\n",
       " '__loader__',\n",
       " '__name__',\n",
       " '__package__',\n",
       " '__spec__',\n",
       " 'acos',\n",
       " 'acosh',\n",
       " 'asin',\n",
       " 'asinh',\n",
       " 'atan',\n",
       " 'atan2',\n",
       " 'atanh',\n",
       " 'ceil',\n",
       " 'copysign',\n",
       " 'cos',\n",
       " 'cosh',\n",
       " 'degrees',\n",
       " 'e',\n",
       " 'erf',\n",
       " 'erfc',\n",
       " 'exp',\n",
       " 'expm1',\n",
       " 'fabs',\n",
       " 'factorial',\n",
       " 'floor',\n",
       " 'fmod',\n",
       " 'frexp',\n",
       " 'fsum',\n",
       " 'gamma',\n",
       " 'gcd',\n",
       " 'hypot',\n",
       " 'inf',\n",
       " 'isclose',\n",
       " 'isfinite',\n",
       " 'isinf',\n",
       " 'isnan',\n",
       " 'ldexp',\n",
       " 'lgamma',\n",
       " 'log',\n",
       " 'log10',\n",
       " 'log1p',\n",
       " 'log2',\n",
       " 'modf',\n",
       " 'nan',\n",
       " 'pi',\n",
       " 'pow',\n",
       " 'radians',\n",
       " 'sin',\n",
       " 'sinh',\n",
       " 'sqrt',\n",
       " 'tan',\n",
       " 'tanh',\n",
       " 'tau',\n",
       " 'trunc']"
      ]
     },
     "execution_count": 518,
     "metadata": {},
     "output_type": "execute_result"
    }
   ],
   "source": [
    "dir(math)"
   ]
  },
  {
   "cell_type": "code",
   "execution_count": 519,
   "metadata": {},
   "outputs": [
    {
     "data": {
      "text/plain": [
       "2.0"
      ]
     },
     "execution_count": 519,
     "metadata": {},
     "output_type": "execute_result"
    }
   ],
   "source": [
    "from math import sqrt # 直接导入就不用点来点去了 math.sqrt 直接 sqrt\n",
    "sqrt(4)"
   ]
  },
  {
   "cell_type": "code",
   "execution_count": 520,
   "metadata": {
    "scrolled": true
   },
   "outputs": [
    {
     "data": {
      "text/plain": [
       "2.0"
      ]
     },
     "execution_count": 520,
     "metadata": {},
     "output_type": "execute_result"
    }
   ],
   "source": [
    "from math import sqrt as sq   # 起别名避免重名\n",
    "def sqrt(num): \n",
    "    pass\n",
    "sq(4)"
   ]
  },
  {
   "cell_type": "code",
   "execution_count": 523,
   "metadata": {},
   "outputs": [],
   "source": [
    "import sys,os \n",
    "from math import sqrt , tan\n",
    "\n",
    "#一次性导入多个"
   ]
  },
  {
   "cell_type": "code",
   "execution_count": 527,
   "metadata": {
    "scrolled": true
   },
   "outputs": [
    {
     "name": "stdout",
     "output_type": "stream",
     "text": [
      "----------------------------------------------------------------------\n",
      "goods       \tpirce       \tamount      \ttotal price \t\n",
      "            \t            \t            \ttotal price: 0.00\t\n",
      "            \t            \t            \tactual price : 0.00\t\n"
     ]
    }
   ],
   "source": [
    "from xcart.cart import Cart\n",
    "if __name__ == '__main__':\n",
    "    cart1 = Cart() \n",
    "    cart1.show()\n",
    "\n",
    "# import 在干的事就是导入一个类 或者函数\n",
    "#from 就是写好的py文件，如果外头还套文件夹，\n",
    "#就在文件里放一个名叫'__init__.py'的空文件就OK\n"
   ]
  },
  {
   "cell_type": "markdown",
   "metadata": {},
   "source": [
    "#### 常用内置模块"
   ]
  },
  {
   "cell_type": "code",
   "execution_count": null,
   "metadata": {},
   "outputs": [],
   "source": [
    "#内置模块很多 有100多个\n",
    "\n",
    "#常用的几个\n",
    "\n"
   ]
  },
  {
   "cell_type": "code",
   "execution_count": 529,
   "metadata": {
    "scrolled": true
   },
   "outputs": [
    {
     "data": {
      "text/plain": [
       "datetime.datetime(2021, 2, 19, 4, 31, 48, 56014)"
      ]
     },
     "execution_count": 529,
     "metadata": {},
     "output_type": "execute_result"
    }
   ],
   "source": [
    "#datetime \n",
    "\n",
    "from datetime import datetime,timedelta \n",
    "now =datetime.now()\n",
    "now\n"
   ]
  },
  {
   "cell_type": "code",
   "execution_count": 530,
   "metadata": {},
   "outputs": [
    {
     "data": {
      "text/plain": [
       "datetime.datetime"
      ]
     },
     "execution_count": 530,
     "metadata": {},
     "output_type": "execute_result"
    }
   ],
   "source": [
    "type(now)"
   ]
  },
  {
   "cell_type": "code",
   "execution_count": 531,
   "metadata": {},
   "outputs": [
    {
     "name": "stdout",
     "output_type": "stream",
     "text": [
      "2021 2 19\n"
     ]
    }
   ],
   "source": [
    "print(now.year,now.month,now.day)"
   ]
  },
  {
   "cell_type": "code",
   "execution_count": 532,
   "metadata": {},
   "outputs": [
    {
     "data": {
      "text/plain": [
       "1613680308.056014"
      ]
     },
     "execution_count": 532,
     "metadata": {},
     "output_type": "execute_result"
    }
   ],
   "source": [
    "now.timestamp()"
   ]
  },
  {
   "cell_type": "code",
   "execution_count": 533,
   "metadata": {},
   "outputs": [
    {
     "data": {
      "text/plain": [
       "'2021-02-19 04:33:28'"
      ]
     },
     "execution_count": 533,
     "metadata": {},
     "output_type": "execute_result"
    }
   ],
   "source": [
    "datetime.now().strftime('%Y-%m-%d %H:%M:%S')"
   ]
  },
  {
   "cell_type": "code",
   "execution_count": 537,
   "metadata": {
    "scrolled": true
   },
   "outputs": [
    {
     "data": {
      "text/plain": [
       "datetime.datetime(2021, 2, 19, 4, 34, 22)"
      ]
     },
     "execution_count": 537,
     "metadata": {},
     "output_type": "execute_result"
    }
   ],
   "source": [
    "datetime.strptime('2021-02-19 04:34:22','%Y-%m-%d %H:%M:%S')"
   ]
  },
  {
   "cell_type": "code",
   "execution_count": 535,
   "metadata": {},
   "outputs": [
    {
     "data": {
      "text/plain": [
       "datetime.datetime(2020, 1, 1, 0, 0)"
      ]
     },
     "execution_count": 535,
     "metadata": {},
     "output_type": "execute_result"
    }
   ],
   "source": [
    "datetime.strptime('2020-01-01 00:00:00', '%Y-%m-%d %H:%M:%S')"
   ]
  },
  {
   "cell_type": "code",
   "execution_count": 538,
   "metadata": {},
   "outputs": [],
   "source": [
    "# 年月日 时分秒 Y m d H M S\n",
    "# 更多格式 ： https://docs.python.org/zh-cn/3/library/datetime.html#strftime-strptime-behavior"
   ]
  },
  {
   "cell_type": "code",
   "execution_count": 541,
   "metadata": {},
   "outputs": [
    {
     "name": "stdout",
     "output_type": "stream",
     "text": [
      "2020-02-19 04:38:52.103821\n",
      "2020-02-19 04:38:52\n"
     ]
    }
   ],
   "source": [
    "now = datetime.now()\n",
    "last_year = now.replace(year = 2020)\n",
    "print (last_year)\n",
    "print (last_year.strftime('%Y-%m-%d %H:%M:%S'))\n"
   ]
  },
  {
   "cell_type": "code",
   "execution_count": 542,
   "metadata": {},
   "outputs": [
    {
     "name": "stdout",
     "output_type": "stream",
     "text": [
      "366 days, 0:00:00\n",
      "<class 'datetime.timedelta'>\n"
     ]
    }
   ],
   "source": [
    "delta = now-last_year\n",
    "print(delta)\n",
    "print(type(delta))"
   ]
  },
  {
   "cell_type": "code",
   "execution_count": 543,
   "metadata": {},
   "outputs": [
    {
     "name": "stdout",
     "output_type": "stream",
     "text": [
      "366\n",
      "0\n"
     ]
    }
   ],
   "source": [
    "print (delta.days)\n",
    "print (delta.seconds)\n"
   ]
  },
  {
   "cell_type": "code",
   "execution_count": 544,
   "metadata": {},
   "outputs": [
    {
     "data": {
      "text/plain": [
       "datetime.datetime(2022, 2, 20, 4, 38, 52, 103821)"
      ]
     },
     "execution_count": 544,
     "metadata": {},
     "output_type": "execute_result"
    }
   ],
   "source": [
    "now + delta"
   ]
  },
  {
   "cell_type": "code",
   "execution_count": 545,
   "metadata": {},
   "outputs": [
    {
     "data": {
      "text/plain": [
       "datetime.datetime(2021, 3, 11, 4, 40, 49, 235385)"
      ]
     },
     "execution_count": 545,
     "metadata": {},
     "output_type": "execute_result"
    }
   ],
   "source": [
    "datetime.now() + timedelta(days = 20) # 计算20天后\n"
   ]
  },
  {
   "cell_type": "code",
   "execution_count": 547,
   "metadata": {},
   "outputs": [
    {
     "data": {
      "text/plain": [
       "datetime.datetime(2021, 2, 19, 2, 11, 12, 420555)"
      ]
     },
     "execution_count": 547,
     "metadata": {},
     "output_type": "execute_result"
    }
   ],
   "source": [
    "datetime.now() - timedelta(hours=2, minutes=30 ) #计算2个半小时前"
   ]
  },
  {
   "cell_type": "markdown",
   "metadata": {},
   "source": [
    "time模块"
   ]
  },
  {
   "cell_type": "code",
   "execution_count": 548,
   "metadata": {},
   "outputs": [],
   "source": [
    "### time"
   ]
  },
  {
   "cell_type": "code",
   "execution_count": 550,
   "metadata": {
    "scrolled": true
   },
   "outputs": [
    {
     "name": "stdout",
     "output_type": "stream",
     "text": [
      "t1输出结果为:  1613681023.238185\n",
      "t2输出结果为:  2021-02-19 04:43:43\n"
     ]
    }
   ],
   "source": [
    "import time \n",
    "t1 = time.time()\n",
    "t2 = time.strftime('%Y-%m-%d %H:%M:%S')\n",
    "\n",
    "pprint('t',2)"
   ]
  },
  {
   "cell_type": "code",
   "execution_count": 551,
   "metadata": {},
   "outputs": [],
   "source": [
    "time.sleep(3) # 睡眠3秒 暂停程序"
   ]
  },
  {
   "cell_type": "markdown",
   "metadata": {},
   "source": [
    "随机数模块"
   ]
  },
  {
   "cell_type": "code",
   "execution_count": 556,
   "metadata": {},
   "outputs": [
    {
     "name": "stdout",
     "output_type": "stream",
     "text": [
      "r1输出结果为:  0.2873245685585387\n",
      "r2输出结果为:  65\n",
      "r3输出结果为:  a\n",
      "r4输出结果为:  ['s', 's', 'g']\n",
      "r5输出结果为:  ['g', 'a']\n",
      "r6输出结果为:  None\n"
     ]
    }
   ],
   "source": [
    "import random \n",
    "r1 = random.random()  # 0-1 浮点\n",
    "r2 = random.randint(1,100) #[1,100]任意整数\n",
    "r3 = random.choice(list('asdfg')) # 随机抽1个 \n",
    "r4 = random.choices(list('asdfg'),k=3) # 随机抽k个 可能重样\n",
    "r5 = random.sample(list('asdfgh'),k=2) #随机抽k个 不重样\n",
    "r6 = random.shuffle(list('sdfgh')) #序列随机打断 不能是元组或字符串（只读不可修改的\n",
    "\n",
    "pprint('r',6)"
   ]
  },
  {
   "cell_type": "code",
   "execution_count": 561,
   "metadata": {},
   "outputs": [
    {
     "data": {
      "text/plain": [
       "['h', 'd', 's', 'f', 'g']"
      ]
     },
     "execution_count": 561,
     "metadata": {},
     "output_type": "execute_result"
    }
   ],
   "source": [
    "lix = list('sdfgh')\n",
    "random.shuffle(lix)\n",
    "lix\n",
    "# shuffle 有些特殊，不返回值，直接处理参数列表"
   ]
  },
  {
   "cell_type": "markdown",
   "metadata": {},
   "source": [
    "os 操作系统接口"
   ]
  },
  {
   "cell_type": "code",
   "execution_count": 563,
   "metadata": {},
   "outputs": [
    {
     "data": {
      "text/plain": [
       "'/Users/jiajia/anaconda3'"
      ]
     },
     "execution_count": 563,
     "metadata": {},
     "output_type": "execute_result"
    }
   ],
   "source": [
    "os.getcwd() # 当前目录路径\n",
    "os.mkdir(path) # 创建指定目录 （新建文件夹\n",
    "os.mkedirs(path)\n",
    "os.listdir()\n",
    "\n"
   ]
  },
  {
   "cell_type": "code",
   "execution_count": 564,
   "metadata": {},
   "outputs": [
    {
     "data": {
      "text/plain": [
       "['man',\n",
       " 'helpers_05_08.py',\n",
       " '03.10-Working-With-Strings.ipynb',\n",
       " '03.08-Aggregation-and-Grouping.ipynb',\n",
       " '05.08-Random-Forests.ipynb',\n",
       " '机器学习菜谱四——数值数据处理.ipynb',\n",
       " 'conda-meta',\n",
       " '05.09-Principal-Component-Analysis.ipynb',\n",
       " '02.00-Introduction-to-NumPy.ipynb',\n",
       " '03.06-Concat-And-Append.ipynb',\n",
       " '03.11-Working-with-Time-Series.ipynb',\n",
       " 'condabin',\n",
       " '02.05-Computation-on-arrays-broadcasting.ipynb',\n",
       " '01.04-Input-Output-History.ipynb',\n",
       " 'cart.py',\n",
       " 'ssl',\n",
       " 'Python数据科学手册 练习.ipynb',\n",
       " 'Untitled1.ipynb',\n",
       " '05.05-Naive-Bayes.ipynb',\n",
       " '.DS_Store',\n",
       " '06.00-Figure-Code.ipynb',\n",
       " 'cart.ipynb',\n",
       " '04.14-Visualization-With-Seaborn.ipynb',\n",
       " '01.02-Shell-Keyboard-Shortcuts.ipynb',\n",
       " '机器学习 cookbook.ipynb',\n",
       " '04.06-Customizing-Legends.ipynb',\n",
       " '04.04-Density-and-Contour-Plots.ipynb',\n",
       " '03.13-Further-Resources.ipynb',\n",
       " 'qml',\n",
       " '03.09-Pivot-Tables.ipynb',\n",
       " 'bin',\n",
       " '03.01-Introducing-Pandas-Objects.ipynb',\n",
       " 'Untitled.ipynb',\n",
       " 'plugins',\n",
       " '05.11-K-Means.ipynb',\n",
       " 'shell',\n",
       " 'libexec',\n",
       " '03.02-Data-Indexing-and-Selection.ipynb',\n",
       " '04.03-Errorbars.ipynb',\n",
       " 'include',\n",
       " '01.06-Errors-and-Debugging.ipynb',\n",
       " 'resources',\n",
       " '01.05-IPython-And-Shell-Commands.ipynb',\n",
       " '01.08-More-IPython-Resources.ipynb',\n",
       " 'sbin',\n",
       " 'etc',\n",
       " 'vscode_inst.py.log',\n",
       " '05.07-Support-Vector-Machines.ipynb',\n",
       " '03.03-Operations-in-Pandas.ipynb',\n",
       " 'var',\n",
       " '05.15-Learning-More.ipynb',\n",
       " '02.01-Understanding-Data-Types.ipynb',\n",
       " 'python3.6',\n",
       " '04.08-Multiple-Subplots.ipynb',\n",
       " '02.02-The-Basics-Of-NumPy-Arrays.ipynb',\n",
       " '__pycache__',\n",
       " '02.08-Sorting.ipynb',\n",
       " '04.02-Simple-Scatter-Plots.ipynb',\n",
       " 'python.app',\n",
       " 'org.freedesktop.dbus-session.plist',\n",
       " '机器学习菜谱七——时间数据处理.ipynb',\n",
       " '02.06-Boolean-Arrays-and-Masks.ipynb',\n",
       " '02.03-Computation-on-arrays-ufuncs.ipynb',\n",
       " '03.12-Performance-Eval-and-Query.ipynb',\n",
       " '05.06-Linear-Regression.ipynb',\n",
       " '03.00-Introduction-to-Pandas.ipynb',\n",
       " '05.10-Manifold-Learning.ipynb',\n",
       " '05.02-Introducing-Scikit-Learn.ipynb',\n",
       " '04.00-Introduction-To-Matplotlib.ipynb',\n",
       " 'pkgs',\n",
       " '05.03-Hyperparameters-and-Model-Validation.ipynb',\n",
       " '01.03-Magic-Commands.ipynb',\n",
       " '05.04-Feature-Engineering.ipynb',\n",
       " '04.11-Settings-and-Stylesheets.ipynb',\n",
       " 'Python基础.ipynb',\n",
       " '04.12-Three-Dimensional-Plotting.ipynb',\n",
       " '04.09-Text-and-Annotation.ipynb',\n",
       " '00.00-Preface.ipynb',\n",
       " 'lib',\n",
       " '04.13-Geographic-Data-With-Basemap.ipynb',\n",
       " 'doc',\n",
       " '02.04-Computation-on-arrays-aggregates.ipynb',\n",
       " 'mkspecs',\n",
       " '.ipynb_checkpoints',\n",
       " '01.07-Timing-and-Profiling.ipynb',\n",
       " '01.01-Help-And-Documentation.ipynb',\n",
       " 'phrasebooks',\n",
       " '03.04-Missing-Values.ipynb',\n",
       " '02.09-Structured-Data-NumPy.ipynb',\n",
       " '05.12-Gaussian-Mixtures.ipynb',\n",
       " 'xcart',\n",
       " '04.01-Simple-Line-Plots.ipynb',\n",
       " '03.07-Merge-and-Join.ipynb',\n",
       " '04.10-Customizing-Ticks.ipynb',\n",
       " '05.13-Kernel-Density-Estimation.ipynb',\n",
       " '机器学习菜谱八——处理图像数据.ipynb',\n",
       " 'envs',\n",
       " '05.01-What-Is-Machine-Learning.ipynb',\n",
       " '04.07-Customizing-Colorbars.ipynb',\n",
       " '04.05-Histograms-and-Binnings.ipynb',\n",
       " '04.15-Further-Resources.ipynb',\n",
       " 'translations',\n",
       " '05.00-Machine-Learning.ipynb',\n",
       " 'Anaconda-Navigator.app',\n",
       " '02.07-Fancy-Indexing.ipynb',\n",
       " '01.00-IPython-Beyond-Normal-Python.ipynb',\n",
       " '05.14-Image-Features.ipynb',\n",
       " 'Index.ipynb',\n",
       " 'share',\n",
       " '03.05-Hierarchical-Indexing.ipynb']"
      ]
     },
     "execution_count": 564,
     "metadata": {},
     "output_type": "execute_result"
    }
   ],
   "source": [
    "os.listdir()"
   ]
  },
  {
   "cell_type": "code",
   "execution_count": 565,
   "metadata": {},
   "outputs": [],
   "source": [
    "os.mkdir('一朵娇花')"
   ]
  },
  {
   "cell_type": "code",
   "execution_count": 566,
   "metadata": {
    "scrolled": true
   },
   "outputs": [
    {
     "data": {
      "text/plain": [
       "'/Users/jiajia/anaconda3'"
      ]
     },
     "execution_count": 566,
     "metadata": {},
     "output_type": "execute_result"
    }
   ],
   "source": [
    "os.path.abspath('./')"
   ]
  },
  {
   "cell_type": "code",
   "execution_count": 567,
   "metadata": {},
   "outputs": [
    {
     "data": {
      "text/plain": [
       "'/Users/jiajia/anaconda3/__file__'"
      ]
     },
     "execution_count": 567,
     "metadata": {},
     "output_type": "execute_result"
    }
   ],
   "source": [
    "os.path.abspath(\"__file__\")"
   ]
  },
  {
   "cell_type": "code",
   "execution_count": 568,
   "metadata": {},
   "outputs": [
    {
     "data": {
      "text/plain": [
       "'/Users/jiajia'"
      ]
     },
     "execution_count": 568,
     "metadata": {},
     "output_type": "execute_result"
    }
   ],
   "source": [
    "#  . 表示当前目录 ， ..表述父级目录\n",
    "\n",
    "os.path.abspath('../')"
   ]
  },
  {
   "cell_type": "code",
   "execution_count": 570,
   "metadata": {},
   "outputs": [
    {
     "data": {
      "text/plain": [
       "True"
      ]
     },
     "execution_count": 570,
     "metadata": {},
     "output_type": "execute_result"
    }
   ],
   "source": [
    "os.path.isdir('一朵娇花') # 目录下是否有这个东西"
   ]
  },
  {
   "cell_type": "code",
   "execution_count": 571,
   "metadata": {},
   "outputs": [
    {
     "data": {
      "text/plain": [
       "False"
      ]
     },
     "execution_count": 571,
     "metadata": {},
     "output_type": "execute_result"
    }
   ],
   "source": [
    "os.path.isfile('一朵娇花') # 看是文件还是文件夹"
   ]
  },
  {
   "cell_type": "code",
   "execution_count": 572,
   "metadata": {},
   "outputs": [
    {
     "data": {
      "text/plain": [
       "'/'"
      ]
     },
     "execution_count": 572,
     "metadata": {},
     "output_type": "execute_result"
    }
   ],
   "source": [
    "os.sep #查看目录分隔符"
   ]
  },
  {
   "cell_type": "code",
   "execution_count": 573,
   "metadata": {},
   "outputs": [
    {
     "data": {
      "text/plain": [
       "'bin/.'"
      ]
     },
     "execution_count": 573,
     "metadata": {},
     "output_type": "execute_result"
    }
   ],
   "source": [
    "os.path.join('bin','.') # 拼接路径"
   ]
  },
  {
   "cell_type": "code",
   "execution_count": 574,
   "metadata": {},
   "outputs": [
    {
     "data": {
      "text/plain": [
       "''"
      ]
     },
     "execution_count": 574,
     "metadata": {},
     "output_type": "execute_result"
    }
   ],
   "source": [
    "os.path.dirname('一朵娇花')"
   ]
  },
  {
   "cell_type": "code",
   "execution_count": null,
   "metadata": {},
   "outputs": [],
   "source": [
    "# 返回路径 path 的目录名称 \n",
    "os.path.dirname(\"/tmp/test.txt\")\n",
    "# 返回路径 path 的基本名称，文件名或是最后一级的目录名 \n",
    "os.path.basename(\"/tmp/test.txt\") # 'test.txt'\n",
    "os.path.basename(\"/tmp/test\") # 'test'"
   ]
  },
  {
   "cell_type": "markdown",
   "metadata": {},
   "source": [
    "sys 模块"
   ]
  },
  {
   "cell_type": "code",
   "execution_count": 575,
   "metadata": {},
   "outputs": [
    {
     "data": {
      "text/plain": [
       "['',\n",
       " '/Users/jiajia/anaconda3/lib/python36.zip',\n",
       " '/Users/jiajia/anaconda3/lib/python3.6',\n",
       " '/Users/jiajia/anaconda3/lib/python3.6/lib-dynload',\n",
       " '/Users/jiajia/.local/lib/python3.6/site-packages',\n",
       " '/Users/jiajia/anaconda3/lib/python3.6/site-packages',\n",
       " '/Users/jiajia/anaconda3/lib/python3.6/site-packages/aeosa',\n",
       " '/Users/jiajia/anaconda3/lib/python3.6/site-packages/IPython/extensions',\n",
       " '/Users/jiajia/.ipython']"
      ]
     },
     "execution_count": 575,
     "metadata": {},
     "output_type": "execute_result"
    }
   ],
   "source": [
    "sys.path # 查找包的路径顺序"
   ]
  },
  {
   "cell_type": "code",
   "execution_count": 576,
   "metadata": {},
   "outputs": [
    {
     "name": "stdout",
     "output_type": "stream",
     "text": [
      "Hello -f /Users/jiajia/Library/Jupyter/runtime/kernel-234902bb-ab73-4926-a572-37bac194d951.json\n"
     ]
    }
   ],
   "source": [
    "import sys\n",
    "if __name__ == '__main__': \n",
    "    print(\"Hello\", end=' ') \n",
    "    if len(sys.argv) > 1:\n",
    "        print(' '.join(sys.argv[1:]))"
   ]
  },
  {
   "cell_type": "code",
   "execution_count": 579,
   "metadata": {},
   "outputs": [
    {
     "name": "stdout",
     "output_type": "stream",
     "text": [
      "['/Users/jiajia/anaconda3/lib/python3.6/site-packages/ipykernel_launcher.py', '-f', '/Users/jiajia/Library/Jupyter/runtime/kernel-234902bb-ab73-4926-a572-37bac194d951.json']\n"
     ]
    }
   ],
   "source": [
    "print(sys.argv)"
   ]
  },
  {
   "cell_type": "code",
   "execution_count": null,
   "metadata": {},
   "outputs": [],
   "source": []
  },
  {
   "cell_type": "code",
   "execution_count": 578,
   "metadata": {},
   "outputs": [
    {
     "data": {
      "text/plain": [
       "list"
      ]
     },
     "execution_count": 578,
     "metadata": {},
     "output_type": "execute_result"
    }
   ],
   "source": [
    "type(sys.argv)"
   ]
  }
 ],
 "metadata": {
  "kernelspec": {
   "display_name": "Python 3",
   "language": "python",
   "name": "python3"
  },
  "language_info": {
   "codemirror_mode": {
    "name": "ipython",
    "version": 3
   },
   "file_extension": ".py",
   "mimetype": "text/x-python",
   "name": "python",
   "nbconvert_exporter": "python",
   "pygments_lexer": "ipython3",
   "version": "3.6.8"
  },
  "toc": {
   "base_numbering": 1,
   "nav_menu": {},
   "number_sections": true,
   "sideBar": true,
   "skip_h1_title": false,
   "title_cell": "Table of Contents",
   "title_sidebar": "Contents",
   "toc_cell": false,
   "toc_position": {
    "height": "calc(100% - 180px)",
    "left": "10px",
    "top": "150px",
    "width": "227px"
   },
   "toc_section_display": true,
   "toc_window_display": true
  }
 },
 "nbformat": 4,
 "nbformat_minor": 2
}
