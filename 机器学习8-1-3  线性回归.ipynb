{
 "cells": [
  {
   "cell_type": "code",
   "execution_count": 1,
   "metadata": {},
   "outputs": [
    {
     "data": {
      "text/plain": [
       "array([0.3258119 , 7.01694885, 5.9070711 , 1.47035458, 0.96808802,\n",
       "       0.42862754, 9.35792642, 1.27729619, 3.41154392, 0.75627641,\n",
       "       0.75693669, 5.10834771, 1.54286064, 4.50297789, 5.08964502,\n",
       "       8.12098335, 0.8135657 , 2.79386814, 4.25703167, 8.90563905,\n",
       "       1.3567197 , 4.75179207, 1.16529624, 8.94963278, 8.04145315,\n",
       "       4.48000271, 7.49860601, 8.1161316 , 8.88133091, 3.66173742,\n",
       "       7.92893438, 8.24601024, 5.64540059, 6.05855794, 6.86498546,\n",
       "       9.44484788, 4.17968827, 4.71936728, 2.0571518 , 1.41287929,\n",
       "       1.34895737, 6.49063246, 1.01813476, 0.25818866, 3.83146495,\n",
       "       2.60769353, 0.25914462, 8.18497889, 8.84334241, 5.12016163])"
      ]
     },
     "execution_count": 1,
     "metadata": {},
     "output_type": "execute_result"
    }
   ],
   "source": [
    "# 一元线性回归\n",
    "\n",
    "import numpy as np \n",
    "import pandas as pd \n",
    "import matplotlib.pyplot as plt \n",
    "\n",
    "\n",
    "# 生成横坐标  值在0-10之间  50个点\n",
    "x = np.random.rand(50)*10 \n",
    "x"
   ]
  },
  {
   "cell_type": "code",
   "execution_count": 4,
   "metadata": {
    "scrolled": true
   },
   "outputs": [
    {
     "data": {
      "text/plain": [
       "array([-4.3483762 ,  9.03389769,  6.8141422 , -2.05929084, -3.06382395,\n",
       "       -4.14274492, 13.71585284, -2.44540763,  1.82308783, -3.48744718,\n",
       "       -3.48612663,  5.21669542, -1.91427872,  4.00595577,  5.17929004,\n",
       "       11.24196669, -3.37286861,  0.58773629,  3.51406333, 12.8112781 ,\n",
       "       -2.28656059,  4.50358414, -2.66940752, 12.89926555, 11.0829063 ,\n",
       "        3.96000542,  9.99721202, 11.23226319, 12.76266182,  2.32347485,\n",
       "       10.85786877, 11.49202048,  6.29080118,  7.11711588,  8.72997092,\n",
       "       13.88969576,  3.35937653,  4.43873455, -0.88569641, -2.17424142,\n",
       "       -2.30208525,  7.98126492, -2.96373049, -4.48362268,  2.66292989,\n",
       "        0.21538706, -4.48171076, 11.36995777, 12.68668482,  5.24032325])"
      ]
     },
     "execution_count": 4,
     "metadata": {},
     "output_type": "execute_result"
    }
   ],
   "source": [
    "y  = 2*x - 5 \n",
    "y"
   ]
  },
  {
   "cell_type": "code",
   "execution_count": 7,
   "metadata": {},
   "outputs": [
    {
     "data": {
      "text/plain": [
       "[<matplotlib.lines.Line2D at 0x1184ed3c8>]"
      ]
     },
     "execution_count": 7,
     "metadata": {},
     "output_type": "execute_result"
    },
    {
     "data": {
      "image/png": "[encoded data removed]",
      "text/plain": [
       "<Figure size 432x288 with 1 Axes>"
      ]
     },
     "metadata": {},
     "output_type": "display_data"
    }
   ],
   "source": [
    "plt.plot(x,y,'o')  # 加o  变成点  太直了 没有做回归的必要  下边加点噪声"
   ]
  },
  {
   "cell_type": "code",
   "execution_count": 10,
   "metadata": {
    "scrolled": true
   },
   "outputs": [
    {
     "data": {
      "text/plain": [
       "[<matplotlib.lines.Line2D at 0x1186011d0>]"
      ]
     },
     "execution_count": 10,
     "metadata": {},
     "output_type": "execute_result"
    },
    {
     "data": {
      "image/png": "[encoded data removed]",
      "text/plain": [
       "<Figure size 432x288 with 1 Axes>"
      ]
     },
     "metadata": {},
     "output_type": "display_data"
    }
   ],
   "source": [
    "\n",
    "\n",
    "np.random.seed(420)# 加个随机种子 保证每次生成的随机数都一样 \n",
    "\n",
    "y = 2 * x - 5 + np.random.randn(50) # 加一个服从正态分布的扰动\n",
    "\n",
    "plt.plot(x,y,'o') "
   ]
  },
  {
   "cell_type": "code",
   "execution_count": 11,
   "metadata": {},
   "outputs": [],
   "source": [
    "# 倒入模型\n",
    "\n",
    "from sklearn.linear_model import LinearRegression "
   ]
  },
  {
   "cell_type": "code",
   "execution_count": 12,
   "metadata": {
    "scrolled": true
   },
   "outputs": [
    {
     "data": {
      "text/plain": [
       "array([0.3258119 , 7.01694885, 5.9070711 , 1.47035458, 0.96808802,\n",
       "       0.42862754, 9.35792642, 1.27729619, 3.41154392, 0.75627641,\n",
       "       0.75693669, 5.10834771, 1.54286064, 4.50297789, 5.08964502,\n",
       "       8.12098335, 0.8135657 , 2.79386814, 4.25703167, 8.90563905,\n",
       "       1.3567197 , 4.75179207, 1.16529624, 8.94963278, 8.04145315,\n",
       "       4.48000271, 7.49860601, 8.1161316 , 8.88133091, 3.66173742,\n",
       "       7.92893438, 8.24601024, 5.64540059, 6.05855794, 6.86498546,\n",
       "       9.44484788, 4.17968827, 4.71936728, 2.0571518 , 1.41287929,\n",
       "       1.34895737, 6.49063246, 1.01813476, 0.25818866, 3.83146495,\n",
       "       2.60769353, 0.25914462, 8.18497889, 8.84334241, 5.12016163])"
      ]
     },
     "execution_count": 12,
     "metadata": {},
     "output_type": "execute_result"
    }
   ],
   "source": [
    "# 实例化模型\n",
    "lr  =  LinearRegression(fit_intercept = True)\n",
    "x"
   ]
  },
  {
   "cell_type": "code",
   "execution_count": 14,
   "metadata": {
    "collapsed": true
   },
   "outputs": [
    {
     "data": {
      "text/plain": [
       "array([[0.3258119 ],\n",
       "       [7.01694885],\n",
       "       [5.9070711 ],\n",
       "       [1.47035458],\n",
       "       [0.96808802],\n",
       "       [0.42862754],\n",
       "       [9.35792642],\n",
       "       [1.27729619],\n",
       "       [3.41154392],\n",
       "       [0.75627641],\n",
       "       [0.75693669],\n",
       "       [5.10834771],\n",
       "       [1.54286064],\n",
       "       [4.50297789],\n",
       "       [5.08964502],\n",
       "       [8.12098335],\n",
       "       [0.8135657 ],\n",
       "       [2.79386814],\n",
       "       [4.25703167],\n",
       "       [8.90563905],\n",
       "       [1.3567197 ],\n",
       "       [4.75179207],\n",
       "       [1.16529624],\n",
       "       [8.94963278],\n",
       "       [8.04145315],\n",
       "       [4.48000271],\n",
       "       [7.49860601],\n",
       "       [8.1161316 ],\n",
       "       [8.88133091],\n",
       "       [3.66173742],\n",
       "       [7.92893438],\n",
       "       [8.24601024],\n",
       "       [5.64540059],\n",
       "       [6.05855794],\n",
       "       [6.86498546],\n",
       "       [9.44484788],\n",
       "       [4.17968827],\n",
       "       [4.71936728],\n",
       "       [2.0571518 ],\n",
       "       [1.41287929],\n",
       "       [1.34895737],\n",
       "       [6.49063246],\n",
       "       [1.01813476],\n",
       "       [0.25818866],\n",
       "       [3.83146495],\n",
       "       [2.60769353],\n",
       "       [0.25914462],\n",
       "       [8.18497889],\n",
       "       [8.84334241],\n",
       "       [5.12016163]])"
      ]
     },
     "execution_count": 14,
     "metadata": {},
     "output_type": "execute_result"
    }
   ],
   "source": [
    "x2 = x.reshape(-1,1)\n",
    "x2\n"
   ]
  },
  {
   "cell_type": "code",
   "execution_count": 15,
   "metadata": {},
   "outputs": [
    {
     "data": {
      "text/plain": [
       "LinearRegression()"
      ]
     },
     "execution_count": 15,
     "metadata": {},
     "output_type": "execute_result"
    }
   ],
   "source": [
    "lr.fit(x2,y)"
   ]
  },
  {
   "cell_type": "code",
   "execution_count": 16,
   "metadata": {},
   "outputs": [
    {
     "data": {
      "text/plain": [
       "array([1.99631737])"
      ]
     },
     "execution_count": 16,
     "metadata": {},
     "output_type": "execute_result"
    }
   ],
   "source": [
    "# 斜率\n",
    "lr.coef_"
   ]
  },
  {
   "cell_type": "code",
   "execution_count": 17,
   "metadata": {},
   "outputs": [
    {
     "data": {
      "text/plain": [
       "-5.025759127126021"
      ]
     },
     "execution_count": 17,
     "metadata": {},
     "output_type": "execute_result"
    }
   ],
   "source": [
    "# 截距\n",
    "lr.intercept_"
   ]
  },
  {
   "cell_type": "code",
   "execution_count": 18,
   "metadata": {
    "collapsed": true
   },
   "outputs": [
    {
     "data": {
      "text/plain": [
       "array([ 0.        ,  0.1010101 ,  0.2020202 ,  0.3030303 ,  0.4040404 ,\n",
       "        0.50505051,  0.60606061,  0.70707071,  0.80808081,  0.90909091,\n",
       "        1.01010101,  1.11111111,  1.21212121,  1.31313131,  1.41414141,\n",
       "        1.51515152,  1.61616162,  1.71717172,  1.81818182,  1.91919192,\n",
       "        2.02020202,  2.12121212,  2.22222222,  2.32323232,  2.42424242,\n",
       "        2.52525253,  2.62626263,  2.72727273,  2.82828283,  2.92929293,\n",
       "        3.03030303,  3.13131313,  3.23232323,  3.33333333,  3.43434343,\n",
       "        3.53535354,  3.63636364,  3.73737374,  3.83838384,  3.93939394,\n",
       "        4.04040404,  4.14141414,  4.24242424,  4.34343434,  4.44444444,\n",
       "        4.54545455,  4.64646465,  4.74747475,  4.84848485,  4.94949495,\n",
       "        5.05050505,  5.15151515,  5.25252525,  5.35353535,  5.45454545,\n",
       "        5.55555556,  5.65656566,  5.75757576,  5.85858586,  5.95959596,\n",
       "        6.06060606,  6.16161616,  6.26262626,  6.36363636,  6.46464646,\n",
       "        6.56565657,  6.66666667,  6.76767677,  6.86868687,  6.96969697,\n",
       "        7.07070707,  7.17171717,  7.27272727,  7.37373737,  7.47474747,\n",
       "        7.57575758,  7.67676768,  7.77777778,  7.87878788,  7.97979798,\n",
       "        8.08080808,  8.18181818,  8.28282828,  8.38383838,  8.48484848,\n",
       "        8.58585859,  8.68686869,  8.78787879,  8.88888889,  8.98989899,\n",
       "        9.09090909,  9.19191919,  9.29292929,  9.39393939,  9.49494949,\n",
       "        9.5959596 ,  9.6969697 ,  9.7979798 ,  9.8989899 , 10.        ])"
      ]
     },
     "execution_count": 18,
     "metadata": {},
     "output_type": "execute_result"
    }
   ],
   "source": [
    "# 把拟合好的直线画出来\n",
    "# 生成绘制直线的横坐标\n",
    "xfit = np.linspace(0,10,100) # 0-10 生成100个 \n",
    "xfit"
   ]
  },
  {
   "cell_type": "code",
   "execution_count": 22,
   "metadata": {},
   "outputs": [],
   "source": [
    "yfit = lr.predict(xfit.reshape(-1,1)) # 要转成2维才能用"
   ]
  },
  {
   "cell_type": "code",
   "execution_count": 24,
   "metadata": {},
   "outputs": [
    {
     "data": {
      "text/plain": [
       "[<matplotlib.lines.Line2D at 0x131664d68>]"
      ]
     },
     "execution_count": 24,
     "metadata": {},
     "output_type": "execute_result"
    },
    {
     "data": {
      "image/png": "[encoded data removed]",
      "text/plain": [
       "<Figure size 432x288 with 1 Axes>"
      ]
     },
     "metadata": {},
     "output_type": "display_data"
    }
   ],
   "source": [
    "# 画出点的直线 \n",
    "\n",
    "plt.plot(xfit,yfit)\n",
    "plt.plot(x2,y,'o')"
   ]
  },
  {
   "cell_type": "markdown",
   "metadata": {},
   "source": [
    "# 案例 房价预测 "
   ]
  },
  {
   "cell_type": "code",
   "execution_count": 26,
   "metadata": {},
   "outputs": [],
   "source": [
    "from sklearn.linear_model import LinearRegression \n",
    "from sklearn.model_selection import train_test_split\n",
    "from sklearn.model_selection import cross_val_score\n",
    "from sklearn.datasets import fetch_california_housing \n",
    "import pandas as pd "
   ]
  },
  {
   "cell_type": "code",
   "execution_count": null,
   "metadata": {},
   "outputs": [],
   "source": [
    "housevalue =  fetch_california_housing()  #  下载数据"
   ]
  },
  {
   "cell_type": "code",
   "execution_count": null,
   "metadata": {},
   "outputs": [],
   "source": [
    "housevalue1  = pd.read_csv('./BostonHousing.csv')\n",
    "housevalue1"
   ]
  },
  {
   "cell_type": "code",
   "execution_count": null,
   "metadata": {},
   "outputs": [],
   "source": [
    "X = pd.DataFrame(housevalue,data,columns = housevalue.feature_names)\n",
    "\n",
    "y = housevalue.target"
   ]
  },
  {
   "cell_type": "code",
   "execution_count": null,
   "metadata": {},
   "outputs": [],
   "source": [
    "# 拆分数据集  训练集和测试集\n",
    "\n",
    "Xtrain ,Xtest , Ytrain ,Ytest  = train_test_split[X,y,test_size = 0.3,random_state = 420]\n",
    "Xtrain "
   ]
  },
  {
   "cell_type": "code",
   "execution_count": null,
   "metadata": {},
   "outputs": [],
   "source": [
    "# 线性回归建模\n",
    "lr  = linearRegression()\n",
    "# 训练数据\n",
    "\n",
    "lr.fit(Xtrain,Ytrain)\n",
    "\n",
    "# 训练完之后先不评分 先做评估\n",
    "\n",
    "# 模型评估\n"
   ]
  },
  {
   "cell_type": "code",
   "execution_count": null,
   "metadata": {},
   "outputs": [],
   "source": [
    "# MSE 均方误差\n",
    "from sklearn.matics import mean_squared_error "
   ]
  },
  {
   "cell_type": "code",
   "execution_count": null,
   "metadata": {},
   "outputs": [],
   "source": [
    "# 对训练集做预测\n",
    "\n",
    "y_pred = lr.predict(Xtrain) # 得到预测结果"
   ]
  },
  {
   "cell_type": "code",
   "execution_count": null,
   "metadata": {},
   "outputs": [],
   "source": [
    "# 评估训练集 拟合情况  第一个参数是真实标签 ， 第二个参数是预测标签\n",
    "# 越小 越趋于0越好\n",
    "mean_squared_error(Ytrain,y_pred)\n",
    "\n",
    "\n",
    "# 然后评估测试集情况\n",
    "\n",
    "y_test_pred = lr.predeict(X_test)\n",
    "mean_squared_error(Ytest,y_test_pred)\n",
    "\n",
    "# MSE 单靠自己不能说明问题 还要配合R方 \n",
    "# 发现MSE太大的时候也不一定就是模型不好\n",
    "\n"
   ]
  },
  {
   "cell_type": "code",
   "execution_count": null,
   "metadata": {},
   "outputs": [],
   "source": [
    "#交叉验证\n",
    "# 使用MSE做了10次验证   cv=10  10-fold\n",
    "\n",
    "lr2 =  LinearRegression()\n",
    "cross_val_score(lr2,Xtrain,Ytrain,cv=10,scoring = 'neg_mean_squared_error')\n",
    "\n",
    "import sklearn\n",
    "sorted(sklearn.metrics.SCORERS.keys())\n"
   ]
  },
  {
   "cell_type": "code",
   "execution_count": null,
   "metadata": {},
   "outputs": [],
   "source": [
    "# 取10个结果的均值\n",
    "cross_val_score(lr2,Xtrain,Ytrain,cv=10,scoring = 'neg_mean_squared_error').mean()"
   ]
  },
  {
   "cell_type": "code",
   "execution_count": null,
   "metadata": {},
   "outputs": [],
   "source": [
    "# MAE绝对均值误差\n",
    "\n",
    "from sklearn.metrics import mean_absolute_error \n",
    "\n",
    "mean_absolute_error(Ytrain,y_pred)\n",
    "\n",
    "# MAE和MSE差不多 取一个用就行\n",
    "cross_val_score(lr2,Xtrain,Ytrain,cv=10,scoring = 'neg_mean_absolute_error').mean()\n"
   ]
  },
  {
   "cell_type": "code",
   "execution_count": null,
   "metadata": {},
   "outputs": [],
   "source": [
    "\n",
    "from sklearn.metrics import r2_score\n",
    "r2_score(Ytrain,y_pred) # score用的就是R方\n",
    "r2_score(Ytest,y_test_pred)\n",
    "\n",
    "lr.score(Xtrain,Ytrain)\n",
    "\n",
    "lr.score(Xtest,Ttest )\n",
    "\n",
    "# 交叉验证\n",
    "\n",
    "cross_val_score(lr,Xtrain,Ytrain,cv = 10, scorling ='r2' )\n",
    "cross_val_score(lr,Xtrain,Ytrain,cv = 10, scorling ='r2' ).mean()\n",
    "\n",
    "\n",
    "# 看模型系数\n",
    "\n",
    "lr.coef_\n",
    "lr.intercept_\n",
    "\n",
    "# 我们在用W来描述X和Y的关系 \n",
    "list(zip(X.colums,lr.coef_))\n"
   ]
  },
  {
   "cell_type": "code",
   "execution_count": null,
   "metadata": {},
   "outputs": [],
   "source": [
    "# 归一化（标准化）之后再训练  \n",
    "\n",
    "from sklearn.preprocessing import StandardScaler \n",
    "\n",
    "std = Standardscaler()\n",
    "\n",
    "# 对训练集进行标准化 \n",
    "X_train_std = std.fit_tranform(Xtrain)\n",
    "\n",
    "X_train_std"
   ]
  },
  {
   "cell_type": "code",
   "execution_count": null,
   "metadata": {},
   "outputs": [],
   "source": [
    "#标准化后拟合  因为特征相差不大 所以性能只提升了一点点\n",
    "lr3 = LinearRegression()\n",
    "lr3.fit(X_train_std,Ytrain)\n",
    "lr3.score(X_train_std,Ytrain)"
   ]
  },
  {
   "cell_type": "code",
   "execution_count": null,
   "metadata": {},
   "outputs": [],
   "source": [
    "# 画图：\n",
    "\n",
    "plt.scatter(range(len(Ytest)),Ytest,s=2)\n",
    "plt.show() \n",
    "\n",
    "\n",
    "# 因为无序 所以乱七八糟的\n",
    "\n",
    " # 排个序\n",
    "    \n",
    "sorted(Ytest) \n",
    "\n",
    "plt.scatter(range(len(Ytest)),sorted(Ytest) ,s=2)\n",
    "plt.show() \n",
    "\n",
    "# 那预测值和真实值的对应关系 怎么匹配 \n",
    "\n",
    "# 通过索引找  \n",
    "np.argsort(Ytest) # 得到排序之后的索引序列\n",
    "\n",
    "# 验证一下\n",
    "\n",
    "Ytest[2477]\n",
    "\n",
    "y_test_pred[np.argsort(Ytest)]\n",
    "\n",
    "plt.scatter(range(len(Ytest)),sorted(Ytest),s = 2 , label  = 'True' )\n",
    "plt.scatter(range(len(Ytest)),y_test_pred[np.argsort(Ytest)],s=2 , c = 'z', label ='Predict',alpha = 0.3 )\n",
    "\n",
    "plt.legend()\n",
    "plt.show()\n",
    "\n",
    "\n"
   ]
  },
  {
   "cell_type": "code",
   "execution_count": null,
   "metadata": {},
   "outputs": [],
   "source": [
    "# 最小二乘法好用但是条件苛刻。\n",
    "# 大多数情况下条件不好满足，所以要找一个相对好用的。\n",
    "\n",
    "\n",
    "# 做转化\n",
    "from sklearn.preprocessing import PolynomialFeatures \n",
    "poly  = PolunomialFeatures(degree = 2).fit(X,y) # 控制多项式的阶数 \n",
    "poly.get_feature_names(x.columns)\n",
    "\n",
    "\n",
    "X_ = poly.transform(X)\n",
    "\n",
    "X_"
   ]
  },
  {
   "cell_type": "code",
   "execution_count": null,
   "metadata": {},
   "outputs": [],
   "source": [
    "# 转化后 建模训练\n",
    "\n",
    "reg = LinearRegression().fit(X_,y) # \n",
    "reg.coef_\n"
   ]
  },
  {
   "cell_type": "code",
   "execution_count": null,
   "metadata": {},
   "outputs": [],
   "source": [
    "zip(poly.get_feature_names(X.columns),reg.coef_)\n",
    "\n",
    "# 放dataframe里观察一下\n",
    "\n",
    "pd.DataFrame([poly.get_feature_names(X.columns),reg.coef_.tolist()]).T\n",
    "\n"
   ]
  },
  {
   "cell_type": "code",
   "execution_count": null,
   "metadata": {},
   "outputs": [],
   "source": [
    "# 向外f 可以做替换 棒 \n",
    "\n",
    "#变换前的模型和拟合效果\n",
    "\n",
    "poly  = PolynomialFeatures(degree = 2 ).fit(X,y)\n",
    "\n",
    "X_ = poly.transform(X)\n",
    "\n",
    "\n",
    "# 变换后性能\n",
    "\n",
    "lr  = LinearRgression().fit(X_,y)\n",
    "lr.score(X_,y)\n",
    "\n",
    "\n",
    "# 变换前 性能\n",
    "lr  = LinearRgression().fit(X,y)\n",
    "lr.score(X_,y)\n",
    "\n",
    "# 做了多项式转换后 模型效果提升了"
   ]
  }
 ],
 "metadata": {
  "kernelspec": {
   "display_name": "Python 3",
   "language": "python",
   "name": "python3"
  },
  "language_info": {
   "codemirror_mode": {
    "name": "ipython",
    "version": 3
   },
   "file_extension": ".py",
   "mimetype": "text/x-python",
   "name": "python",
   "nbconvert_exporter": "python",
   "pygments_lexer": "ipython3",
   "version": "3.6.8"
  },
  "toc": {
   "base_numbering": 1,
   "nav_menu": {},
   "number_sections": true,
   "sideBar": true,
   "skip_h1_title": false,
   "title_cell": "Table of Contents",
   "title_sidebar": "Contents",
   "toc_cell": false,
   "toc_position": {},
   "toc_section_display": true,
   "toc_window_display": false
  }
 },
 "nbformat": 4,
 "nbformat_minor": 2
}
